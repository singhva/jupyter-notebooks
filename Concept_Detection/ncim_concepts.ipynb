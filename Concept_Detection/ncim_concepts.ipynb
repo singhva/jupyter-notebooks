{
 "cells": [
  {
   "cell_type": "code",
   "execution_count": 1,
   "metadata": {
    "collapsed": true
   },
   "outputs": [],
   "source": [
    "import os, sys, re\n",
    "import json\n",
    "from watson_developer_cloud import AlchemyLanguageV1\n",
    "import pandas as pd\n",
    "from sklearn.pipeline import Pipeline\n",
    "from sklearn.feature_extraction.text import TfidfVectorizer\n",
    "from sklearn.naive_bayes import MultinomialNB\n",
    "from sklearn.preprocessing import LabelEncoder\n",
    "from sklearn.model_selection import train_test_split\n",
    "from com.ibm.watson import DESKTOP, DOCS_DIR"
   ]
  },
  {
   "cell_type": "code",
   "execution_count": 2,
   "metadata": {
    "collapsed": true
   },
   "outputs": [],
   "source": [
    "base_dir = os.path.join(DESKTOP, \"Concept_Detection\")"
   ]
  },
  {
   "cell_type": "code",
   "execution_count": 3,
   "metadata": {
    "collapsed": true
   },
   "outputs": [],
   "source": [
    "stop_words = sum([ line.strip().split(\", \") for line in open(\"/Users/singhv/Documents/Data/DL/pubmed_stopwords.txt\") ], [])"
   ]
  },
  {
   "cell_type": "code",
   "execution_count": 4,
   "metadata": {
    "collapsed": true
   },
   "outputs": [],
   "source": [
    "vectorizer = TfidfVectorizer(strip_accents='unicode', analyzer='word', ngram_range=(1,3), stop_words=stop_words)\n",
    "classifier = MultinomialNB()\n",
    "text_clf = Pipeline([ ('vect', vectorizer), ('clf', classifier) ])"
   ]
  },
  {
   "cell_type": "code",
   "execution_count": 5,
   "metadata": {
    "collapsed": true
   },
   "outputs": [],
   "source": [
    "df = pd.read_csv(os.path.join(base_dir, \"datasheet_for_CUI_code_concept_detection.csv\"))"
   ]
  },
  {
   "cell_type": "code",
   "execution_count": 6,
   "metadata": {},
   "outputs": [
    {
     "name": "stdout",
     "output_type": "stream",
     "text": [
      "496362\n",
      "Index([u'CUI', u'NCI_CODES', u'PCUI', u'P_NCI_CODES', u'STR', u'SAB', u'STY',\n",
      "       u'SYNS'],\n",
      "      dtype='object')\n"
     ]
    }
   ],
   "source": [
    "print len(df)\n",
    "print df.columns"
   ]
  },
  {
   "cell_type": "code",
   "execution_count": 7,
   "metadata": {
    "collapsed": true
   },
   "outputs": [],
   "source": [
    "grouped = df.groupby(['STY'])\n",
    "#print grouped.groups.keys()"
   ]
  },
  {
   "cell_type": "code",
   "execution_count": 8,
   "metadata": {
    "collapsed": true
   },
   "outputs": [],
   "source": [
    "le = LabelEncoder()\n",
    "le.fit(grouped.groups.keys())\n",
    "#print le.classes_\n",
    "labels = le.transform(df[\"STY\"])\n",
    "#print labels"
   ]
  },
  {
   "cell_type": "code",
   "execution_count": 9,
   "metadata": {},
   "outputs": [
    {
     "name": "stdout",
     "output_type": "stream",
     "text": [
      "['Activity' 'Age Group' 'Chemical Viewed Structurally']\n",
      "30\n"
     ]
    }
   ],
   "source": [
    "print le.inverse_transform([1,2, 30])\n",
    "print labels[1734]"
   ]
  },
  {
   "cell_type": "code",
   "execution_count": 24,
   "metadata": {},
   "outputs": [
    {
     "data": {
      "text/html": [
       "<div>\n",
       "<style>\n",
       "    .dataframe thead tr:only-child th {\n",
       "        text-align: right;\n",
       "    }\n",
       "\n",
       "    .dataframe thead th {\n",
       "        text-align: left;\n",
       "    }\n",
       "\n",
       "    .dataframe tbody tr th {\n",
       "        vertical-align: top;\n",
       "    }\n",
       "</style>\n",
       "<table border=\"1\" class=\"dataframe\">\n",
       "  <thead>\n",
       "    <tr style=\"text-align: right;\">\n",
       "      <th></th>\n",
       "      <th>CUI</th>\n",
       "      <th>NCI_CODES</th>\n",
       "      <th>PCUI</th>\n",
       "      <th>P_NCI_CODES</th>\n",
       "      <th>STR</th>\n",
       "      <th>SAB</th>\n",
       "      <th>STY</th>\n",
       "      <th>SYNS</th>\n",
       "    </tr>\n",
       "  </thead>\n",
       "  <tbody>\n",
       "    <tr>\n",
       "      <th>809</th>\n",
       "      <td>C0003062</td>\n",
       "      <td>C14182</td>\n",
       "      <td>C0029235</td>\n",
       "      <td>C14250</td>\n",
       "      <td>Animal</td>\n",
       "      <td>NCI</td>\n",
       "      <td>Animal</td>\n",
       "      <td>Animal| Animal| Animals| Animals| Animalia| Ki...</td>\n",
       "    </tr>\n",
       "    <tr>\n",
       "      <th>810</th>\n",
       "      <td>C0003063</td>\n",
       "      <td>C117982</td>\n",
       "      <td>C1518665</td>\n",
       "      <td>C14376</td>\n",
       "      <td>Domestic Animal</td>\n",
       "      <td>NCI</td>\n",
       "      <td>Animal</td>\n",
       "      <td>Domestic Animal</td>\n",
       "    </tr>\n",
       "    <tr>\n",
       "      <th>811</th>\n",
       "      <td>C0003064</td>\n",
       "      <td>C14183</td>\n",
       "      <td>C1517710</td>\n",
       "      <td>C14354</td>\n",
       "      <td>Laboratory Animal</td>\n",
       "      <td>NCI</td>\n",
       "      <td>Animal</td>\n",
       "      <td>Laboratory Animal</td>\n",
       "    </tr>\n",
       "    <tr>\n",
       "      <th>812</th>\n",
       "      <td>C0003069</td>\n",
       "      <td>C14184</td>\n",
       "      <td>C0003064</td>\n",
       "      <td>C14183</td>\n",
       "      <td>Transgenic Animal</td>\n",
       "      <td>NCI</td>\n",
       "      <td>Animal</td>\n",
       "      <td>Transgenic Animal| Animals, Transgenic| Transg...</td>\n",
       "    </tr>\n",
       "    <tr>\n",
       "      <th>3891</th>\n",
       "      <td>C0012656</td>\n",
       "      <td>C14198</td>\n",
       "      <td>C0314732</td>\n",
       "      <td>C14316</td>\n",
       "      <td>Disease Vector</td>\n",
       "      <td>NCI</td>\n",
       "      <td>Animal</td>\n",
       "      <td>Disease Vector| Disease Vectors| Vector (Infec...</td>\n",
       "    </tr>\n",
       "    <tr>\n",
       "      <th>183930</th>\n",
       "      <td>C0562690</td>\n",
       "      <td>NaN</td>\n",
       "      <td>C0562623</td>\n",
       "      <td>NaN</td>\n",
       "      <td>Carnivore</td>\n",
       "      <td>SNOMEDCT_US</td>\n",
       "      <td>Animal</td>\n",
       "      <td>Carnivore| Carnivore (organism)</td>\n",
       "    </tr>\n",
       "    <tr>\n",
       "      <th>183931</th>\n",
       "      <td>C0562691</td>\n",
       "      <td>NaN</td>\n",
       "      <td>C0562623</td>\n",
       "      <td>NaN</td>\n",
       "      <td>Herbivore</td>\n",
       "      <td>SNOMEDCT_US</td>\n",
       "      <td>Animal</td>\n",
       "      <td>Herbivore| Herbivore (organism)</td>\n",
       "    </tr>\n",
       "    <tr>\n",
       "      <th>183932</th>\n",
       "      <td>C0562693</td>\n",
       "      <td>NaN</td>\n",
       "      <td>C0562623</td>\n",
       "      <td>NaN</td>\n",
       "      <td>Omnivore</td>\n",
       "      <td>SNOMEDCT_US</td>\n",
       "      <td>Animal</td>\n",
       "      <td>Omnivore| Omnivore (organism)</td>\n",
       "    </tr>\n",
       "    <tr>\n",
       "      <th>183933</th>\n",
       "      <td>C0562694</td>\n",
       "      <td>NaN</td>\n",
       "      <td>C0562691</td>\n",
       "      <td>NaN</td>\n",
       "      <td>Frugivore</td>\n",
       "      <td>SNOMEDCT_US</td>\n",
       "      <td>Animal</td>\n",
       "      <td>Frugivore| Fructivore| Frugivore (organism)</td>\n",
       "    </tr>\n",
       "    <tr>\n",
       "      <th>208414</th>\n",
       "      <td>C0599779</td>\n",
       "      <td>C71164</td>\n",
       "      <td>C1515657</td>\n",
       "      <td>C19148</td>\n",
       "      <td>Animal Model</td>\n",
       "      <td>NCI</td>\n",
       "      <td>Animal</td>\n",
       "      <td>Animal Model| Animal Model, Generic| Research ...</td>\n",
       "    </tr>\n",
       "    <tr>\n",
       "      <th>209942</th>\n",
       "      <td>C0682518</td>\n",
       "      <td>C94171</td>\n",
       "      <td>C1518614</td>\n",
       "      <td>C14419</td>\n",
       "      <td>Animal Organism Strain</td>\n",
       "      <td>NCI</td>\n",
       "      <td>Animal</td>\n",
       "      <td>Animal Organism Strain</td>\n",
       "    </tr>\n",
       "    <tr>\n",
       "      <th>245118</th>\n",
       "      <td>C0920312</td>\n",
       "      <td>NaN</td>\n",
       "      <td>C0003062</td>\n",
       "      <td>C14182</td>\n",
       "      <td>Phylum Chordata</td>\n",
       "      <td>SNOMEDCT_US</td>\n",
       "      <td>Animal</td>\n",
       "      <td>Phylum Chordata (organism)| Phylum Chordata| C...</td>\n",
       "    </tr>\n",
       "    <tr>\n",
       "      <th>358185</th>\n",
       "      <td>C1705485</td>\n",
       "      <td>C47918</td>\n",
       "      <td>C0003064</td>\n",
       "      <td>C14183</td>\n",
       "      <td>Female-to-Male Transsexual Animal</td>\n",
       "      <td>NCI</td>\n",
       "      <td>Animal</td>\n",
       "      <td>Female-to-Male Transsexual Animal| Female-to-M...</td>\n",
       "    </tr>\n",
       "    <tr>\n",
       "      <th>358187</th>\n",
       "      <td>C1705487</td>\n",
       "      <td>C47917</td>\n",
       "      <td>C0003064</td>\n",
       "      <td>C14183</td>\n",
       "      <td>Male-to-Female Transsexual Animal</td>\n",
       "      <td>NCI</td>\n",
       "      <td>Animal</td>\n",
       "      <td>Male-to-Female Transsexual Animal| Male-to-Fem...</td>\n",
       "    </tr>\n",
       "    <tr>\n",
       "      <th>358578</th>\n",
       "      <td>C1705908</td>\n",
       "      <td>C53691</td>\n",
       "      <td>C1518665</td>\n",
       "      <td>C14376</td>\n",
       "      <td>Veterinary Patient</td>\n",
       "      <td>NCI</td>\n",
       "      <td>Animal</td>\n",
       "      <td>Veterinary Patient| Patient</td>\n",
       "    </tr>\n",
       "    <tr>\n",
       "      <th>363657</th>\n",
       "      <td>C1719841</td>\n",
       "      <td>NaN</td>\n",
       "      <td>C0003062</td>\n",
       "      <td>C14182</td>\n",
       "      <td>Phylum Loricifera</td>\n",
       "      <td>SNOMEDCT_US</td>\n",
       "      <td>Animal</td>\n",
       "      <td>Phylum Loricifera| Loricifera| Phylum Loricife...</td>\n",
       "    </tr>\n",
       "    <tr>\n",
       "      <th>487418</th>\n",
       "      <td>CL502717</td>\n",
       "      <td>C124387</td>\n",
       "      <td>C0036315</td>\n",
       "      <td>C124285</td>\n",
       "      <td>Schistosoma Cercariae</td>\n",
       "      <td>NCI</td>\n",
       "      <td>Animal</td>\n",
       "      <td>Schistosoma Cercariae</td>\n",
       "    </tr>\n",
       "  </tbody>\n",
       "</table>\n",
       "</div>"
      ],
      "text/plain": [
       "             CUI NCI_CODES      PCUI P_NCI_CODES  \\\n",
       "809     C0003062    C14182  C0029235      C14250   \n",
       "810     C0003063   C117982  C1518665      C14376   \n",
       "811     C0003064    C14183  C1517710      C14354   \n",
       "812     C0003069    C14184  C0003064      C14183   \n",
       "3891    C0012656    C14198  C0314732      C14316   \n",
       "183930  C0562690       NaN  C0562623         NaN   \n",
       "183931  C0562691       NaN  C0562623         NaN   \n",
       "183932  C0562693       NaN  C0562623         NaN   \n",
       "183933  C0562694       NaN  C0562691         NaN   \n",
       "208414  C0599779    C71164  C1515657      C19148   \n",
       "209942  C0682518    C94171  C1518614      C14419   \n",
       "245118  C0920312       NaN  C0003062      C14182   \n",
       "358185  C1705485    C47918  C0003064      C14183   \n",
       "358187  C1705487    C47917  C0003064      C14183   \n",
       "358578  C1705908    C53691  C1518665      C14376   \n",
       "363657  C1719841       NaN  C0003062      C14182   \n",
       "487418  CL502717   C124387  C0036315     C124285   \n",
       "\n",
       "                                      STR          SAB     STY  \\\n",
       "809                                Animal          NCI  Animal   \n",
       "810                       Domestic Animal          NCI  Animal   \n",
       "811                     Laboratory Animal          NCI  Animal   \n",
       "812                     Transgenic Animal          NCI  Animal   \n",
       "3891                       Disease Vector          NCI  Animal   \n",
       "183930                          Carnivore  SNOMEDCT_US  Animal   \n",
       "183931                          Herbivore  SNOMEDCT_US  Animal   \n",
       "183932                           Omnivore  SNOMEDCT_US  Animal   \n",
       "183933                          Frugivore  SNOMEDCT_US  Animal   \n",
       "208414                       Animal Model          NCI  Animal   \n",
       "209942             Animal Organism Strain          NCI  Animal   \n",
       "245118                    Phylum Chordata  SNOMEDCT_US  Animal   \n",
       "358185  Female-to-Male Transsexual Animal          NCI  Animal   \n",
       "358187  Male-to-Female Transsexual Animal          NCI  Animal   \n",
       "358578                 Veterinary Patient          NCI  Animal   \n",
       "363657                  Phylum Loricifera  SNOMEDCT_US  Animal   \n",
       "487418              Schistosoma Cercariae          NCI  Animal   \n",
       "\n",
       "                                                     SYNS  \n",
       "809     Animal| Animal| Animals| Animals| Animalia| Ki...  \n",
       "810                                       Domestic Animal  \n",
       "811                                     Laboratory Animal  \n",
       "812     Transgenic Animal| Animals, Transgenic| Transg...  \n",
       "3891    Disease Vector| Disease Vectors| Vector (Infec...  \n",
       "183930                    Carnivore| Carnivore (organism)  \n",
       "183931                    Herbivore| Herbivore (organism)  \n",
       "183932                      Omnivore| Omnivore (organism)  \n",
       "183933        Frugivore| Fructivore| Frugivore (organism)  \n",
       "208414  Animal Model| Animal Model, Generic| Research ...  \n",
       "209942                             Animal Organism Strain  \n",
       "245118  Phylum Chordata (organism)| Phylum Chordata| C...  \n",
       "358185  Female-to-Male Transsexual Animal| Female-to-M...  \n",
       "358187  Male-to-Female Transsexual Animal| Male-to-Fem...  \n",
       "358578                        Veterinary Patient| Patient  \n",
       "363657  Phylum Loricifera| Loricifera| Phylum Loricife...  \n",
       "487418                              Schistosoma Cercariae  "
      ]
     },
     "execution_count": 24,
     "metadata": {},
     "output_type": "execute_result"
    }
   ],
   "source": [
    "df[df[\"STY\"].isin(['Animal'])]"
   ]
  },
  {
   "cell_type": "code",
   "execution_count": null,
   "metadata": {},
   "outputs": [],
   "source": [
    "X_train, X_test, y_train, y_test = train_test_split(df, train_size = 0.8, stratify = df[\"STY\"])"
   ]
  },
  {
   "cell_type": "code",
   "execution_count": 13,
   "metadata": {},
   "outputs": [
    {
     "data": {
      "text/plain": [
       "Pipeline(steps=[('vect', TfidfVectorizer(analyzer='word', binary=False, decode_error=u'strict',\n",
       "        dtype=<type 'numpy.int64'>, encoding=u'utf-8', input=u'content',\n",
       "        lowercase=True, max_df=1.0, max_features=None, min_df=1,\n",
       "        ngram_range=(1, 3), norm=u'l2', preprocessor=None, smooth_idf=True,...rue,\n",
       "        vocabulary=None)), ('clf', MultinomialNB(alpha=1.0, class_prior=None, fit_prior=True))])"
      ]
     },
     "execution_count": 13,
     "metadata": {},
     "output_type": "execute_result"
    }
   ],
   "source": [
    "text_clf.fit(df[\"STR\"], labels)"
   ]
  },
  {
   "cell_type": "code",
   "execution_count": 25,
   "metadata": {},
   "outputs": [
    {
     "name": "stdout",
     "output_type": "stream",
     "text": [
      "[88]\n",
      "[['Neoplastic Process']]\n"
     ]
    }
   ],
   "source": [
    "cls = text_clf.predict([\"lobular carcinoma\"])\n",
    "print cls\n",
    "print le.inverse_transform([cls])"
   ]
  },
  {
   "cell_type": "code",
   "execution_count": 27,
   "metadata": {},
   "outputs": [
    {
     "data": {
      "text/plain": [
       "STY\n",
       "Vertebrate                                  1\n",
       "Carbohydrate Sequence                       2\n",
       "Molecular Sequence                          3\n",
       "Fully Formed Anatomical Structure           5\n",
       "Chemical                                    6\n",
       "Self-help or Relief Organization            8\n",
       "Entity                                     11\n",
       "Professional Society                       17\n",
       "Animal                                     17\n",
       "Group                                      20\n",
       "Behavior                                   20\n",
       "Environmental Effect of Humans             21\n",
       "Group Attribute                            26\n",
       "Physical Object                            35\n",
       "Biologic Function                          40\n",
       "Research Device                            41\n",
       "Age Group                                  45\n",
       "Patient or Disabled Group                  50\n",
       "Organism                                   62\n",
       "Experimental Model of Disease              85\n",
       "Nucleotide Sequence                        87\n",
       "Human                                     101\n",
       "Antibiotic                                101\n",
       "Drug Delivery Device                      109\n",
       "Chemical Viewed Structurally              122\n",
       "Hormone                                   137\n",
       "Amino Acid Sequence                       140\n",
       "Amphibian                                 146\n",
       "Molecular Biology Research Technique      155\n",
       "Chemical Viewed Functionally              160\n",
       "                                        ...  \n",
       "Biologically Active Substance            3607\n",
       "Spatial Concept                          3695\n",
       "Professional or Occupational Group       3963\n",
       "Geographic Area                          4236\n",
       "Congenital Abnormality                   4236\n",
       "Mammal                                   4627\n",
       "Enzyme                                   4655\n",
       "Organic Chemical                         4799\n",
       "Eukaryote                                4801\n",
       "Quantitative Concept                     4858\n",
       "Immunologic Factor                       5316\n",
       "Tissue                                   6054\n",
       "Pathologic Function                      6107\n",
       "Health Care Activity                     6587\n",
       "Body Space or Junction                   7838\n",
       "Diagnostic Procedure                     8656\n",
       "Clinical Drug                            8875\n",
       "Gene or Genome                          10920\n",
       "Laboratory Procedure                    11349\n",
       "Bacterium                               12507\n",
       "Medical Device                          14176\n",
       "Intellectual Product                    14551\n",
       "Neoplastic Process                      16528\n",
       "Pharmacologic Substance                 18496\n",
       "Body Location or Region                 18764\n",
       "Injury or Poisoning                     21269\n",
       "Disease or Syndrome                     36817\n",
       "Therapeutic or Preventive Procedure     37309\n",
       "Finding                                 46419\n",
       "Body Part, Organ, or Organ Component    73624\n",
       "Length: 127, dtype: int64"
      ]
     },
     "execution_count": 27,
     "metadata": {},
     "output_type": "execute_result"
    }
   ],
   "source": [
    "grouped.size().sort_values()"
   ]
  },
  {
   "cell_type": "code",
   "execution_count": null,
   "metadata": {
    "collapsed": true
   },
   "outputs": [],
   "source": []
  }
 ],
 "metadata": {
  "kernelspec": {
   "display_name": "Python 2",
   "language": "python",
   "name": "python2"
  },
  "language_info": {
   "codemirror_mode": {
    "name": "ipython",
    "version": 2
   },
   "file_extension": ".py",
   "mimetype": "text/x-python",
   "name": "python",
   "nbconvert_exporter": "python",
   "pygments_lexer": "ipython2",
   "version": "2.7.12"
  }
 },
 "nbformat": 4,
 "nbformat_minor": 2
}
