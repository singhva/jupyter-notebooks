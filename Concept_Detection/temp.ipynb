{
 "cells": [
  {
   "cell_type": "code",
   "execution_count": 1,
   "metadata": {
    "collapsed": true
   },
   "outputs": [],
   "source": [
    "import pandas as pd\n",
    "import os, sys, re"
   ]
  },
  {
   "cell_type": "code",
   "execution_count": 2,
   "metadata": {
    "collapsed": true
   },
   "outputs": [],
   "source": [
    "base_dir = \"/Users/singhv/Desktop/Concept_Detection\""
   ]
  },
  {
   "cell_type": "code",
   "execution_count": 3,
   "metadata": {
    "collapsed": true
   },
   "outputs": [],
   "source": [
    "datasheet = pd.read_csv(os.path.join(base_dir, \"datasheet_for_CUI_code_concept_detection.csv\"))"
   ]
  },
  {
   "cell_type": "code",
   "execution_count": 4,
   "metadata": {},
   "outputs": [
    {
     "data": {
      "text/html": [
       "<div>\n",
       "<style>\n",
       "    .dataframe thead tr:only-child th {\n",
       "        text-align: right;\n",
       "    }\n",
       "\n",
       "    .dataframe thead th {\n",
       "        text-align: left;\n",
       "    }\n",
       "\n",
       "    .dataframe tbody tr th {\n",
       "        vertical-align: top;\n",
       "    }\n",
       "</style>\n",
       "<table border=\"1\" class=\"dataframe\">\n",
       "  <thead>\n",
       "    <tr style=\"text-align: right;\">\n",
       "      <th></th>\n",
       "      <th>CUI</th>\n",
       "      <th>NCI_CODES</th>\n",
       "      <th>PCUI</th>\n",
       "      <th>P_NCI_CODES</th>\n",
       "      <th>STR</th>\n",
       "      <th>SAB</th>\n",
       "      <th>STY</th>\n",
       "      <th>SYNS</th>\n",
       "    </tr>\n",
       "  </thead>\n",
       "  <tbody>\n",
       "    <tr>\n",
       "      <th>0</th>\n",
       "      <td>C0000097</td>\n",
       "      <td>NaN</td>\n",
       "      <td>C0576798</td>\n",
       "      <td>NaN</td>\n",
       "      <td>Methylphenyltetrahydropyridine</td>\n",
       "      <td>SNOMEDCT_US</td>\n",
       "      <td>Organic Chemical</td>\n",
       "      <td>Methylphenyltetrahydropyridine| Methylphenylte...</td>\n",
       "    </tr>\n",
       "    <tr>\n",
       "      <th>1</th>\n",
       "      <td>C0000102</td>\n",
       "      <td>NaN</td>\n",
       "      <td>CL448668</td>\n",
       "      <td>C1743</td>\n",
       "      <td>1-Naththylamine</td>\n",
       "      <td>SNOMEDCT_US</td>\n",
       "      <td>Organic Chemical</td>\n",
       "      <td>1-Naththylamine| 1-Naththylamine (substance)| ...</td>\n",
       "    </tr>\n",
       "    <tr>\n",
       "      <th>2</th>\n",
       "      <td>C0000152</td>\n",
       "      <td>C16254</td>\n",
       "      <td>C0030016</td>\n",
       "      <td>C16946</td>\n",
       "      <td>Estradiol 17-Beta-Dehydrogenase 2</td>\n",
       "      <td>NCI</td>\n",
       "      <td>Enzyme</td>\n",
       "      <td>Estradiol 17-Beta-Dehydrogenase 2| EC 1.1.1.62...</td>\n",
       "    </tr>\n",
       "    <tr>\n",
       "      <th>3</th>\n",
       "      <td>C0000163</td>\n",
       "      <td>NaN</td>\n",
       "      <td>C0017710</td>\n",
       "      <td>C2323</td>\n",
       "      <td>17-Hydroxycorticosteroid</td>\n",
       "      <td>SNOMEDCT_US</td>\n",
       "      <td>Organic Chemical</td>\n",
       "      <td>17-Hydroxycorticosteroids| 17-Hydroxycorticost...</td>\n",
       "    </tr>\n",
       "    <tr>\n",
       "      <th>4</th>\n",
       "      <td>C0000167</td>\n",
       "      <td>NaN</td>\n",
       "      <td>C0582125</td>\n",
       "      <td>NaN</td>\n",
       "      <td>17-Ketosteroid</td>\n",
       "      <td>SNOMEDCT_US</td>\n",
       "      <td>Pharmacologic Substance</td>\n",
       "      <td>17-Ketosteroid| 17-Ketosteroid (substance)| 17...</td>\n",
       "    </tr>\n",
       "  </tbody>\n",
       "</table>\n",
       "</div>"
      ],
      "text/plain": [
       "        CUI NCI_CODES      PCUI P_NCI_CODES  \\\n",
       "0  C0000097       NaN  C0576798         NaN   \n",
       "1  C0000102       NaN  CL448668       C1743   \n",
       "2  C0000152    C16254  C0030016      C16946   \n",
       "3  C0000163       NaN  C0017710       C2323   \n",
       "4  C0000167       NaN  C0582125         NaN   \n",
       "\n",
       "                                 STR          SAB                      STY  \\\n",
       "0     Methylphenyltetrahydropyridine  SNOMEDCT_US         Organic Chemical   \n",
       "1                    1-Naththylamine  SNOMEDCT_US         Organic Chemical   \n",
       "2  Estradiol 17-Beta-Dehydrogenase 2          NCI                   Enzyme   \n",
       "3           17-Hydroxycorticosteroid  SNOMEDCT_US         Organic Chemical   \n",
       "4                     17-Ketosteroid  SNOMEDCT_US  Pharmacologic Substance   \n",
       "\n",
       "                                                SYNS  \n",
       "0  Methylphenyltetrahydropyridine| Methylphenylte...  \n",
       "1  1-Naththylamine| 1-Naththylamine (substance)| ...  \n",
       "2  Estradiol 17-Beta-Dehydrogenase 2| EC 1.1.1.62...  \n",
       "3  17-Hydroxycorticosteroids| 17-Hydroxycorticost...  \n",
       "4  17-Ketosteroid| 17-Ketosteroid (substance)| 17...  "
      ]
     },
     "execution_count": 4,
     "metadata": {},
     "output_type": "execute_result"
    }
   ],
   "source": [
    "datasheet.head(5)"
   ]
  },
  {
   "cell_type": "code",
   "execution_count": 37,
   "metadata": {},
   "outputs": [
    {
     "name": "stdout",
     "output_type": "stream",
     "text": [
      "Pharmacologic Substance\n"
     ]
    },
    {
     "data": {
      "text/html": [
       "<div>\n",
       "<style>\n",
       "    .dataframe thead tr:only-child th {\n",
       "        text-align: right;\n",
       "    }\n",
       "\n",
       "    .dataframe thead th {\n",
       "        text-align: left;\n",
       "    }\n",
       "\n",
       "    .dataframe tbody tr th {\n",
       "        vertical-align: top;\n",
       "    }\n",
       "</style>\n",
       "<table border=\"1\" class=\"dataframe\">\n",
       "  <thead>\n",
       "    <tr style=\"text-align: right;\">\n",
       "      <th></th>\n",
       "      <th>CUI</th>\n",
       "      <th>NCI_CODES</th>\n",
       "      <th>PCUI</th>\n",
       "      <th>P_NCI_CODES</th>\n",
       "      <th>STR</th>\n",
       "      <th>SAB</th>\n",
       "      <th>STY</th>\n",
       "      <th>SYNS</th>\n",
       "    </tr>\n",
       "  </thead>\n",
       "  <tbody>\n",
       "    <tr>\n",
       "      <th>4</th>\n",
       "      <td>C0000167</td>\n",
       "      <td>NaN</td>\n",
       "      <td>C0582125</td>\n",
       "      <td>NaN</td>\n",
       "      <td>17-Ketosteroid</td>\n",
       "      <td>SNOMEDCT_US</td>\n",
       "      <td>Pharmacologic Substance</td>\n",
       "      <td>17-Ketosteroid| 17-Ketosteroid (substance)| 17...</td>\n",
       "    </tr>\n",
       "  </tbody>\n",
       "</table>\n",
       "</div>"
      ],
      "text/plain": [
       "        CUI NCI_CODES      PCUI P_NCI_CODES             STR          SAB  \\\n",
       "4  C0000167       NaN  C0582125         NaN  17-Ketosteroid  SNOMEDCT_US   \n",
       "\n",
       "                       STY                                               SYNS  \n",
       "4  Pharmacologic Substance  17-Ketosteroid| 17-Ketosteroid (substance)| 17...  "
      ]
     },
     "execution_count": 37,
     "metadata": {},
     "output_type": "execute_result"
    }
   ],
   "source": [
    "print datasheet[(datasheet[\"CUI\"] == \"C0000167\")][\"STY\"].any()\n",
    "datasheet[datasheet[\"CUI\"] == \"C0000167\"]"
   ]
  },
  {
   "cell_type": "code",
   "execution_count": 6,
   "metadata": {
    "collapsed": true
   },
   "outputs": [],
   "source": [
    "xls = pd.read_excel(os.path.join(base_dir, \"Concept_Review_v10_add_semantic_types.xlsx\"))"
   ]
  },
  {
   "cell_type": "code",
   "execution_count": 7,
   "metadata": {},
   "outputs": [
    {
     "data": {
      "text/html": [
       "<div>\n",
       "<style>\n",
       "    .dataframe thead tr:only-child th {\n",
       "        text-align: right;\n",
       "    }\n",
       "\n",
       "    .dataframe thead th {\n",
       "        text-align: left;\n",
       "    }\n",
       "\n",
       "    .dataframe tbody tr th {\n",
       "        vertical-align: top;\n",
       "    }\n",
       "</style>\n",
       "<table border=\"1\" class=\"dataframe\">\n",
       "  <thead>\n",
       "    <tr style=\"text-align: right;\">\n",
       "      <th></th>\n",
       "      <th>Mention</th>\n",
       "      <th>Entity Type</th>\n",
       "      <th>CUI_Code</th>\n",
       "      <th>NCIm_Semantic_Type</th>\n",
       "    </tr>\n",
       "  </thead>\n",
       "  <tbody>\n",
       "    <tr>\n",
       "      <th>0</th>\n",
       "      <td>abd</td>\n",
       "      <td>Anatomy_Specific_Entity</td>\n",
       "      <td>C0000726</td>\n",
       "      <td>NaN</td>\n",
       "    </tr>\n",
       "    <tr>\n",
       "      <th>1</th>\n",
       "      <td>adenoca</td>\n",
       "      <td>Cancer_Entity</td>\n",
       "      <td>C0001418</td>\n",
       "      <td>NaN</td>\n",
       "    </tr>\n",
       "    <tr>\n",
       "      <th>2</th>\n",
       "      <td>adenocarcinoma</td>\n",
       "      <td>Cancer_Entity</td>\n",
       "      <td>C0001418</td>\n",
       "      <td>NaN</td>\n",
       "    </tr>\n",
       "    <tr>\n",
       "      <th>3</th>\n",
       "      <td>adenocarcnioma</td>\n",
       "      <td>Cancer_Entity</td>\n",
       "      <td>C0001418</td>\n",
       "      <td>NaN</td>\n",
       "    </tr>\n",
       "    <tr>\n",
       "      <th>4</th>\n",
       "      <td>adenoma</td>\n",
       "      <td>Cancer_Entity</td>\n",
       "      <td>C0001430</td>\n",
       "      <td>NaN</td>\n",
       "    </tr>\n",
       "  </tbody>\n",
       "</table>\n",
       "</div>"
      ],
      "text/plain": [
       "          Mention              Entity Type  CUI_Code  NCIm_Semantic_Type\n",
       "0             abd  Anatomy_Specific_Entity  C0000726                 NaN\n",
       "1         adenoca            Cancer_Entity  C0001418                 NaN\n",
       "2  adenocarcinoma            Cancer_Entity  C0001418                 NaN\n",
       "3  adenocarcnioma            Cancer_Entity  C0001418                 NaN\n",
       "4         adenoma            Cancer_Entity  C0001430                 NaN"
      ]
     },
     "execution_count": 7,
     "metadata": {},
     "output_type": "execute_result"
    }
   ],
   "source": [
    "xls.head(5)"
   ]
  },
  {
   "cell_type": "code",
   "execution_count": 27,
   "metadata": {},
   "outputs": [],
   "source": [
    "semantic_types = []\n",
    "for cui in xls[\"CUI_Code\"]:\n",
    "    exists = (datasheet[\"CUI\"] == cui)\n",
    "    if exists.any():\n",
    "        semantic_types.append(datasheet[exists][\"STY\"].any())\n",
    "    else: semantic_types.append(\"NA\")\n",
    "    \n",
    "xls[\"NCIm_Semantic_Type\"] = semantic_types"
   ]
  },
  {
   "cell_type": "code",
   "execution_count": 28,
   "metadata": {},
   "outputs": [
    {
     "data": {
      "text/html": [
       "<div>\n",
       "<style>\n",
       "    .dataframe thead tr:only-child th {\n",
       "        text-align: right;\n",
       "    }\n",
       "\n",
       "    .dataframe thead th {\n",
       "        text-align: left;\n",
       "    }\n",
       "\n",
       "    .dataframe tbody tr th {\n",
       "        vertical-align: top;\n",
       "    }\n",
       "</style>\n",
       "<table border=\"1\" class=\"dataframe\">\n",
       "  <thead>\n",
       "    <tr style=\"text-align: right;\">\n",
       "      <th></th>\n",
       "      <th>Mention</th>\n",
       "      <th>Entity Type</th>\n",
       "      <th>CUI_Code</th>\n",
       "      <th>NCIm_Semantic_Type</th>\n",
       "    </tr>\n",
       "  </thead>\n",
       "  <tbody>\n",
       "    <tr>\n",
       "      <th>0</th>\n",
       "      <td>abd</td>\n",
       "      <td>Anatomy_Specific_Entity</td>\n",
       "      <td>C0000726</td>\n",
       "      <td>Body Location or Region</td>\n",
       "    </tr>\n",
       "    <tr>\n",
       "      <th>1</th>\n",
       "      <td>adenoca</td>\n",
       "      <td>Cancer_Entity</td>\n",
       "      <td>C0001418</td>\n",
       "      <td>Neoplastic Process</td>\n",
       "    </tr>\n",
       "    <tr>\n",
       "      <th>2</th>\n",
       "      <td>adenocarcinoma</td>\n",
       "      <td>Cancer_Entity</td>\n",
       "      <td>C0001418</td>\n",
       "      <td>Neoplastic Process</td>\n",
       "    </tr>\n",
       "    <tr>\n",
       "      <th>3</th>\n",
       "      <td>adenocarcnioma</td>\n",
       "      <td>Cancer_Entity</td>\n",
       "      <td>C0001418</td>\n",
       "      <td>Neoplastic Process</td>\n",
       "    </tr>\n",
       "    <tr>\n",
       "      <th>4</th>\n",
       "      <td>adenoma</td>\n",
       "      <td>Cancer_Entity</td>\n",
       "      <td>C0001430</td>\n",
       "      <td>Neoplastic Process</td>\n",
       "    </tr>\n",
       "  </tbody>\n",
       "</table>\n",
       "</div>"
      ],
      "text/plain": [
       "          Mention              Entity Type  CUI_Code       NCIm_Semantic_Type\n",
       "0             abd  Anatomy_Specific_Entity  C0000726  Body Location or Region\n",
       "1         adenoca            Cancer_Entity  C0001418       Neoplastic Process\n",
       "2  adenocarcinoma            Cancer_Entity  C0001418       Neoplastic Process\n",
       "3  adenocarcnioma            Cancer_Entity  C0001418       Neoplastic Process\n",
       "4         adenoma            Cancer_Entity  C0001430       Neoplastic Process"
      ]
     },
     "execution_count": 28,
     "metadata": {},
     "output_type": "execute_result"
    }
   ],
   "source": [
    "xls.head(5)"
   ]
  },
  {
   "cell_type": "code",
   "execution_count": 29,
   "metadata": {
    "collapsed": true
   },
   "outputs": [],
   "source": [
    "xls.to_excel(os.path.join(base_dir, \"new.xlsx\"))"
   ]
  },
  {
   "cell_type": "code",
   "execution_count": null,
   "metadata": {
    "collapsed": true
   },
   "outputs": [],
   "source": []
  }
 ],
 "metadata": {
  "kernelspec": {
   "display_name": "Python 2",
   "language": "python",
   "name": "python2"
  },
  "language_info": {
   "codemirror_mode": {
    "name": "ipython",
    "version": 2
   },
   "file_extension": ".py",
   "mimetype": "text/x-python",
   "name": "python",
   "nbconvert_exporter": "python",
   "pygments_lexer": "ipython2",
   "version": "2.7.12"
  }
 },
 "nbformat": 4,
 "nbformat_minor": 2
}
