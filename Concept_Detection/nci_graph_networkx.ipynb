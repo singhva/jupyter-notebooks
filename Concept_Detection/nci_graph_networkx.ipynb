{
 "cells": [
  {
   "cell_type": "code",
   "execution_count": 1,
   "metadata": {
    "collapsed": true
   },
   "outputs": [],
   "source": [
    "import os, sys, re\n",
    "import networkx as nx\n",
    "import pandas as pd"
   ]
  },
  {
   "cell_type": "code",
   "execution_count": 2,
   "metadata": {
    "collapsed": true
   },
   "outputs": [],
   "source": [
    "base_dir = \"/Users/singhv/Documents/Curation/thesaurus\""
   ]
  },
  {
   "cell_type": "code",
   "execution_count": 3,
   "metadata": {},
   "outputs": [
    {
     "name": "stdout",
     "output_type": "stream",
     "text": [
      "['concept name', 'parents', 'synonyms', 'definition', 'display name', 'concept status', 'semantic type']\n"
     ]
    }
   ],
   "source": [
    "temp = \"code <tab> concept name <tab> parents <tab> synonyms <tab> definition <tab> display name <tab> concept status <tab> semantic type <EOL>\"\n",
    "headers = [x.strip() for x in temp[11:-5].split(\"<tab>\")]\n",
    "print headers"
   ]
  },
  {
   "cell_type": "code",
   "execution_count": 4,
   "metadata": {
    "collapsed": true
   },
   "outputs": [],
   "source": [
    "thesaurus = pd.read_csv(os.path.join(base_dir, \"Thesaurus.txt\"), sep=\"\\t\", index_col=0, names=headers)"
   ]
  },
  {
   "cell_type": "code",
   "execution_count": 22,
   "metadata": {},
   "outputs": [
    {
     "name": "stdout",
     "output_type": "stream",
     "text": [
      "C1946\n"
     ]
    }
   ],
   "source": [
    "print thesaurus.loc['C2048']['parents']"
   ]
  },
  {
   "cell_type": "code",
   "execution_count": 38,
   "metadata": {},
   "outputs": [
    {
     "name": "stdout",
     "output_type": "stream",
     "text": [
      "A-007\n"
     ]
    }
   ],
   "source": [
    "print next(thesaurus.iterrows())[1][\"concept name\"]"
   ]
  },
  {
   "cell_type": "code",
   "execution_count": 42,
   "metadata": {},
   "outputs": [
    {
     "name": "stdout",
     "output_type": "stream",
     "text": [
      "C83480\n",
      "C83480\n",
      "C131742\n",
      "C83480\n",
      "C83479\n"
     ]
    }
   ],
   "source": [
    "for code, row in thesaurus.tail(5).iterrows():\n",
    "    print row['parents']"
   ]
  },
  {
   "cell_type": "code",
   "execution_count": 54,
   "metadata": {
    "collapsed": true
   },
   "outputs": [],
   "source": [
    "G = nx.DiGraph()"
   ]
  },
  {
   "cell_type": "code",
   "execution_count": 55,
   "metadata": {},
   "outputs": [
    {
     "name": "stdout",
     "output_type": "stream",
     "text": [
      "Processed 0 rows\n",
      "Processed 1000 rows\n",
      "Processed 2000 rows\n",
      "Processed 3000 rows\n",
      "Processed 4000 rows\n",
      "Processed 5000 rows\n",
      "Processed 6000 rows\n",
      "Processed 7000 rows\n",
      "Processed 8000 rows\n",
      "Processed 9000 rows\n",
      "Processed 10000 rows\n",
      "Processed 11000 rows\n",
      "Processed 12000 rows\n",
      "Processed 13000 rows\n",
      "Processed 14000 rows\n",
      "Processed 15000 rows\n",
      "Processed 16000 rows\n",
      "Processed 17000 rows\n",
      "Processed 18000 rows\n",
      "Processed 19000 rows\n",
      "Processed 20000 rows\n",
      "Processed 21000 rows\n",
      "Processed 22000 rows\n",
      "Processed 23000 rows\n",
      "Processed 24000 rows\n",
      "Processed 25000 rows\n",
      "Processed 26000 rows\n",
      "Processed 27000 rows\n",
      "Processed 28000 rows\n",
      "Processed 29000 rows\n",
      "Processed 30000 rows\n",
      "Processed 31000 rows\n",
      "Processed 32000 rows\n",
      "Processed 33000 rows\n",
      "Processed 34000 rows\n",
      "Processed 35000 rows\n",
      "Processed 36000 rows\n",
      "Processed 37000 rows\n",
      "Processed 38000 rows\n",
      "Processed 39000 rows\n",
      "Processed 40000 rows\n",
      "Processed 41000 rows\n",
      "Processed 42000 rows\n",
      "Processed 43000 rows\n",
      "Processed 44000 rows\n",
      "Processed 45000 rows\n",
      "Processed 46000 rows\n",
      "Processed 47000 rows\n",
      "Processed 48000 rows\n",
      "Processed 49000 rows\n",
      "Processed 50000 rows\n",
      "Processed 51000 rows\n",
      "Processed 52000 rows\n",
      "Processed 53000 rows\n",
      "Processed 54000 rows\n",
      "Processed 55000 rows\n",
      "Processed 56000 rows\n",
      "Processed 57000 rows\n",
      "Processed 58000 rows\n",
      "Processed 59000 rows\n",
      "Processed 60000 rows\n",
      "Processed 61000 rows\n",
      "Processed 62000 rows\n",
      "Processed 63000 rows\n",
      "Processed 64000 rows\n",
      "Processed 65000 rows\n",
      "Processed 66000 rows\n",
      "Processed 67000 rows\n",
      "Processed 68000 rows\n",
      "Processed 69000 rows\n",
      "Processed 70000 rows\n",
      "Processed 71000 rows\n",
      "Processed 72000 rows\n",
      "Processed 73000 rows\n",
      "Processed 74000 rows\n",
      "Processed 75000 rows\n",
      "Processed 76000 rows\n",
      "Processed 77000 rows\n",
      "Processed 78000 rows\n",
      "Processed 79000 rows\n",
      "Processed 80000 rows\n",
      "Processed 81000 rows\n",
      "Processed 82000 rows\n",
      "Processed 83000 rows\n",
      "Processed 84000 rows\n",
      "Processed 85000 rows\n",
      "Processed 86000 rows\n",
      "Processed 87000 rows\n",
      "Processed 88000 rows\n",
      "Processed 89000 rows\n",
      "Processed 90000 rows\n",
      "Processed 91000 rows\n",
      "Processed 92000 rows\n",
      "Processed 93000 rows\n",
      "Processed 94000 rows\n",
      "Processed 95000 rows\n",
      "Processed 96000 rows\n",
      "Processed 97000 rows\n",
      "Processed 98000 rows\n",
      "Processed 99000 rows\n",
      "Processed 100000 rows\n",
      "Processed 101000 rows\n",
      "Processed 102000 rows\n",
      "Processed 103000 rows\n",
      "Processed 104000 rows\n",
      "Processed 105000 rows\n",
      "Processed 106000 rows\n",
      "Processed 107000 rows\n",
      "Processed 108000 rows\n",
      "Processed 109000 rows\n",
      "Processed 110000 rows\n",
      "Processed 111000 rows\n",
      "Processed 112000 rows\n",
      "Processed 113000 rows\n",
      "Processed 114000 rows\n",
      "Processed 115000 rows\n",
      "Processed 116000 rows\n",
      "Processed 117000 rows\n",
      "Processed 118000 rows\n",
      "Processed 119000 rows\n",
      "Processed 120000 rows\n",
      "Processed 121000 rows\n",
      "Processed 122000 rows\n",
      "Processed 123000 rows\n",
      "Processed 124000 rows\n"
     ]
    }
   ],
   "source": [
    "for i, (code, row) in enumerate(thesaurus.iterrows()):\n",
    "    if i % 1000 == 0:\n",
    "        print \"Processed %d rows\" % i\n",
    "    parent_codes = row.get('parents')\n",
    "    if code not in G:\n",
    "        G.add_node(code)\n",
    "    G.node[code]['name'] = row['concept name']\n",
    "    G.node[code]['synonyms'] = row.get('synonyms', '').split('|')\n",
    "    if parent_codes != 'root_node':\n",
    "        parent_codes = parent_codes.split(\"|\")\n",
    "        for parent_code in parent_codes:\n",
    "            if (parent_code not in G):\n",
    "                G.add_node(parent_code)\n",
    "            G.add_edge(parent_code, code)\n",
    "\n",
    "#G.add_node('C2139', name='A-007')\n",
    "#G.add_node('C61305')\n",
    "#G.add_edge('C2139', 'C61305')"
   ]
  },
  {
   "cell_type": "code",
   "execution_count": 56,
   "metadata": {},
   "outputs": [
    {
     "name": "stdout",
     "output_type": "stream",
     "text": [
      "{'synonyms': ['Breast Carcinoma', 'Breast Cancer', 'Breast cancer, NOS', 'Cancer of Breast', 'Cancer of the Breast', 'Cancer, Breast', 'Carcinoma of Breast', 'Carcinoma of the Breast', 'Mammary Carcinoma', 'breast cancer'], 'name': 'Breast_Carcinoma'}\n"
     ]
    }
   ],
   "source": [
    "print G.node['C4872']"
   ]
  },
  {
   "cell_type": "code",
   "execution_count": 57,
   "metadata": {},
   "outputs": [
    {
     "name": "stdout",
     "output_type": "stream",
     "text": [
      "['C94774', 'C7566', 'C8287', 'C94770', 'C9245', 'C2918', 'C118809', 'C53553', 'C3862', 'C94772', 'C4503', 'C28432', 'C91230', 'C5214', 'C7771', 'C46073', 'C90513']\n"
     ]
    }
   ],
   "source": [
    "print G.successors(\"C4872\")"
   ]
  },
  {
   "cell_type": "code",
   "execution_count": 59,
   "metadata": {},
   "outputs": [
    {
     "name": "stdout",
     "output_type": "stream",
     "text": [
      "{'synonyms': ['Early-Stage Breast Carcinoma', 'early-stage breast cancer'], 'name': 'Early-Stage_Breast_Carcinoma'}\n",
      "{'synonyms': ['Sporadic Breast Carcinoma', 'Sporadic Breast Cancer'], 'name': 'Sporadic_Breast_Carcinoma'}\n",
      "{'synonyms': ['Bilateral Breast Carcinoma', 'Bilateral Breast Cancer'], 'name': 'Bilateral_Breast_Carcinoma'}\n",
      "{'synonyms': ['Multifocal Breast Carcinoma', 'multifocal breast cancer'], 'name': 'Multifocal_Breast_Carcinoma'}\n",
      "{'synonyms': ['Invasive Breast Carcinoma', 'Infiltrating Breast Carcinoma', 'Infiltrating Carcinoma of Breast', 'Infiltrating Carcinoma of the Breast', 'Invasive Breast Cancer', 'Invasive Carcinoma of Breast', 'Invasive Carcinoma of the Breast', 'Invasive breast carcinoma', 'infiltrating breast cancer', 'invasive breast cancer'], 'name': 'Invasive_Breast_Carcinoma'}\n",
      "{'synonyms': ['Female Breast Carcinoma', 'Breast Carcinoma, Female', 'Carcinoma of Female Breast', 'Carcinoma of the Female Breast', 'Female Breast Cancer', 'Mammary Carcinoma of Female Breast', 'Mammary Carcinoma of the Female Breast'], 'name': 'Female_Breast_Carcinoma'}\n",
      "{'synonyms': ['Childhood Breast Carcinoma'], 'name': 'Childhood_Breast_Carcinoma'}\n",
      "{'synonyms': ['Breast Carcinoma by Gene Expression Profile'], 'name': 'Invasive_Breast_Carcinoma_by_Gene_Expression_Profile'}\n",
      "{'synonyms': ['Male Breast Carcinoma', 'Carcinoma of Male Breast', 'Carcinoma of the Male Breast', 'Male Breast Cancer', 'male breast cancer'], 'name': 'Male_Breast_Carcinoma'}\n",
      "{'synonyms': ['Multicentric Breast Carcinoma', 'multicentric breast cancer'], 'name': 'Multicentric_Breast_Carcinoma'}\n",
      "{'synonyms': ['Hereditary Breast Carcinoma', 'Familial Breast Carcinoma', 'Familial Cancer of Breast', 'Familial Cancer of the Breast', 'Hereditary Breast Cancer'], 'name': 'Hereditary_Breast_Carcinoma'}\n",
      "{'synonyms': ['Nipple Carcinoma'], 'name': 'Nipple_Carcinoma'}\n",
      "{'synonyms': ['Breast Carcinoma by AJCC v7 Stage'], 'name': 'Breast_Carcinoma_by_AJCC_v7_Stage'}\n",
      "{'synonyms': ['Breast Adenocarcinoma', 'Adenocarcinoma of Breast', 'Adenocarcinoma of the Breast', 'Mammary adenocarcinoma'], 'name': 'Breast_Adenocarcinoma'}\n",
      "{'synonyms': ['Recurrent Breast Carcinoma', 'Breast Cancer, Recurrent', 'Recurrent Breast Cancer'], 'name': 'Recurrent_Breast_Cancer'}\n",
      "{'synonyms': ['Unilateral Breast Carcinoma', 'Unilateral Breast Cancer'], 'name': 'Unilateral_Breast_Carcinoma'}\n",
      "{'synonyms': ['Breast Carcinoma by AJCC v6 Stage'], 'name': 'Breast_Carcinoma_by_AJCC_v6_Stage'}\n"
     ]
    }
   ],
   "source": [
    "for node in G.successors_iter('C4872'):\n",
    "    print G.node[node]"
   ]
  },
  {
   "cell_type": "code",
   "execution_count": 68,
   "metadata": {
    "collapsed": true
   },
   "outputs": [],
   "source": [
    "def make_bigrams(lst):\n",
    "    return zip( lst[:-1], lst[1:] ) if len(lst) > 1 else [(lst[0], )]"
   ]
  },
  {
   "cell_type": "code",
   "execution_count": 70,
   "metadata": {},
   "outputs": [
    {
     "name": "stdout",
     "output_type": "stream",
     "text": [
      "[('stage', 'breast'), ('breast', 'cancer')]\n"
     ]
    }
   ],
   "source": [
    "print make_bigrams(\"stage breast cancer\".split())"
   ]
  },
  {
   "cell_type": "code",
   "execution_count": null,
   "metadata": {
    "collapsed": true
   },
   "outputs": [],
   "source": []
  }
 ],
 "metadata": {
  "kernelspec": {
   "display_name": "Python 2",
   "language": "python",
   "name": "python2"
  },
  "language_info": {
   "codemirror_mode": {
    "name": "ipython",
    "version": 2
   },
   "file_extension": ".py",
   "mimetype": "text/x-python",
   "name": "python",
   "nbconvert_exporter": "python",
   "pygments_lexer": "ipython2",
   "version": "2.7.12"
  }
 },
 "nbformat": 4,
 "nbformat_minor": 2
}
