{
 "cells": [
  {
   "cell_type": "code",
   "execution_count": 17,
   "metadata": {
    "collapsed": true
   },
   "outputs": [],
   "source": [
    "from com.ibm.watson import get_mongo_client, DOCS_DIR, DESKTOP\n",
    "from com.ibm.watson.utils import excel_utils\n",
    "import os, re, sys, pymongo, openpyxl"
   ]
  },
  {
   "cell_type": "code",
   "execution_count": 3,
   "metadata": {
    "collapsed": false
   },
   "outputs": [],
   "source": [
    "client = get_mongo_client(port=27017)\n",
    "db = client[\"WATSON\"]"
   ]
  },
  {
   "cell_type": "code",
   "execution_count": 4,
   "metadata": {
    "collapsed": false
   },
   "outputs": [
    {
     "name": "stdout",
     "output_type": "stream",
     "text": [
      "104\n"
     ]
    }
   ],
   "source": [
    "msk_trials = [ x.strip() for x in open(os.path.join(DESKTOP, \"trial_stats\", \"trials_diff_from_MSK.txt\")) ]\n",
    "print len(msk_trials)"
   ]
  },
  {
   "cell_type": "code",
   "execution_count": 8,
   "metadata": {
    "collapsed": false
   },
   "outputs": [
    {
     "name": "stdout",
     "output_type": "stream",
     "text": [
      "31\n"
     ]
    }
   ],
   "source": [
    "existing_trials = db[\"CTGOV\"].find({\"NCT_ID\" : {\"$in\" : msk_trials}})\n",
    "print existing_trials.count()\n",
    "existing_trials_ids = [ x[\"NCT_ID\"] for x in existing_trials]"
   ]
  },
  {
   "cell_type": "code",
   "execution_count": 16,
   "metadata": {
    "collapsed": false
   },
   "outputs": [
    {
     "name": "stdout",
     "output_type": "stream",
     "text": [
      "41\n",
      "31\n",
      "10\n",
      "NCT01813214\n",
      "NCT02427893\n",
      "NCT02465060\n",
      "NCT02263898\n",
      "NCT02721459\n",
      "NCT02475213\n",
      "NCT02608034\n",
      "NCT01871311\n",
      "NCT01651013\n",
      "NCT02915666\n"
     ]
    }
   ],
   "source": [
    "not_existing_trials = set([ nct_id for nct_id in msk_trials if nct_id not in existing_trials_ids ])\n",
    "print len(set(msk_trials))\n",
    "print len(existing_trials_ids)\n",
    "print len(not_existing_trials)\n",
    "print \"\\n\".join(not_existing_trials)"
   ]
  },
  {
   "cell_type": "code",
   "execution_count": 19,
   "metadata": {
    "collapsed": false
   },
   "outputs": [
    {
     "name": "stderr",
     "output_type": "stream",
     "text": [
      "/Users/singhv/Library/Python/2.7/lib/python/site-packages/openpyxl/workbook/workbook.py:102: UserWarning: Call to deprecated function or class get_active_sheet (Use the .active property).\n",
      "  def get_active_sheet(self):\n"
     ]
    }
   ],
   "source": [
    "workbook = openpyxl.load_workbook(os.path.join(DESKTOP, \"trial_stats\", \"Trials_diff_from_MSK.xlsx\"))\n",
    "worksheet = workbook.get_active_sheet()\n",
    "for i, row in enumerate(worksheet.rows):\n",
    "    if i > 0:\n",
    "        nct_id = row[1].value.strip()\n",
    "        study = db[\"CTGOV\"].find_one({\"NCT_ID\" : nct_id})\n",
    "        if study:\n",
    "            row[2].value = \"Y\"\n",
    "            row[3].value = \"Y\" if study[\"metadata\"][\"STATUS\"] == \"ACCEPTED\" else \"N\"\n",
    "        else:\n",
    "            row[2].value = \"N\"\n",
    "            row[3].value = \"N\"\n",
    "            \n",
    "workbook.save(os.path.join(DESKTOP, \"trial_stats\", \"Trials_diff_from_MSK_EDITED.xlsx\"))"
   ]
  },
  {
   "cell_type": "code",
   "execution_count": null,
   "metadata": {
    "collapsed": true
   },
   "outputs": [],
   "source": []
  }
 ],
 "metadata": {
  "kernelspec": {
   "display_name": "Python 2",
   "language": "python",
   "name": "python2"
  },
  "language_info": {
   "codemirror_mode": {
    "name": "ipython",
    "version": 2
   },
   "file_extension": ".py",
   "mimetype": "text/x-python",
   "name": "python",
   "nbconvert_exporter": "python",
   "pygments_lexer": "ipython2",
   "version": "2.7.12"
  }
 },
 "nbformat": 4,
 "nbformat_minor": 1
}
