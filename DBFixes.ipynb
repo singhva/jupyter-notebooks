{
 "cells": [
  {
   "cell_type": "code",
   "execution_count": 1,
   "metadata": {
    "collapsed": true
   },
   "outputs": [],
   "source": [
    "import os, sys, re, pymongo\n",
    "from pymongo import MongoClient\n",
    "from com.ibm.watson import get_mongo_client"
   ]
  },
  {
   "cell_type": "code",
   "execution_count": 2,
   "metadata": {
    "collapsed": true
   },
   "outputs": [],
   "source": [
    "client = get_mongo_client()\n",
    "db = client[\"WATSON\"]"
   ]
  },
  {
   "cell_type": "code",
   "execution_count": 12,
   "metadata": {
    "collapsed": false
   },
   "outputs": [
    {
     "name": "stdout",
     "output_type": "stream",
     "text": [
      "NCT01975701: Inclusion: (1)\n"
     ]
    }
   ],
   "source": [
    "for study in db[\"CTGOV\"].find():\n",
    "    variant_ids = set([ variant[\"VARIANT_ID\"] for variant in study[\"inclusion\"][\"variants\"] ])\n",
    "    for group in study[\"inclusion\"][\"variantGroups\"]:\n",
    "        temp = set(group[\"VARIANT_IDS\"])\n",
    "        diff = temp.difference(variant_ids)\n",
    "        if ( len(diff) > 0 ):\n",
    "            print \"%s: Inclusion: (%d)\" % (study[\"NCT_ID\"], len(diff))\n",
    "     \n",
    "    variant_ids = set([ variant[\"VARIANT_ID\"] for variant in study[\"exclusion\"][\"variants\"] ])\n",
    "    for group in study[\"exclusion\"][\"variantGroups\"]:\n",
    "        temp = set(group[\"VARIANT_IDS\"])\n",
    "        diff = temp.difference(variant_ids)\n",
    "        if ( len(diff) > 0 ):\n",
    "            print \"%s: Exclusion: (%d)\" % (study[\"NCT_ID\"], len(diff))"
   ]
  },
  {
   "cell_type": "code",
   "execution_count": 5,
   "metadata": {
    "collapsed": true
   },
   "outputs": [],
   "source": [
    "with open(\"/Users/singhv/Desktop/nci_thesaurus_umls_mapping.tsv\", \"wb\") as fw:\n",
    "    fw.write(\"\\t\".join([\"NCI Code\", \"NCI Metathesaurus CUI\", \"UMLS CUI\", \"\\n\"]))\n",
    "    for record in db.NCIT.find({}):\n",
    "        fw.write( \"\\t\".join([record[\"CODE\"], record.get(\"NCIM_CUI\", \"\"), record.get(\"UMLS_CUI\", \"\"), \"\\n\" ]) )"
   ]
  },
  {
   "cell_type": "code",
   "execution_count": null,
   "metadata": {
    "collapsed": true
   },
   "outputs": [],
   "source": []
  }
 ],
 "metadata": {
  "kernelspec": {
   "display_name": "Python 2",
   "language": "python",
   "name": "python2"
  },
  "language_info": {
   "codemirror_mode": {
    "name": "ipython",
    "version": 2
   },
   "file_extension": ".py",
   "mimetype": "text/x-python",
   "name": "python",
   "nbconvert_exporter": "python",
   "pygments_lexer": "ipython2",
   "version": "2.7.12"
  }
 },
 "nbformat": 4,
 "nbformat_minor": 1
}
