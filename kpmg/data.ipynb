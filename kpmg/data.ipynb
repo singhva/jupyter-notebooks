{
 "cells": [
  {
   "cell_type": "code",
   "execution_count": 1,
   "metadata": {
    "collapsed": true
   },
   "outputs": [],
   "source": [
    "import os, sys, re\n",
    "import nltk"
   ]
  },
  {
   "cell_type": "code",
   "execution_count": 2,
   "metadata": {},
   "outputs": [
    {
     "name": "stdout",
     "output_type": "stream",
     "text": [
      "/Users/singhv/Desktop/kpmg\n"
     ]
    }
   ],
   "source": [
    "base_dir = os.path.join(os.environ[\"HOME\"], \"Desktop\", \"kpmg\")\n",
    "print(base_dir)"
   ]
  },
  {
   "cell_type": "code",
   "execution_count": 12,
   "metadata": {},
   "outputs": [],
   "source": [
    "count = 0\n",
    "with open(os.path.join(base_dir, \"CDR_Data\", \"CDR.Corpus.v010516\", \"CDR_DevelopmentSet.PubTator.txt\")) as f:\n",
    "    with open(os.path.join(base_dir, \"CDR-stanford-training-data.txt\"), \"w\") as f2:\n",
    "        for line in f:\n",
    "            if line.strip() == \"\":\n",
    "                count = 0\n",
    "            else:\n",
    "                if count == 0: \n",
    "                    title = line.split(\"|\")[-1]\n",
    "                elif count == 1:\n",
    "                    abstract_ = line.split(\"|\")[-1]\n",
    "                elif count == 2:\n",
    "                    text = title + abstract_\n",
    "                    f2.write(text + \"\\n\")\n",
    "                else:\n",
    "                    line = line.split(\"\\t\")\n",
    "                    if line[1] != \"CID\":\n",
    "                        start = int(line[1])\n",
    "                        end = int(line[2])\n",
    "                        #for mention in line[3].split():\n",
    "                            #f2.write(\"%s\\t\")\n",
    "\n",
    "                count+= 1"
   ]
  },
  {
   "cell_type": "code",
   "execution_count": null,
   "metadata": {
    "collapsed": true
   },
   "outputs": [],
   "source": []
  }
 ],
 "metadata": {
  "kernelspec": {
   "display_name": "Python 3",
   "language": "python",
   "name": "python3"
  },
  "language_info": {
   "codemirror_mode": {
    "name": "ipython",
    "version": 3
   },
   "file_extension": ".py",
   "mimetype": "text/x-python",
   "name": "python",
   "nbconvert_exporter": "python",
   "pygments_lexer": "ipython3",
   "version": "3.6.0"
  }
 },
 "nbformat": 4,
 "nbformat_minor": 2
}
