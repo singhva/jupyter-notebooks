{
 "cells": [
  {
   "cell_type": "code",
   "execution_count": 1,
   "metadata": {
    "collapsed": true
   },
   "outputs": [],
   "source": [
    "import spacy"
   ]
  },
  {
   "cell_type": "code",
   "execution_count": 3,
   "metadata": {},
   "outputs": [],
   "source": [
    "en_nlp = spacy.load('en')"
   ]
  },
  {
   "cell_type": "code",
   "execution_count": 4,
   "metadata": {
    "collapsed": true
   },
   "outputs": [],
   "source": [
    "text = \"Participants on the plane and back in the United States debated how transparent to be in the statement, according to people familiar with the discussions.\""
   ]
  },
  {
   "cell_type": "code",
   "execution_count": 6,
   "metadata": {},
   "outputs": [],
   "source": [
    "doc = en_nlp(text)"
   ]
  },
  {
   "cell_type": "code",
   "execution_count": 7,
   "metadata": {},
   "outputs": [
    {
     "name": "stdout",
     "output_type": "stream",
     "text": [
      "[('Participants', 'NOUN'), ('on', 'ADP'), ('the', 'DET'), ('plane', 'NOUN'), ('and', 'CCONJ'), ('back', 'ADV'), ('in', 'ADP'), ('the', 'DET'), ('United', 'PROPN'), ('States', 'PROPN'), ('debated', 'VERB'), ('how', 'ADV'), ('transparent', 'ADJ'), ('to', 'PART'), ('be', 'VERB'), ('in', 'ADP'), ('the', 'DET'), ('statement', 'NOUN'), (',', 'PUNCT'), ('according', 'VERB'), ('to', 'ADP'), ('people', 'NOUN'), ('familiar', 'ADJ'), ('with', 'ADP'), ('the', 'DET'), ('discussions', 'NOUN'), ('.', 'PUNCT')]\n"
     ]
    }
   ],
   "source": [
    "print([(w.text, w.pos_) for w in doc])"
   ]
  },
  {
   "cell_type": "code",
   "execution_count": 9,
   "metadata": {},
   "outputs": [
    {
     "name": "stdout",
     "output_type": "stream",
     "text": [
      "Participants\n",
      "on\n",
      "the\n",
      "plane\n",
      "and\n",
      "back\n",
      "in\n",
      "the\n",
      "United\n",
      "States\n",
      "debated\n",
      "how\n",
      "transparent\n",
      "to\n",
      "be\n",
      "in\n",
      "the\n",
      "statement\n",
      ",\n",
      "according\n",
      "to\n",
      "people\n",
      "familiar\n",
      "with\n",
      "the\n",
      "discussions\n",
      ".\n"
     ]
    }
   ],
   "source": [
    "for token in en_nlp.tokenizer(text):\n",
    "    print(token)"
   ]
  },
  {
   "cell_type": "code",
   "execution_count": 10,
   "metadata": {
    "collapsed": true
   },
   "outputs": [],
   "source": [
    "doc = en_nlp.tokenizer(text)"
   ]
  },
  {
   "cell_type": "code",
   "execution_count": 11,
   "metadata": {
    "collapsed": true
   },
   "outputs": [],
   "source": [
    "tags = en_nlp.tagger(doc)"
   ]
  },
  {
   "cell_type": "code",
   "execution_count": 13,
   "metadata": {},
   "outputs": [
    {
     "name": "stdout",
     "output_type": "stream",
     "text": [
      "Participants on the plane and back in the United States debated how transparent to be in the statement, according to people familiar with the discussions.\n"
     ]
    }
   ],
   "source": [
    "print(doc)"
   ]
  },
  {
   "cell_type": "code",
   "execution_count": 14,
   "metadata": {},
   "outputs": [
    {
     "name": "stdout",
     "output_type": "stream",
     "text": [
      "Participants on the plane and back in the United States debated how transparent to be in the statement, according to people familiar with the discussions.\n"
     ]
    }
   ],
   "source": [
    "en_nlp.parser(doc)\n",
    "en_nlp.entity(doc)\n",
    "print(doc)"
   ]
  },
  {
   "cell_type": "code",
   "execution_count": null,
   "metadata": {
    "collapsed": true
   },
   "outputs": [],
   "source": []
  }
 ],
 "metadata": {
  "kernelspec": {
   "display_name": "Python 3",
   "language": "python",
   "name": "python3"
  },
  "language_info": {
   "codemirror_mode": {
    "name": "ipython",
    "version": 3
   },
   "file_extension": ".py",
   "mimetype": "text/x-python",
   "name": "python",
   "nbconvert_exporter": "python",
   "pygments_lexer": "ipython3",
   "version": "3.6.0"
  }
 },
 "nbformat": 4,
 "nbformat_minor": 2
}
