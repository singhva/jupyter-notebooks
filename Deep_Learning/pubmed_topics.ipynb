{
 "cells": [
  {
   "cell_type": "code",
   "execution_count": 1,
   "metadata": {
    "collapsed": true
   },
   "outputs": [],
   "source": [
    "from gensim import corpora\n",
    "from gensim import corpora, models, similarities\n",
    "import os, re, sys\n",
    "from six import iteritems\n",
    "from com.ibm.watson.utils import pubmed_utils as pu\n",
    "import logging"
   ]
  },
  {
   "cell_type": "code",
   "execution_count": 2,
   "metadata": {
    "collapsed": true
   },
   "outputs": [],
   "source": [
    "logging.basicConfig(format='%(asctime)s : %(levelname)s : %(message)s', level=logging.INFO)"
   ]
  },
  {
   "cell_type": "code",
   "execution_count": 3,
   "metadata": {
    "collapsed": false
   },
   "outputs": [],
   "source": [
    "base_dir = os.path.join(\"/Users/singhv/Documents/Data/DL\")"
   ]
  },
  {
   "cell_type": "code",
   "execution_count": 4,
   "metadata": {
    "collapsed": false
   },
   "outputs": [
    {
     "name": "stderr",
     "output_type": "stream",
     "text": [
      "2017-05-05 12:11:25,211 : INFO : loading Dictionary object from /Users/singhv/Documents/Data/DL/pubmed_breast_cancer_corpus.dict\n",
      "2017-05-05 12:11:25,224 : INFO : loaded /Users/singhv/Documents/Data/DL/pubmed_breast_cancer_corpus.dict\n"
     ]
    }
   ],
   "source": [
    "dictionary = corpora.Dictionary.load(os.path.join(base_dir, \"pubmed_breast_cancer_corpus.dict\"))"
   ]
  },
  {
   "cell_type": "code",
   "execution_count": 5,
   "metadata": {
    "collapsed": false
   },
   "outputs": [
    {
     "name": "stderr",
     "output_type": "stream",
     "text": [
      "2017-05-05 12:11:27,186 : INFO : loaded corpus index from /Users/singhv/Documents/Data/DL/pubmed_breast_cancer_corpus.mm.index\n",
      "2017-05-05 12:11:27,187 : INFO : initializing corpus reader from /Users/singhv/Documents/Data/DL/pubmed_breast_cancer_corpus.mm\n",
      "2017-05-05 12:11:27,188 : INFO : accepted corpus with 80119 documents, 23321 features, 6135724 non-zero entries\n"
     ]
    }
   ],
   "source": [
    "corpus = corpora.MmCorpus(os.path.join(base_dir, \"pubmed_breast_cancer_corpus.mm\"))"
   ]
  },
  {
   "cell_type": "code",
   "execution_count": 8,
   "metadata": {
    "collapsed": false
   },
   "outputs": [
    {
     "name": "stderr",
     "output_type": "stream",
     "text": [
      "2017-05-05 12:16:29,451 : INFO : using symmetric alpha at 0.1\n",
      "2017-05-05 12:16:29,452 : INFO : using symmetric eta at 4.28798078985e-05\n",
      "2017-05-05 12:16:29,456 : INFO : using serial LDA version on this node\n",
      "2017-05-05 12:16:30,838 : INFO : running online LDA training, 10 topics, 1 passes over the supplied corpus of 80119 documents, updating model once every 2000 documents, evaluating perplexity every 20000 documents, iterating 50x with a convergence threshold of 0.001000\n",
      "2017-05-05 12:16:31,483 : INFO : PROGRESS: pass 0, at document #2000/80119\n",
      "2017-05-05 12:16:34,624 : INFO : merging changes from 2000 documents into a model of 80119 documents\n",
      "2017-05-05 12:16:34,743 : INFO : topic #2 (0.100): 0.024*\"cancer\" + 0.017*\"breast\" + 0.014*\"patients\" + 0.007*\"risk\" + 0.007*\"associated\" + 0.006*\"expression\" + 0.006*\"study\" + 0.005*\"analysis\" + 0.005*\"cell\" + 0.005*\"years\"\n",
      "2017-05-05 12:16:34,744 : INFO : topic #5 (0.100): 0.034*\"cancer\" + 0.024*\"breast\" + 0.011*\"cell\" + 0.011*\"patients\" + 0.009*\"cells\" + 0.005*\"human\" + 0.005*\"study\" + 0.005*\"group\" + 0.005*\"treatment\" + 0.004*\"tumor\"\n",
      "2017-05-05 12:16:34,745 : INFO : topic #9 (0.100): 0.015*\"breast\" + 0.014*\"cancer\" + 0.013*\"cell\" + 0.010*\"cells\" + 0.007*\"her2\" + 0.006*\"patients\" + 0.004*\"study\" + 0.004*\"human\" + 0.004*\"analysis\" + 0.003*\"treatment\"\n",
      "2017-05-05 12:16:34,746 : INFO : topic #1 (0.100): 0.018*\"breast\" + 0.018*\"cells\" + 0.018*\"cancer\" + 0.014*\"expression\" + 0.007*\"cell\" + 0.006*\"tumor\" + 0.006*\"study\" + 0.005*\"human\" + 0.004*\"patients\" + 0.004*\"compared\"\n",
      "2017-05-05 12:16:34,748 : INFO : topic #8 (0.100): 0.021*\"patients\" + 0.019*\"breast\" + 0.016*\"cancer\" + 0.009*\"cells\" + 0.006*\"study\" + 0.006*\"expression\" + 0.006*\"tumor\" + 0.006*\"cell\" + 0.005*\"treatment\" + 0.004*\"group\"\n",
      "2017-05-05 12:16:34,749 : INFO : topic diff=7.687259, rho=1.000000\n",
      "2017-05-05 12:16:35,404 : INFO : PROGRESS: pass 0, at document #4000/80119\n",
      "2017-05-05 12:16:38,490 : INFO : merging changes from 2000 documents into a model of 80119 documents\n",
      "2017-05-05 12:16:38,684 : INFO : topic #2 (0.100): 0.022*\"cancer\" + 0.021*\"patients\" + 0.018*\"breast\" + 0.008*\"risk\" + 0.007*\"associated\" + 0.006*\"years\" + 0.006*\"study\" + 0.006*\"analysis\" + 0.005*\"women\" + 0.005*\"survival\"\n",
      "2017-05-05 12:16:38,685 : INFO : topic #0 (0.100): 0.046*\"cancer\" + 0.038*\"breast\" + 0.014*\"patients\" + 0.011*\"risk\" + 0.009*\"women\" + 0.007*\"study\" + 0.006*\"associated\" + 0.005*\"association\" + 0.005*\"survival\" + 0.004*\"data\"\n",
      "2017-05-05 12:16:38,686 : INFO : topic #1 (0.100): 0.024*\"cells\" + 0.022*\"cancer\" + 0.020*\"breast\" + 0.019*\"expression\" + 0.015*\"cell\" + 0.008*\"tumor\" + 0.006*\"human\" + 0.006*\"protein\" + 0.005*\"activity\" + 0.005*\"growth\"\n",
      "2017-05-05 12:16:38,687 : INFO : topic #9 (0.100): 0.015*\"breast\" + 0.012*\"cancer\" + 0.012*\"cell\" + 0.006*\"her2\" + 0.006*\"cells\" + 0.005*\"patients\" + 0.004*\"study\" + 0.004*\"lesions\" + 0.004*\"method\" + 0.003*\"analysis\"\n",
      "2017-05-05 12:16:38,689 : INFO : topic #6 (0.100): 0.025*\"cancer\" + 0.025*\"cells\" + 0.023*\"breast\" + 0.014*\"tumor\" + 0.009*\"expression\" + 0.009*\"cell\" + 0.008*\"patients\" + 0.005*\"tumors\" + 0.005*\"study\" + 0.004*\"metastasis\"\n",
      "2017-05-05 12:16:38,690 : INFO : topic diff=1.408960, rho=0.707107\n",
      "2017-05-05 12:16:39,342 : INFO : PROGRESS: pass 0, at document #6000/80119\n",
      "2017-05-05 12:16:42,208 : INFO : merging changes from 2000 documents into a model of 80119 documents\n",
      "2017-05-05 12:16:42,475 : INFO : topic #3 (0.100): 0.032*\"patients\" + 0.025*\"breast\" + 0.016*\"cancer\" + 0.007*\"expression\" + 0.007*\"tumors\" + 0.006*\"tumor\" + 0.006*\"cells\" + 0.006*\"cell\" + 0.006*\"treatment\" + 0.006*\"clinical\"\n",
      "2017-05-05 12:16:42,476 : INFO : topic #4 (0.100): 0.025*\"cancer\" + 0.021*\"breast\" + 0.016*\"women\" + 0.014*\"patients\" + 0.010*\"study\" + 0.009*\"treatment\" + 0.006*\"risk\" + 0.005*\"group\" + 0.005*\"chemotherapy\" + 0.005*\"compared\"\n",
      "2017-05-05 12:16:42,477 : INFO : topic #6 (0.100): 0.027*\"cancer\" + 0.024*\"breast\" + 0.024*\"cells\" + 0.015*\"tumor\" + 0.011*\"expression\" + 0.008*\"cell\" + 0.007*\"patients\" + 0.006*\"tumors\" + 0.005*\"metastasis\" + 0.005*\"study\"\n",
      "2017-05-05 12:16:42,478 : INFO : topic #0 (0.100): 0.049*\"cancer\" + 0.038*\"breast\" + 0.013*\"risk\" + 0.012*\"patients\" + 0.011*\"women\" + 0.007*\"study\" + 0.007*\"associated\" + 0.006*\"screening\" + 0.005*\"association\" + 0.005*\"data\"\n",
      "2017-05-05 12:16:42,480 : INFO : topic #8 (0.100): 0.035*\"patients\" + 0.022*\"breast\" + 0.012*\"cancer\" + 0.008*\"group\" + 0.007*\"tumor\" + 0.006*\"study\" + 0.006*\"reconstruction\" + 0.006*\"patient\" + 0.006*\"treatment\" + 0.005*\"cases\"\n",
      "2017-05-05 12:16:42,481 : INFO : topic diff=0.890651, rho=0.577350\n",
      "2017-05-05 12:16:43,122 : INFO : PROGRESS: pass 0, at document #8000/80119\n",
      "2017-05-05 12:16:45,787 : INFO : merging changes from 2000 documents into a model of 80119 documents\n",
      "2017-05-05 12:16:46,042 : INFO : topic #8 (0.100): 0.036*\"patients\" + 0.023*\"breast\" + 0.010*\"cancer\" + 0.009*\"group\" + 0.008*\"reconstruction\" + 0.007*\"tumor\" + 0.007*\"patient\" + 0.007*\"study\" + 0.006*\"treatment\" + 0.005*\"cases\"\n",
      "2017-05-05 12:16:46,044 : INFO : topic #1 (0.100): 0.026*\"cancer\" + 0.026*\"cells\" + 0.023*\"breast\" + 0.019*\"expression\" + 0.018*\"cell\" + 0.008*\"tumor\" + 0.007*\"protein\" + 0.007*\"growth\" + 0.006*\"human\" + 0.005*\"activity\"\n",
      "2017-05-05 12:16:46,045 : INFO : topic #5 (0.100): 0.031*\"cancer\" + 0.018*\"breast\" + 0.016*\"cell\" + 0.008*\"cells\" + 0.008*\"human\" + 0.008*\"activity\" + 0.007*\"compounds\" + 0.007*\"lines\" + 0.006*\"nan\" + 0.005*\"treatment\"\n",
      "2017-05-05 12:16:46,046 : INFO : topic #7 (0.100): 0.017*\"breast\" + 0.015*\"cancer\" + 0.010*\"tumor\" + 0.008*\"expression\" + 0.007*\"data\" + 0.006*\"tumors\" + 0.006*\"cells\" + 0.006*\"bone\" + 0.005*\"carcinoma\" + 0.005*\"cases\"\n",
      "2017-05-05 12:16:46,047 : INFO : topic #4 (0.100): 0.024*\"cancer\" + 0.021*\"breast\" + 0.016*\"patients\" + 0.015*\"women\" + 0.010*\"study\" + 0.010*\"treatment\" + 0.005*\"group\" + 0.005*\"years\" + 0.005*\"chemotherapy\" + 0.005*\"compared\"\n",
      "2017-05-05 12:16:46,048 : INFO : topic diff=0.700795, rho=0.500000\n",
      "2017-05-05 12:16:46,713 : INFO : PROGRESS: pass 0, at document #10000/80119\n",
      "2017-05-05 12:16:49,229 : INFO : merging changes from 2000 documents into a model of 80119 documents\n",
      "2017-05-05 12:16:49,467 : INFO : topic #6 (0.100): 0.028*\"cancer\" + 0.026*\"cells\" + 0.025*\"breast\" + 0.020*\"tumor\" + 0.012*\"expression\" + 0.008*\"cell\" + 0.007*\"tumors\" + 0.006*\"levels\" + 0.006*\"patients\" + 0.006*\"metastasis\"\n",
      "2017-05-05 12:16:49,469 : INFO : topic #0 (0.100): 0.051*\"cancer\" + 0.036*\"breast\" + 0.017*\"risk\" + 0.013*\"women\" + 0.010*\"patients\" + 0.008*\"screening\" + 0.007*\"study\" + 0.007*\"associated\" + 0.006*\"cancers\" + 0.006*\"association\"\n",
      "2017-05-05 12:16:49,471 : INFO : topic #7 (0.100): 0.016*\"breast\" + 0.014*\"cancer\" + 0.009*\"tumor\" + 0.008*\"data\" + 0.008*\"expression\" + 0.008*\"bone\" + 0.006*\"tumors\" + 0.006*\"carcinoma\" + 0.005*\"gene\" + 0.005*\"cases\"\n",
      "2017-05-05 12:16:49,472 : INFO : topic #8 (0.100): 0.038*\"patients\" + 0.025*\"breast\" + 0.010*\"cancer\" + 0.008*\"group\" + 0.008*\"reconstruction\" + 0.008*\"patient\" + 0.007*\"tumor\" + 0.006*\"treatment\" + 0.006*\"study\" + 0.005*\"surgery\"\n",
      "2017-05-05 12:16:49,474 : INFO : topic #9 (0.100): 0.018*\"breast\" + 0.008*\"imaging\" + 0.008*\"her2\" + 0.008*\"lesions\" + 0.007*\"method\" + 0.007*\"cancer\" + 0.007*\"mri\" + 0.006*\"images\" + 0.006*\"diagnostic\" + 0.005*\"sensitivity\"\n",
      "2017-05-05 12:16:49,475 : INFO : topic diff=0.598963, rho=0.447214\n",
      "2017-05-05 12:16:50,110 : INFO : PROGRESS: pass 0, at document #12000/80119\n",
      "2017-05-05 12:16:52,600 : INFO : merging changes from 2000 documents into a model of 80119 documents\n",
      "2017-05-05 12:16:52,844 : INFO : topic #4 (0.100): 0.024*\"cancer\" + 0.020*\"breast\" + 0.018*\"patients\" + 0.016*\"women\" + 0.011*\"treatment\" + 0.010*\"study\" + 0.006*\"group\" + 0.006*\"chemotherapy\" + 0.005*\"therapy\" + 0.005*\"years\"\n",
      "2017-05-05 12:16:52,846 : INFO : topic #1 (0.100): 0.028*\"cells\" + 0.026*\"cancer\" + 0.024*\"breast\" + 0.021*\"expression\" + 0.020*\"cell\" + 0.008*\"protein\" + 0.007*\"tumor\" + 0.007*\"human\" + 0.007*\"growth\" + 0.005*\"activity\"\n",
      "2017-05-05 12:16:52,847 : INFO : topic #6 (0.100): 0.030*\"cells\" + 0.028*\"cancer\" + 0.025*\"breast\" + 0.022*\"tumor\" + 0.013*\"expression\" + 0.008*\"cell\" + 0.007*\"tumors\" + 0.007*\"levels\" + 0.006*\"metastasis\" + 0.005*\"patients\"\n",
      "2017-05-05 12:16:52,848 : INFO : topic #8 (0.100): 0.037*\"patients\" + 0.026*\"breast\" + 0.009*\"cancer\" + 0.008*\"group\" + 0.008*\"reconstruction\" + 0.008*\"patient\" + 0.007*\"tumor\" + 0.007*\"study\" + 0.006*\"surgery\" + 0.006*\"treatment\"\n",
      "2017-05-05 12:16:52,849 : INFO : topic #7 (0.100): 0.015*\"breast\" + 0.013*\"cancer\" + 0.009*\"tumor\" + 0.009*\"bone\" + 0.008*\"data\" + 0.008*\"expression\" + 0.007*\"carcinoma\" + 0.006*\"gene\" + 0.006*\"tumors\" + 0.006*\"genes\"\n",
      "2017-05-05 12:16:52,850 : INFO : topic diff=0.521748, rho=0.408248\n",
      "2017-05-05 12:16:53,477 : INFO : PROGRESS: pass 0, at document #14000/80119\n",
      "2017-05-05 12:16:55,870 : INFO : merging changes from 2000 documents into a model of 80119 documents\n",
      "2017-05-05 12:16:56,089 : INFO : topic #3 (0.100): 0.036*\"patients\" + 0.026*\"breast\" + 0.016*\"cancer\" + 0.009*\"tumors\" + 0.008*\"response\" + 0.008*\"chemotherapy\" + 0.008*\"receptor\" + 0.008*\"expression\" + 0.007*\"clinical\" + 0.007*\"tumor\"\n",
      "2017-05-05 12:16:56,090 : INFO : topic #4 (0.100): 0.024*\"cancer\" + 0.020*\"breast\" + 0.018*\"patients\" + 0.016*\"women\" + 0.012*\"treatment\" + 0.010*\"study\" + 0.006*\"group\" + 0.006*\"chemotherapy\" + 0.005*\"therapy\" + 0.005*\"years\"\n",
      "2017-05-05 12:16:56,091 : INFO : topic #5 (0.100): 0.023*\"cancer\" + 0.017*\"cell\" + 0.013*\"breast\" + 0.010*\"activity\" + 0.010*\"cells\" + 0.010*\"human\" + 0.008*\"compounds\" + 0.008*\"lines\" + 0.006*\"showed\" + 0.006*\"nan\"\n",
      "2017-05-05 12:16:56,092 : INFO : topic #0 (0.100): 0.052*\"cancer\" + 0.037*\"breast\" + 0.019*\"risk\" + 0.017*\"women\" + 0.009*\"screening\" + 0.008*\"study\" + 0.007*\"associated\" + 0.007*\"cancers\" + 0.007*\"patients\" + 0.007*\"age\"\n",
      "2017-05-05 12:16:56,094 : INFO : topic #2 (0.100): 0.037*\"patients\" + 0.022*\"breast\" + 0.022*\"cancer\" + 0.018*\"survival\" + 0.009*\"lymph\" + 0.009*\"node\" + 0.009*\"analysis\" + 0.008*\"prognostic\" + 0.008*\"associated\" + 0.006*\"recurrence\"\n",
      "2017-05-05 12:16:56,095 : INFO : topic diff=0.470076, rho=0.377964\n",
      "2017-05-05 12:16:56,712 : INFO : PROGRESS: pass 0, at document #16000/80119\n",
      "2017-05-05 12:16:58,993 : INFO : merging changes from 2000 documents into a model of 80119 documents\n",
      "2017-05-05 12:16:59,197 : INFO : topic #2 (0.100): 0.037*\"patients\" + 0.023*\"breast\" + 0.022*\"cancer\" + 0.020*\"survival\" + 0.010*\"lymph\" + 0.009*\"node\" + 0.009*\"analysis\" + 0.009*\"prognostic\" + 0.008*\"associated\" + 0.007*\"recurrence\"\n",
      "2017-05-05 12:16:59,198 : INFO : topic #4 (0.100): 0.024*\"cancer\" + 0.020*\"breast\" + 0.018*\"patients\" + 0.016*\"women\" + 0.012*\"treatment\" + 0.010*\"study\" + 0.006*\"group\" + 0.006*\"chemotherapy\" + 0.005*\"years\" + 0.005*\"care\"\n",
      "2017-05-05 12:16:59,200 : INFO : topic #7 (0.100): 0.014*\"breast\" + 0.012*\"cancer\" + 0.010*\"data\" + 0.009*\"gene\" + 0.008*\"genes\" + 0.007*\"expression\" + 0.007*\"tumor\" + 0.007*\"bone\" + 0.006*\"carcinoma\" + 0.006*\"tumors\"\n",
      "2017-05-05 12:16:59,201 : INFO : topic #3 (0.100): 0.035*\"patients\" + 0.026*\"breast\" + 0.016*\"cancer\" + 0.010*\"tumors\" + 0.009*\"response\" + 0.009*\"chemotherapy\" + 0.008*\"receptor\" + 0.008*\"her2\" + 0.008*\"expression\" + 0.007*\"clinical\"\n",
      "2017-05-05 12:16:59,202 : INFO : topic #9 (0.100): 0.020*\"breast\" + 0.010*\"imaging\" + 0.010*\"lesions\" + 0.007*\"method\" + 0.007*\"sensitivity\" + 0.007*\"mri\" + 0.007*\"her2\" + 0.007*\"detection\" + 0.007*\"images\" + 0.006*\"diagnostic\"\n",
      "2017-05-05 12:16:59,203 : INFO : topic diff=0.427112, rho=0.353553\n",
      "2017-05-05 12:16:59,819 : INFO : PROGRESS: pass 0, at document #18000/80119\n",
      "2017-05-05 12:17:02,088 : INFO : merging changes from 2000 documents into a model of 80119 documents\n",
      "2017-05-05 12:17:02,283 : INFO : topic #2 (0.100): 0.038*\"patients\" + 0.023*\"breast\" + 0.022*\"cancer\" + 0.021*\"survival\" + 0.010*\"lymph\" + 0.010*\"prognostic\" + 0.009*\"analysis\" + 0.009*\"node\" + 0.008*\"recurrence\" + 0.008*\"status\"\n",
      "2017-05-05 12:17:02,284 : INFO : topic #5 (0.100): 0.021*\"cancer\" + 0.017*\"cell\" + 0.012*\"breast\" + 0.011*\"activity\" + 0.010*\"cells\" + 0.010*\"human\" + 0.007*\"lines\" + 0.007*\"compounds\" + 0.007*\"nan\" + 0.006*\"showed\"\n",
      "2017-05-05 12:17:02,285 : INFO : topic #4 (0.100): 0.024*\"cancer\" + 0.019*\"breast\" + 0.018*\"patients\" + 0.016*\"women\" + 0.012*\"treatment\" + 0.010*\"study\" + 0.007*\"group\" + 0.006*\"chemotherapy\" + 0.005*\"care\" + 0.005*\"therapy\"\n",
      "2017-05-05 12:17:02,287 : INFO : topic #3 (0.100): 0.034*\"patients\" + 0.026*\"breast\" + 0.015*\"cancer\" + 0.010*\"response\" + 0.010*\"tumors\" + 0.010*\"chemotherapy\" + 0.008*\"receptor\" + 0.008*\"her2\" + 0.008*\"expression\" + 0.008*\"carcinoma\"\n",
      "2017-05-05 12:17:02,288 : INFO : topic #1 (0.100): 0.028*\"cells\" + 0.025*\"cancer\" + 0.024*\"breast\" + 0.021*\"expression\" + 0.020*\"cell\" + 0.008*\"protein\" + 0.008*\"human\" + 0.007*\"growth\" + 0.007*\"tumor\" + 0.005*\"activity\"\n",
      "2017-05-05 12:17:02,289 : INFO : topic diff=0.382334, rho=0.333333\n",
      "2017-05-05 12:17:10,309 : INFO : -7.613 per-word bound, 195.8 perplexity estimate based on a held-out corpus of 2000 documents with 224645 words\n",
      "2017-05-05 12:17:10,311 : INFO : PROGRESS: pass 0, at document #20000/80119\n",
      "2017-05-05 12:17:12,512 : INFO : merging changes from 2000 documents into a model of 80119 documents\n",
      "2017-05-05 12:17:12,689 : INFO : topic #1 (0.100): 0.029*\"cells\" + 0.025*\"cancer\" + 0.024*\"breast\" + 0.021*\"expression\" + 0.020*\"cell\" + 0.009*\"protein\" + 0.008*\"growth\" + 0.008*\"human\" + 0.007*\"tumor\" + 0.006*\"activity\"\n",
      "2017-05-05 12:17:12,690 : INFO : topic #9 (0.100): 0.020*\"breast\" + 0.012*\"imaging\" + 0.011*\"lesions\" + 0.008*\"sensitivity\" + 0.007*\"detection\" + 0.007*\"benign\" + 0.007*\"method\" + 0.007*\"mri\" + 0.007*\"images\" + 0.007*\"malignant\"\n",
      "2017-05-05 12:17:12,691 : INFO : topic #4 (0.100): 0.025*\"cancer\" + 0.020*\"breast\" + 0.018*\"patients\" + 0.016*\"women\" + 0.012*\"treatment\" + 0.010*\"study\" + 0.007*\"group\" + 0.006*\"chemotherapy\" + 0.005*\"care\" + 0.005*\"health\"\n",
      "2017-05-05 12:17:12,693 : INFO : topic #8 (0.100): 0.032*\"patients\" + 0.030*\"breast\" + 0.009*\"reconstruction\" + 0.008*\"patient\" + 0.008*\"surgery\" + 0.008*\"cancer\" + 0.006*\"cases\" + 0.006*\"group\" + 0.006*\"mastectomy\" + 0.006*\"underwent\"\n",
      "2017-05-05 12:17:12,694 : INFO : topic #3 (0.100): 0.033*\"patients\" + 0.026*\"breast\" + 0.015*\"cancer\" + 0.011*\"tumors\" + 0.010*\"response\" + 0.010*\"chemotherapy\" + 0.009*\"receptor\" + 0.009*\"her2\" + 0.009*\"carcinoma\" + 0.008*\"cases\"\n",
      "2017-05-05 12:17:12,695 : INFO : topic diff=0.358256, rho=0.316228\n",
      "2017-05-05 12:17:13,325 : INFO : PROGRESS: pass 0, at document #22000/80119\n",
      "2017-05-05 12:17:15,544 : INFO : merging changes from 2000 documents into a model of 80119 documents\n",
      "2017-05-05 12:17:15,709 : INFO : topic #4 (0.100): 0.024*\"cancer\" + 0.019*\"breast\" + 0.018*\"patients\" + 0.015*\"women\" + 0.013*\"treatment\" + 0.010*\"study\" + 0.007*\"group\" + 0.006*\"care\" + 0.005*\"chemotherapy\" + 0.005*\"therapy\"\n",
      "2017-05-05 12:17:15,711 : INFO : topic #3 (0.100): 0.034*\"patients\" + 0.026*\"breast\" + 0.015*\"cancer\" + 0.011*\"tumors\" + 0.010*\"response\" + 0.010*\"chemotherapy\" + 0.009*\"her2\" + 0.009*\"receptor\" + 0.008*\"clinical\" + 0.008*\"cases\"\n",
      "2017-05-05 12:17:15,712 : INFO : topic #0 (0.100): 0.054*\"cancer\" + 0.038*\"breast\" + 0.021*\"risk\" + 0.019*\"women\" + 0.009*\"screening\" + 0.008*\"study\" + 0.008*\"associated\" + 0.007*\"cancers\" + 0.007*\"age\" + 0.007*\"years\"\n",
      "2017-05-05 12:17:15,713 : INFO : topic #9 (0.100): 0.021*\"breast\" + 0.013*\"imaging\" + 0.011*\"lesions\" + 0.008*\"sensitivity\" + 0.007*\"detection\" + 0.007*\"method\" + 0.007*\"mri\" + 0.007*\"images\" + 0.007*\"benign\" + 0.006*\"malignant\"\n",
      "2017-05-05 12:17:15,714 : INFO : topic #5 (0.100): 0.021*\"cancer\" + 0.017*\"cell\" + 0.012*\"cells\" + 0.011*\"breast\" + 0.011*\"activity\" + 0.010*\"human\" + 0.007*\"compounds\" + 0.007*\"lines\" + 0.007*\"drug\" + 0.007*\"showed\"\n",
      "2017-05-05 12:17:15,715 : INFO : topic diff=0.346087, rho=0.301511\n",
      "2017-05-05 12:17:16,379 : INFO : PROGRESS: pass 0, at document #24000/80119\n",
      "2017-05-05 12:17:18,596 : INFO : merging changes from 2000 documents into a model of 80119 documents\n",
      "2017-05-05 12:17:18,748 : INFO : topic #6 (0.100): 0.034*\"cells\" + 0.030*\"cancer\" + 0.027*\"breast\" + 0.026*\"tumor\" + 0.016*\"expression\" + 0.010*\"cell\" + 0.009*\"tumors\" + 0.008*\"levels\" + 0.008*\"metastasis\" + 0.006*\"tissue\"\n",
      "2017-05-05 12:17:18,749 : INFO : topic #8 (0.100): 0.032*\"patients\" + 0.029*\"breast\" + 0.010*\"reconstruction\" + 0.010*\"surgery\" + 0.008*\"patient\" + 0.007*\"cancer\" + 0.007*\"mastectomy\" + 0.007*\"underwent\" + 0.006*\"performed\" + 0.006*\"surgical\"\n",
      "2017-05-05 12:17:18,751 : INFO : topic #1 (0.100): 0.029*\"cells\" + 0.028*\"cancer\" + 0.025*\"breast\" + 0.021*\"expression\" + 0.021*\"cell\" + 0.009*\"protein\" + 0.007*\"growth\" + 0.007*\"human\" + 0.006*\"tumor\" + 0.006*\"proliferation\"\n",
      "2017-05-05 12:17:18,752 : INFO : topic #5 (0.100): 0.020*\"cancer\" + 0.018*\"cell\" + 0.012*\"cells\" + 0.010*\"breast\" + 0.010*\"activity\" + 0.010*\"human\" + 0.008*\"compounds\" + 0.007*\"drug\" + 0.007*\"lines\" + 0.006*\"showed\"\n",
      "2017-05-05 12:17:18,753 : INFO : topic #7 (0.100): 0.013*\"breast\" + 0.012*\"cancer\" + 0.010*\"data\" + 0.010*\"gene\" + 0.010*\"genes\" + 0.007*\"analysis\" + 0.006*\"tumor\" + 0.006*\"expression\" + 0.006*\"tumors\" + 0.005*\"bone\"\n",
      "2017-05-05 12:17:18,754 : INFO : topic diff=0.308840, rho=0.288675\n",
      "2017-05-05 12:17:19,472 : INFO : PROGRESS: pass 0, at document #26000/80119\n",
      "2017-05-05 12:17:21,683 : INFO : merging changes from 2000 documents into a model of 80119 documents\n",
      "2017-05-05 12:17:21,831 : INFO : topic #3 (0.100): 0.036*\"patients\" + 0.025*\"breast\" + 0.016*\"cancer\" + 0.012*\"response\" + 0.011*\"her2\" + 0.011*\"tumors\" + 0.010*\"chemotherapy\" + 0.009*\"receptor\" + 0.009*\"clinical\" + 0.008*\"expression\"\n",
      "2017-05-05 12:17:21,832 : INFO : topic #2 (0.100): 0.044*\"patients\" + 0.024*\"breast\" + 0.023*\"survival\" + 0.023*\"cancer\" + 0.011*\"lymph\" + 0.010*\"prognostic\" + 0.009*\"node\" + 0.009*\"analysis\" + 0.008*\"associated\" + 0.008*\"stage\"\n",
      "2017-05-05 12:17:21,833 : INFO : topic #8 (0.100): 0.033*\"patients\" + 0.029*\"breast\" + 0.010*\"surgery\" + 0.009*\"reconstruction\" + 0.008*\"patient\" + 0.007*\"cancer\" + 0.007*\"underwent\" + 0.007*\"mastectomy\" + 0.006*\"performed\" + 0.006*\"surgical\"\n",
      "2017-05-05 12:17:21,835 : INFO : topic #4 (0.100): 0.024*\"cancer\" + 0.019*\"patients\" + 0.018*\"breast\" + 0.013*\"women\" + 0.012*\"treatment\" + 0.010*\"study\" + 0.007*\"group\" + 0.006*\"care\" + 0.005*\"chemotherapy\" + 0.005*\"health\"\n",
      "2017-05-05 12:17:21,836 : INFO : topic #1 (0.100): 0.029*\"cancer\" + 0.028*\"cells\" + 0.025*\"breast\" + 0.021*\"cell\" + 0.021*\"expression\" + 0.009*\"protein\" + 0.007*\"growth\" + 0.007*\"human\" + 0.006*\"tumor\" + 0.006*\"proliferation\"\n",
      "2017-05-05 12:17:21,837 : INFO : topic diff=0.288780, rho=0.277350\n",
      "2017-05-05 12:17:22,516 : INFO : PROGRESS: pass 0, at document #28000/80119\n",
      "2017-05-05 12:17:24,662 : INFO : merging changes from 2000 documents into a model of 80119 documents\n",
      "2017-05-05 12:17:24,801 : INFO : topic #8 (0.100): 0.033*\"patients\" + 0.029*\"breast\" + 0.010*\"surgery\" + 0.009*\"reconstruction\" + 0.009*\"patient\" + 0.007*\"cancer\" + 0.007*\"mastectomy\" + 0.007*\"underwent\" + 0.007*\"performed\" + 0.006*\"surgical\"\n",
      "2017-05-05 12:17:24,802 : INFO : topic #6 (0.100): 0.036*\"cells\" + 0.032*\"cancer\" + 0.028*\"tumor\" + 0.027*\"breast\" + 0.016*\"expression\" + 0.011*\"cell\" + 0.009*\"metastasis\" + 0.009*\"tumors\" + 0.008*\"levels\" + 0.007*\"metastatic\"\n",
      "2017-05-05 12:17:24,803 : INFO : topic #9 (0.100): 0.022*\"breast\" + 0.014*\"imaging\" + 0.011*\"lesions\" + 0.008*\"sensitivity\" + 0.008*\"mri\" + 0.007*\"method\" + 0.007*\"detection\" + 0.007*\"images\" + 0.007*\"diagnostic\" + 0.006*\"mammography\"\n",
      "2017-05-05 12:17:24,804 : INFO : topic #2 (0.100): 0.045*\"patients\" + 0.025*\"survival\" + 0.024*\"breast\" + 0.023*\"cancer\" + 0.011*\"lymph\" + 0.011*\"prognostic\" + 0.010*\"analysis\" + 0.010*\"node\" + 0.009*\"associated\" + 0.009*\"stage\"\n",
      "2017-05-05 12:17:24,805 : INFO : topic #3 (0.100): 0.035*\"patients\" + 0.025*\"breast\" + 0.016*\"cancer\" + 0.012*\"her2\" + 0.012*\"response\" + 0.011*\"tumors\" + 0.011*\"chemotherapy\" + 0.010*\"receptor\" + 0.009*\"clinical\" + 0.009*\"cases\"\n",
      "2017-05-05 12:17:24,806 : INFO : topic diff=0.252523, rho=0.267261\n",
      "2017-05-05 12:17:25,473 : INFO : PROGRESS: pass 0, at document #30000/80119\n",
      "2017-05-05 12:17:27,548 : INFO : merging changes from 2000 documents into a model of 80119 documents\n",
      "2017-05-05 12:17:27,675 : INFO : topic #4 (0.100): 0.024*\"cancer\" + 0.019*\"patients\" + 0.018*\"breast\" + 0.013*\"women\" + 0.013*\"treatment\" + 0.010*\"study\" + 0.008*\"group\" + 0.007*\"care\" + 0.006*\"health\" + 0.005*\"chemotherapy\"\n",
      "2017-05-05 12:17:27,677 : INFO : topic #9 (0.100): 0.023*\"breast\" + 0.014*\"imaging\" + 0.011*\"lesions\" + 0.008*\"sensitivity\" + 0.008*\"detection\" + 0.008*\"mri\" + 0.007*\"images\" + 0.007*\"method\" + 0.007*\"diagnostic\" + 0.006*\"benign\"\n",
      "2017-05-05 12:17:27,678 : INFO : topic #8 (0.100): 0.033*\"patients\" + 0.029*\"breast\" + 0.010*\"surgery\" + 0.010*\"reconstruction\" + 0.009*\"patient\" + 0.007*\"mastectomy\" + 0.007*\"cancer\" + 0.007*\"underwent\" + 0.007*\"surgical\" + 0.006*\"performed\"\n",
      "2017-05-05 12:17:27,679 : INFO : topic #1 (0.100): 0.030*\"cancer\" + 0.029*\"cells\" + 0.025*\"breast\" + 0.022*\"cell\" + 0.021*\"expression\" + 0.009*\"protein\" + 0.007*\"growth\" + 0.006*\"human\" + 0.006*\"proliferation\" + 0.006*\"tumor\"\n",
      "2017-05-05 12:17:27,680 : INFO : topic #2 (0.100): 0.047*\"patients\" + 0.025*\"survival\" + 0.024*\"breast\" + 0.023*\"cancer\" + 0.011*\"lymph\" + 0.011*\"prognostic\" + 0.010*\"node\" + 0.010*\"analysis\" + 0.009*\"stage\" + 0.009*\"associated\"\n",
      "2017-05-05 12:17:27,681 : INFO : topic diff=0.233638, rho=0.258199\n",
      "2017-05-05 12:17:28,286 : INFO : PROGRESS: pass 0, at document #32000/80119\n",
      "2017-05-05 12:17:30,311 : INFO : merging changes from 2000 documents into a model of 80119 documents\n",
      "2017-05-05 12:17:30,437 : INFO : topic #4 (0.100): 0.024*\"cancer\" + 0.019*\"patients\" + 0.017*\"breast\" + 0.013*\"women\" + 0.012*\"treatment\" + 0.010*\"study\" + 0.008*\"group\" + 0.006*\"care\" + 0.006*\"health\" + 0.005*\"chemotherapy\"\n",
      "2017-05-05 12:17:30,439 : INFO : topic #5 (0.100): 0.019*\"cancer\" + 0.018*\"cell\" + 0.014*\"cells\" + 0.010*\"activity\" + 0.010*\"human\" + 0.009*\"breast\" + 0.009*\"drug\" + 0.007*\"compounds\" + 0.007*\"mcf-7\" + 0.007*\"lines\"\n",
      "2017-05-05 12:17:30,440 : INFO : topic #7 (0.100): 0.012*\"cancer\" + 0.012*\"breast\" + 0.011*\"data\" + 0.011*\"gene\" + 0.011*\"genes\" + 0.008*\"analysis\" + 0.006*\"tumors\" + 0.006*\"expression\" + 0.006*\"tumor\" + 0.005*\"samples\"\n",
      "2017-05-05 12:17:30,441 : INFO : topic #2 (0.100): 0.047*\"patients\" + 0.024*\"survival\" + 0.024*\"breast\" + 0.023*\"cancer\" + 0.012*\"lymph\" + 0.011*\"prognostic\" + 0.010*\"node\" + 0.009*\"analysis\" + 0.009*\"stage\" + 0.009*\"associated\"\n",
      "2017-05-05 12:17:30,442 : INFO : topic #9 (0.100): 0.022*\"breast\" + 0.014*\"imaging\" + 0.011*\"lesions\" + 0.008*\"sensitivity\" + 0.008*\"mri\" + 0.008*\"detection\" + 0.008*\"method\" + 0.007*\"images\" + 0.007*\"diagnostic\" + 0.006*\"mammography\"\n",
      "2017-05-05 12:17:30,444 : INFO : topic diff=0.215642, rho=0.250000\n",
      "2017-05-05 12:17:31,073 : INFO : PROGRESS: pass 0, at document #34000/80119\n",
      "2017-05-05 12:17:33,121 : INFO : merging changes from 2000 documents into a model of 80119 documents\n",
      "2017-05-05 12:17:33,244 : INFO : topic #2 (0.100): 0.047*\"patients\" + 0.024*\"breast\" + 0.023*\"survival\" + 0.023*\"cancer\" + 0.012*\"lymph\" + 0.010*\"prognostic\" + 0.010*\"node\" + 0.009*\"analysis\" + 0.009*\"stage\" + 0.009*\"associated\"\n",
      "2017-05-05 12:17:33,246 : INFO : topic #7 (0.100): 0.012*\"genes\" + 0.012*\"gene\" + 0.012*\"cancer\" + 0.012*\"breast\" + 0.011*\"data\" + 0.008*\"analysis\" + 0.006*\"tumors\" + 0.006*\"samples\" + 0.006*\"expression\" + 0.005*\"tumor\"\n",
      "2017-05-05 12:17:33,247 : INFO : topic #8 (0.100): 0.032*\"patients\" + 0.028*\"breast\" + 0.010*\"surgery\" + 0.009*\"reconstruction\" + 0.008*\"patient\" + 0.007*\"mastectomy\" + 0.007*\"surgical\" + 0.007*\"underwent\" + 0.007*\"cases\" + 0.006*\"cancer\"\n",
      "2017-05-05 12:17:33,249 : INFO : topic #3 (0.100): 0.034*\"patients\" + 0.024*\"breast\" + 0.015*\"cancer\" + 0.013*\"her2\" + 0.012*\"response\" + 0.011*\"chemotherapy\" + 0.011*\"tumors\" + 0.010*\"cases\" + 0.009*\"receptor\" + 0.009*\"expression\"\n",
      "2017-05-05 12:17:33,250 : INFO : topic #5 (0.100): 0.019*\"cancer\" + 0.018*\"cell\" + 0.013*\"cells\" + 0.011*\"activity\" + 0.010*\"human\" + 0.009*\"breast\" + 0.009*\"drug\" + 0.008*\"compounds\" + 0.007*\"mcf-7\" + 0.007*\"lines\"\n",
      "2017-05-05 12:17:33,252 : INFO : topic diff=0.207000, rho=0.242536\n",
      "2017-05-05 12:17:33,909 : INFO : PROGRESS: pass 0, at document #36000/80119\n",
      "2017-05-05 12:17:35,933 : INFO : merging changes from 2000 documents into a model of 80119 documents\n",
      "2017-05-05 12:17:36,045 : INFO : topic #0 (0.100): 0.056*\"cancer\" + 0.039*\"breast\" + 0.022*\"women\" + 0.021*\"risk\" + 0.011*\"screening\" + 0.009*\"study\" + 0.008*\"associated\" + 0.007*\"years\" + 0.007*\"age\" + 0.007*\"association\"\n",
      "2017-05-05 12:17:36,047 : INFO : topic #9 (0.100): 0.023*\"breast\" + 0.013*\"imaging\" + 0.012*\"lesions\" + 0.009*\"sensitivity\" + 0.008*\"detection\" + 0.008*\"method\" + 0.007*\"diagnostic\" + 0.007*\"benign\" + 0.007*\"mri\" + 0.007*\"results\"\n",
      "2017-05-05 12:17:36,048 : INFO : topic #6 (0.100): 0.036*\"cells\" + 0.032*\"cancer\" + 0.028*\"tumor\" + 0.028*\"breast\" + 0.016*\"expression\" + 0.011*\"cell\" + 0.009*\"levels\" + 0.009*\"tumors\" + 0.009*\"metastasis\" + 0.007*\"tissue\"\n",
      "2017-05-05 12:17:36,049 : INFO : topic #8 (0.100): 0.032*\"patients\" + 0.028*\"breast\" + 0.009*\"surgery\" + 0.009*\"patient\" + 0.008*\"reconstruction\" + 0.007*\"mastectomy\" + 0.007*\"surgical\" + 0.007*\"cases\" + 0.007*\"underwent\" + 0.006*\"biopsy\"\n",
      "2017-05-05 12:17:36,050 : INFO : topic #2 (0.100): 0.048*\"patients\" + 0.024*\"breast\" + 0.024*\"survival\" + 0.023*\"cancer\" + 0.012*\"lymph\" + 0.011*\"node\" + 0.011*\"prognostic\" + 0.009*\"analysis\" + 0.009*\"stage\" + 0.008*\"associated\"\n",
      "2017-05-05 12:17:36,051 : INFO : topic diff=0.185328, rho=0.235702\n",
      "2017-05-05 12:17:36,679 : INFO : PROGRESS: pass 0, at document #38000/80119\n",
      "2017-05-05 12:17:38,665 : INFO : merging changes from 2000 documents into a model of 80119 documents\n",
      "2017-05-05 12:17:38,772 : INFO : topic #1 (0.100): 0.028*\"cells\" + 0.027*\"cancer\" + 0.024*\"breast\" + 0.021*\"cell\" + 0.021*\"expression\" + 0.010*\"protein\" + 0.008*\"growth\" + 0.007*\"human\" + 0.006*\"activity\" + 0.006*\"gene\"\n",
      "2017-05-05 12:17:38,773 : INFO : topic #0 (0.100): 0.055*\"cancer\" + 0.039*\"breast\" + 0.022*\"risk\" + 0.022*\"women\" + 0.010*\"screening\" + 0.009*\"study\" + 0.008*\"associated\" + 0.007*\"years\" + 0.007*\"age\" + 0.007*\"association\"\n",
      "2017-05-05 12:17:38,774 : INFO : topic #2 (0.100): 0.049*\"patients\" + 0.024*\"breast\" + 0.024*\"survival\" + 0.022*\"cancer\" + 0.013*\"lymph\" + 0.011*\"node\" + 0.011*\"prognostic\" + 0.009*\"analysis\" + 0.008*\"stage\" + 0.008*\"status\"\n",
      "2017-05-05 12:17:38,775 : INFO : topic #4 (0.100): 0.024*\"cancer\" + 0.020*\"patients\" + 0.018*\"breast\" + 0.014*\"women\" + 0.013*\"treatment\" + 0.010*\"study\" + 0.008*\"group\" + 0.006*\"care\" + 0.006*\"health\" + 0.005*\"chemotherapy\"\n",
      "2017-05-05 12:17:38,776 : INFO : topic #5 (0.100): 0.018*\"cancer\" + 0.018*\"cell\" + 0.014*\"cells\" + 0.011*\"activity\" + 0.011*\"human\" + 0.009*\"breast\" + 0.008*\"drug\" + 0.007*\"compounds\" + 0.007*\"lines\" + 0.007*\"mcf-7\"\n",
      "2017-05-05 12:17:38,777 : INFO : topic diff=0.171267, rho=0.229416\n",
      "2017-05-05 12:17:46,562 : INFO : -7.512 per-word bound, 182.5 perplexity estimate based on a held-out corpus of 2000 documents with 227020 words\n",
      "2017-05-05 12:17:46,563 : INFO : PROGRESS: pass 0, at document #40000/80119\n",
      "2017-05-05 12:17:48,601 : INFO : merging changes from 2000 documents into a model of 80119 documents\n",
      "2017-05-05 12:17:48,710 : INFO : topic #4 (0.100): 0.024*\"cancer\" + 0.020*\"patients\" + 0.017*\"breast\" + 0.015*\"women\" + 0.013*\"treatment\" + 0.010*\"study\" + 0.007*\"group\" + 0.006*\"care\" + 0.006*\"health\" + 0.005*\"therapy\"\n",
      "2017-05-05 12:17:48,711 : INFO : topic #9 (0.100): 0.023*\"breast\" + 0.013*\"lesions\" + 0.013*\"imaging\" + 0.009*\"sensitivity\" + 0.008*\"detection\" + 0.007*\"mri\" + 0.007*\"benign\" + 0.007*\"diagnostic\" + 0.007*\"method\" + 0.007*\"mammography\"\n",
      "2017-05-05 12:17:48,713 : INFO : topic #8 (0.100): 0.031*\"patients\" + 0.028*\"breast\" + 0.009*\"surgery\" + 0.009*\"patient\" + 0.007*\"reconstruction\" + 0.007*\"biopsy\" + 0.007*\"surgical\" + 0.006*\"cases\" + 0.006*\"mastectomy\" + 0.006*\"underwent\"\n",
      "2017-05-05 12:17:48,714 : INFO : topic #2 (0.100): 0.049*\"patients\" + 0.024*\"breast\" + 0.023*\"survival\" + 0.022*\"cancer\" + 0.013*\"lymph\" + 0.011*\"node\" + 0.011*\"prognostic\" + 0.009*\"analysis\" + 0.008*\"stage\" + 0.008*\"status\"\n",
      "2017-05-05 12:17:48,715 : INFO : topic #1 (0.100): 0.028*\"cells\" + 0.027*\"cancer\" + 0.024*\"breast\" + 0.022*\"cell\" + 0.021*\"expression\" + 0.010*\"protein\" + 0.008*\"growth\" + 0.007*\"human\" + 0.006*\"activity\" + 0.006*\"proliferation\"\n",
      "2017-05-05 12:17:48,716 : INFO : topic diff=0.165441, rho=0.223607\n",
      "2017-05-05 12:17:49,399 : INFO : PROGRESS: pass 0, at document #42000/80119\n",
      "2017-05-05 12:17:51,409 : INFO : merging changes from 2000 documents into a model of 80119 documents\n",
      "2017-05-05 12:17:51,510 : INFO : topic #8 (0.100): 0.031*\"patients\" + 0.028*\"breast\" + 0.009*\"surgery\" + 0.009*\"patient\" + 0.008*\"reconstruction\" + 0.007*\"surgical\" + 0.007*\"cases\" + 0.006*\"mastectomy\" + 0.006*\"biopsy\" + 0.006*\"underwent\"\n",
      "2017-05-05 12:17:51,512 : INFO : topic #0 (0.100): 0.056*\"cancer\" + 0.039*\"breast\" + 0.023*\"risk\" + 0.022*\"women\" + 0.010*\"screening\" + 0.009*\"associated\" + 0.009*\"study\" + 0.007*\"age\" + 0.007*\"years\" + 0.007*\"association\"\n",
      "2017-05-05 12:17:51,513 : INFO : topic #4 (0.100): 0.024*\"cancer\" + 0.020*\"patients\" + 0.017*\"breast\" + 0.014*\"women\" + 0.012*\"treatment\" + 0.010*\"study\" + 0.007*\"group\" + 0.006*\"care\" + 0.006*\"health\" + 0.005*\"therapy\"\n",
      "2017-05-05 12:17:51,514 : INFO : topic #6 (0.100): 0.036*\"cells\" + 0.032*\"cancer\" + 0.029*\"tumor\" + 0.028*\"breast\" + 0.017*\"expression\" + 0.012*\"cell\" + 0.010*\"levels\" + 0.009*\"metastasis\" + 0.008*\"tumors\" + 0.007*\"tissue\"\n",
      "2017-05-05 12:17:51,515 : INFO : topic #7 (0.100): 0.014*\"gene\" + 0.012*\"genes\" + 0.012*\"cancer\" + 0.011*\"breast\" + 0.011*\"data\" + 0.009*\"analysis\" + 0.006*\"tumors\" + 0.006*\"expression\" + 0.006*\"samples\" + 0.006*\"identified\"\n",
      "2017-05-05 12:17:51,516 : INFO : topic diff=0.157622, rho=0.218218\n",
      "2017-05-05 12:17:52,150 : INFO : PROGRESS: pass 0, at document #44000/80119\n",
      "2017-05-05 12:17:54,133 : INFO : merging changes from 2000 documents into a model of 80119 documents\n",
      "2017-05-05 12:17:54,232 : INFO : topic #3 (0.100): 0.034*\"patients\" + 0.023*\"breast\" + 0.015*\"cancer\" + 0.014*\"her2\" + 0.012*\"response\" + 0.011*\"chemotherapy\" + 0.011*\"receptor\" + 0.010*\"tumors\" + 0.010*\"cases\" + 0.009*\"carcinoma\"\n",
      "2017-05-05 12:17:54,233 : INFO : topic #6 (0.100): 0.036*\"cells\" + 0.032*\"cancer\" + 0.029*\"tumor\" + 0.029*\"breast\" + 0.017*\"expression\" + 0.012*\"cell\" + 0.010*\"levels\" + 0.010*\"metastasis\" + 0.008*\"tumors\" + 0.007*\"tissue\"\n",
      "2017-05-05 12:17:54,235 : INFO : topic #4 (0.100): 0.024*\"cancer\" + 0.020*\"patients\" + 0.017*\"breast\" + 0.014*\"women\" + 0.012*\"treatment\" + 0.010*\"study\" + 0.007*\"group\" + 0.007*\"care\" + 0.006*\"health\" + 0.005*\"quality\"\n",
      "2017-05-05 12:17:54,236 : INFO : topic #7 (0.100): 0.014*\"gene\" + 0.012*\"genes\" + 0.012*\"cancer\" + 0.012*\"data\" + 0.011*\"breast\" + 0.009*\"analysis\" + 0.006*\"samples\" + 0.006*\"tumors\" + 0.006*\"expression\" + 0.006*\"identified\"\n",
      "2017-05-05 12:17:54,237 : INFO : topic #2 (0.100): 0.050*\"patients\" + 0.025*\"breast\" + 0.024*\"survival\" + 0.023*\"cancer\" + 0.014*\"lymph\" + 0.011*\"node\" + 0.011*\"prognostic\" + 0.009*\"analysis\" + 0.008*\"status\" + 0.008*\"recurrence\"\n",
      "2017-05-05 12:17:54,238 : INFO : topic diff=0.145670, rho=0.213201\n",
      "2017-05-05 12:17:54,887 : INFO : PROGRESS: pass 0, at document #46000/80119\n",
      "2017-05-05 12:17:56,906 : INFO : merging changes from 2000 documents into a model of 80119 documents\n",
      "2017-05-05 12:17:57,006 : INFO : topic #6 (0.100): 0.036*\"cells\" + 0.032*\"cancer\" + 0.029*\"tumor\" + 0.028*\"breast\" + 0.017*\"expression\" + 0.013*\"cell\" + 0.010*\"metastasis\" + 0.010*\"levels\" + 0.009*\"tumors\" + 0.007*\"tissue\"\n",
      "2017-05-05 12:17:57,008 : INFO : topic #2 (0.100): 0.050*\"patients\" + 0.025*\"breast\" + 0.024*\"survival\" + 0.023*\"cancer\" + 0.013*\"lymph\" + 0.012*\"node\" + 0.011*\"prognostic\" + 0.009*\"analysis\" + 0.009*\"recurrence\" + 0.008*\"stage\"\n",
      "2017-05-05 12:17:57,009 : INFO : topic #5 (0.100): 0.018*\"cancer\" + 0.018*\"cell\" + 0.016*\"cells\" + 0.011*\"activity\" + 0.011*\"human\" + 0.010*\"drug\" + 0.009*\"breast\" + 0.007*\"mcf-7\" + 0.007*\"lines\" + 0.007*\"compounds\"\n",
      "2017-05-05 12:17:57,010 : INFO : topic #9 (0.100): 0.024*\"breast\" + 0.013*\"imaging\" + 0.012*\"lesions\" + 0.009*\"sensitivity\" + 0.009*\"mri\" + 0.008*\"detection\" + 0.008*\"method\" + 0.007*\"mammography\" + 0.007*\"benign\" + 0.007*\"images\"\n",
      "2017-05-05 12:17:57,011 : INFO : topic #8 (0.100): 0.031*\"patients\" + 0.028*\"breast\" + 0.010*\"surgery\" + 0.009*\"patient\" + 0.009*\"reconstruction\" + 0.007*\"surgical\" + 0.007*\"mastectomy\" + 0.007*\"biopsy\" + 0.006*\"cases\" + 0.006*\"performed\"\n",
      "2017-05-05 12:17:57,012 : INFO : topic diff=0.138615, rho=0.208514\n",
      "2017-05-05 12:17:57,652 : INFO : PROGRESS: pass 0, at document #48000/80119\n",
      "2017-05-05 12:17:59,642 : INFO : merging changes from 2000 documents into a model of 80119 documents\n",
      "2017-05-05 12:17:59,730 : INFO : topic #6 (0.100): 0.036*\"cells\" + 0.032*\"cancer\" + 0.029*\"tumor\" + 0.028*\"breast\" + 0.017*\"expression\" + 0.013*\"cell\" + 0.010*\"metastasis\" + 0.010*\"levels\" + 0.008*\"tumors\" + 0.007*\"tissue\"\n",
      "2017-05-05 12:17:59,732 : INFO : topic #7 (0.100): 0.014*\"gene\" + 0.012*\"cancer\" + 0.012*\"genes\" + 0.012*\"data\" + 0.011*\"breast\" + 0.009*\"analysis\" + 0.006*\"samples\" + 0.006*\"tumors\" + 0.006*\"identified\" + 0.006*\"expression\"\n",
      "2017-05-05 12:17:59,733 : INFO : topic #4 (0.100): 0.025*\"cancer\" + 0.020*\"patients\" + 0.017*\"breast\" + 0.013*\"women\" + 0.012*\"treatment\" + 0.010*\"study\" + 0.007*\"care\" + 0.007*\"group\" + 0.006*\"health\" + 0.005*\"quality\"\n",
      "2017-05-05 12:17:59,734 : INFO : topic #3 (0.100): 0.034*\"patients\" + 0.023*\"breast\" + 0.015*\"cancer\" + 0.014*\"her2\" + 0.012*\"response\" + 0.011*\"chemotherapy\" + 0.011*\"receptor\" + 0.011*\"tumors\" + 0.009*\"cases\" + 0.009*\"expression\"\n",
      "2017-05-05 12:17:59,735 : INFO : topic #8 (0.100): 0.031*\"patients\" + 0.028*\"breast\" + 0.010*\"surgery\" + 0.009*\"patient\" + 0.009*\"reconstruction\" + 0.007*\"surgical\" + 0.007*\"mastectomy\" + 0.007*\"biopsy\" + 0.006*\"underwent\" + 0.006*\"cases\"\n",
      "2017-05-05 12:17:59,736 : INFO : topic diff=0.129195, rho=0.204124\n",
      "2017-05-05 12:18:00,346 : INFO : PROGRESS: pass 0, at document #50000/80119\n",
      "2017-05-05 12:18:02,240 : INFO : merging changes from 2000 documents into a model of 80119 documents\n",
      "2017-05-05 12:18:02,333 : INFO : topic #7 (0.100): 0.014*\"gene\" + 0.013*\"genes\" + 0.012*\"cancer\" + 0.012*\"data\" + 0.011*\"breast\" + 0.009*\"analysis\" + 0.006*\"samples\" + 0.006*\"tumors\" + 0.006*\"identified\" + 0.005*\"expression\"\n",
      "2017-05-05 12:18:02,334 : INFO : topic #8 (0.100): 0.030*\"patients\" + 0.028*\"breast\" + 0.010*\"surgery\" + 0.009*\"patient\" + 0.009*\"reconstruction\" + 0.008*\"mastectomy\" + 0.007*\"surgical\" + 0.007*\"biopsy\" + 0.006*\"underwent\" + 0.006*\"cases\"\n",
      "2017-05-05 12:18:02,336 : INFO : topic #2 (0.100): 0.052*\"patients\" + 0.025*\"breast\" + 0.024*\"survival\" + 0.023*\"cancer\" + 0.013*\"lymph\" + 0.011*\"prognostic\" + 0.011*\"node\" + 0.009*\"analysis\" + 0.009*\"recurrence\" + 0.009*\"associated\"\n",
      "2017-05-05 12:18:02,337 : INFO : topic #3 (0.100): 0.034*\"patients\" + 0.023*\"breast\" + 0.015*\"cancer\" + 0.014*\"her2\" + 0.012*\"response\" + 0.011*\"chemotherapy\" + 0.011*\"receptor\" + 0.010*\"tumors\" + 0.009*\"cases\" + 0.009*\"carcinoma\"\n",
      "2017-05-05 12:18:02,338 : INFO : topic #4 (0.100): 0.024*\"cancer\" + 0.019*\"patients\" + 0.017*\"breast\" + 0.013*\"women\" + 0.013*\"treatment\" + 0.010*\"study\" + 0.007*\"care\" + 0.007*\"group\" + 0.006*\"health\" + 0.005*\"quality\"\n",
      "2017-05-05 12:18:02,339 : INFO : topic diff=0.116789, rho=0.200000\n",
      "2017-05-05 12:18:02,983 : INFO : PROGRESS: pass 0, at document #52000/80119\n",
      "2017-05-05 12:18:05,068 : INFO : merging changes from 2000 documents into a model of 80119 documents\n",
      "2017-05-05 12:18:05,152 : INFO : topic #4 (0.100): 0.024*\"cancer\" + 0.020*\"patients\" + 0.017*\"breast\" + 0.013*\"women\" + 0.013*\"treatment\" + 0.010*\"study\" + 0.007*\"care\" + 0.007*\"group\" + 0.006*\"health\" + 0.005*\"quality\"\n",
      "2017-05-05 12:18:05,154 : INFO : topic #1 (0.100): 0.029*\"cancer\" + 0.028*\"cells\" + 0.026*\"breast\" + 0.023*\"expression\" + 0.022*\"cell\" + 0.010*\"protein\" + 0.008*\"growth\" + 0.006*\"proliferation\" + 0.006*\"human\" + 0.006*\"apoptosis\"\n",
      "2017-05-05 12:18:05,155 : INFO : topic #8 (0.100): 0.030*\"patients\" + 0.029*\"breast\" + 0.010*\"surgery\" + 0.009*\"patient\" + 0.009*\"reconstruction\" + 0.008*\"mastectomy\" + 0.007*\"surgical\" + 0.007*\"underwent\" + 0.007*\"biopsy\" + 0.006*\"cases\"\n",
      "2017-05-05 12:18:05,156 : INFO : topic #9 (0.100): 0.025*\"breast\" + 0.015*\"imaging\" + 0.012*\"lesions\" + 0.010*\"mri\" + 0.009*\"detection\" + 0.009*\"sensitivity\" + 0.008*\"method\" + 0.007*\"mammography\" + 0.007*\"results\" + 0.007*\"benign\"\n",
      "2017-05-05 12:18:05,158 : INFO : topic #0 (0.100): 0.058*\"cancer\" + 0.040*\"breast\" + 0.023*\"risk\" + 0.022*\"women\" + 0.010*\"screening\" + 0.009*\"associated\" + 0.009*\"study\" + 0.008*\"years\" + 0.007*\"age\" + 0.007*\"association\"\n",
      "2017-05-05 12:18:05,159 : INFO : topic diff=0.136566, rho=0.196116\n",
      "2017-05-05 12:18:05,800 : INFO : PROGRESS: pass 0, at document #54000/80119\n",
      "2017-05-05 12:18:07,774 : INFO : merging changes from 2000 documents into a model of 80119 documents\n",
      "2017-05-05 12:18:07,859 : INFO : topic #5 (0.100): 0.019*\"cancer\" + 0.018*\"cell\" + 0.018*\"cells\" + 0.012*\"activity\" + 0.010*\"human\" + 0.010*\"drug\" + 0.009*\"breast\" + 0.008*\"mcf-7\" + 0.007*\"showed\" + 0.007*\"compounds\"\n",
      "2017-05-05 12:18:07,860 : INFO : topic #7 (0.100): 0.014*\"gene\" + 0.013*\"cancer\" + 0.012*\"genes\" + 0.012*\"data\" + 0.011*\"breast\" + 0.009*\"analysis\" + 0.007*\"samples\" + 0.006*\"identified\" + 0.006*\"different\" + 0.005*\"tumors\"\n",
      "2017-05-05 12:18:07,861 : INFO : topic #4 (0.100): 0.024*\"cancer\" + 0.020*\"patients\" + 0.017*\"breast\" + 0.013*\"women\" + 0.013*\"treatment\" + 0.010*\"study\" + 0.007*\"group\" + 0.007*\"care\" + 0.006*\"health\" + 0.005*\"quality\"\n",
      "2017-05-05 12:18:07,862 : INFO : topic #8 (0.100): 0.029*\"patients\" + 0.028*\"breast\" + 0.010*\"surgery\" + 0.009*\"patient\" + 0.009*\"reconstruction\" + 0.008*\"mastectomy\" + 0.007*\"surgical\" + 0.007*\"underwent\" + 0.007*\"biopsy\" + 0.007*\"cases\"\n",
      "2017-05-05 12:18:07,864 : INFO : topic #0 (0.100): 0.059*\"cancer\" + 0.040*\"breast\" + 0.023*\"risk\" + 0.022*\"women\" + 0.009*\"screening\" + 0.009*\"study\" + 0.009*\"associated\" + 0.008*\"years\" + 0.007*\"age\" + 0.007*\"association\"\n",
      "2017-05-05 12:18:07,865 : INFO : topic diff=0.113293, rho=0.192450\n",
      "2017-05-05 12:18:08,541 : INFO : PROGRESS: pass 0, at document #56000/80119\n",
      "2017-05-05 12:18:10,548 : INFO : merging changes from 2000 documents into a model of 80119 documents\n",
      "2017-05-05 12:18:10,626 : INFO : topic #5 (0.100): 0.019*\"cancer\" + 0.018*\"cell\" + 0.017*\"cells\" + 0.011*\"activity\" + 0.010*\"drug\" + 0.010*\"human\" + 0.009*\"breast\" + 0.008*\"mcf-7\" + 0.007*\"showed\" + 0.007*\"compounds\"\n",
      "2017-05-05 12:18:10,628 : INFO : topic #0 (0.100): 0.059*\"cancer\" + 0.039*\"breast\" + 0.023*\"risk\" + 0.022*\"women\" + 0.010*\"screening\" + 0.009*\"study\" + 0.009*\"associated\" + 0.008*\"years\" + 0.008*\"age\" + 0.007*\"association\"\n",
      "2017-05-05 12:18:10,629 : INFO : topic #7 (0.100): 0.014*\"gene\" + 0.013*\"cancer\" + 0.012*\"genes\" + 0.012*\"data\" + 0.011*\"breast\" + 0.010*\"analysis\" + 0.006*\"samples\" + 0.006*\"identified\" + 0.006*\"different\" + 0.005*\"expression\"\n",
      "2017-05-05 12:18:10,630 : INFO : topic #1 (0.100): 0.030*\"cancer\" + 0.028*\"cells\" + 0.026*\"breast\" + 0.023*\"cell\" + 0.023*\"expression\" + 0.010*\"protein\" + 0.007*\"growth\" + 0.007*\"proliferation\" + 0.006*\"apoptosis\" + 0.006*\"human\"\n",
      "2017-05-05 12:18:10,631 : INFO : topic #2 (0.100): 0.054*\"patients\" + 0.025*\"breast\" + 0.023*\"cancer\" + 0.023*\"survival\" + 0.013*\"lymph\" + 0.012*\"node\" + 0.011*\"prognostic\" + 0.009*\"analysis\" + 0.009*\"recurrence\" + 0.009*\"stage\"\n",
      "2017-05-05 12:18:10,632 : INFO : topic diff=0.108783, rho=0.188982\n",
      "2017-05-05 12:18:11,285 : INFO : PROGRESS: pass 0, at document #58000/80119\n",
      "2017-05-05 12:18:13,234 : INFO : merging changes from 2000 documents into a model of 80119 documents\n",
      "2017-05-05 12:18:13,318 : INFO : topic #3 (0.100): 0.033*\"patients\" + 0.022*\"breast\" + 0.015*\"her2\" + 0.015*\"cancer\" + 0.013*\"chemotherapy\" + 0.012*\"response\" + 0.010*\"receptor\" + 0.010*\"cases\" + 0.010*\"tumors\" + 0.009*\"treatment\"\n",
      "2017-05-05 12:18:13,319 : INFO : topic #4 (0.100): 0.024*\"cancer\" + 0.020*\"patients\" + 0.017*\"breast\" + 0.013*\"treatment\" + 0.013*\"women\" + 0.010*\"study\" + 0.007*\"care\" + 0.007*\"group\" + 0.006*\"health\" + 0.005*\"quality\"\n",
      "2017-05-05 12:18:13,320 : INFO : topic #2 (0.100): 0.053*\"patients\" + 0.025*\"breast\" + 0.024*\"cancer\" + 0.024*\"survival\" + 0.013*\"lymph\" + 0.011*\"node\" + 0.011*\"prognostic\" + 0.009*\"analysis\" + 0.009*\"recurrence\" + 0.009*\"stage\"\n",
      "2017-05-05 12:18:13,321 : INFO : topic #6 (0.100): 0.035*\"cells\" + 0.033*\"cancer\" + 0.029*\"tumor\" + 0.028*\"breast\" + 0.018*\"expression\" + 0.013*\"cell\" + 0.012*\"metastasis\" + 0.009*\"levels\" + 0.008*\"tumors\" + 0.007*\"metastatic\"\n",
      "2017-05-05 12:18:13,322 : INFO : topic #9 (0.100): 0.025*\"breast\" + 0.015*\"imaging\" + 0.013*\"lesions\" + 0.010*\"mri\" + 0.009*\"detection\" + 0.009*\"sensitivity\" + 0.007*\"method\" + 0.007*\"benign\" + 0.007*\"mammography\" + 0.007*\"diagnostic\"\n",
      "2017-05-05 12:18:13,323 : INFO : topic diff=0.102336, rho=0.185695\n",
      "2017-05-05 12:18:21,087 : INFO : -7.538 per-word bound, 185.9 perplexity estimate based on a held-out corpus of 2000 documents with 232212 words\n",
      "2017-05-05 12:18:21,088 : INFO : PROGRESS: pass 0, at document #60000/80119\n",
      "2017-05-05 12:18:23,031 : INFO : merging changes from 2000 documents into a model of 80119 documents\n",
      "2017-05-05 12:18:23,109 : INFO : topic #2 (0.100): 0.054*\"patients\" + 0.025*\"breast\" + 0.024*\"cancer\" + 0.024*\"survival\" + 0.012*\"lymph\" + 0.011*\"prognostic\" + 0.011*\"node\" + 0.010*\"analysis\" + 0.009*\"recurrence\" + 0.009*\"stage\"\n",
      "2017-05-05 12:18:23,110 : INFO : topic #0 (0.100): 0.058*\"cancer\" + 0.040*\"breast\" + 0.023*\"risk\" + 0.022*\"women\" + 0.011*\"screening\" + 0.010*\"associated\" + 0.009*\"study\" + 0.008*\"years\" + 0.008*\"age\" + 0.007*\"association\"\n",
      "2017-05-05 12:18:23,112 : INFO : topic #1 (0.100): 0.031*\"cancer\" + 0.028*\"cells\" + 0.026*\"breast\" + 0.023*\"cell\" + 0.022*\"expression\" + 0.009*\"protein\" + 0.007*\"growth\" + 0.007*\"proliferation\" + 0.006*\"apoptosis\" + 0.006*\"signaling\"\n",
      "2017-05-05 12:18:23,113 : INFO : topic #5 (0.100): 0.019*\"cancer\" + 0.018*\"cells\" + 0.018*\"cell\" + 0.011*\"activity\" + 0.010*\"drug\" + 0.009*\"human\" + 0.009*\"breast\" + 0.007*\"mcf-7\" + 0.007*\"showed\" + 0.007*\"lines\"\n",
      "2017-05-05 12:18:23,114 : INFO : topic #9 (0.100): 0.025*\"breast\" + 0.015*\"imaging\" + 0.012*\"lesions\" + 0.011*\"mri\" + 0.009*\"detection\" + 0.008*\"sensitivity\" + 0.007*\"method\" + 0.007*\"mammography\" + 0.007*\"diagnostic\" + 0.007*\"benign\"\n",
      "2017-05-05 12:18:23,115 : INFO : topic diff=0.094126, rho=0.182574\n",
      "2017-05-05 12:18:23,733 : INFO : PROGRESS: pass 0, at document #62000/80119\n",
      "2017-05-05 12:18:25,806 : INFO : merging changes from 2000 documents into a model of 80119 documents\n",
      "2017-05-05 12:18:25,909 : INFO : topic #5 (0.100): 0.019*\"cancer\" + 0.018*\"cells\" + 0.018*\"cell\" + 0.011*\"activity\" + 0.010*\"drug\" + 0.010*\"human\" + 0.009*\"breast\" + 0.008*\"mcf-7\" + 0.007*\"showed\" + 0.007*\"lines\"\n",
      "2017-05-05 12:18:25,911 : INFO : topic #1 (0.100): 0.030*\"cancer\" + 0.028*\"cells\" + 0.026*\"breast\" + 0.023*\"cell\" + 0.022*\"expression\" + 0.009*\"protein\" + 0.007*\"growth\" + 0.007*\"proliferation\" + 0.006*\"apoptosis\" + 0.006*\"signaling\"\n",
      "2017-05-05 12:18:25,913 : INFO : topic #4 (0.100): 0.024*\"cancer\" + 0.020*\"patients\" + 0.017*\"breast\" + 0.013*\"women\" + 0.013*\"treatment\" + 0.010*\"study\" + 0.007*\"group\" + 0.007*\"care\" + 0.006*\"health\" + 0.005*\"quality\"\n",
      "2017-05-05 12:18:25,915 : INFO : topic #9 (0.100): 0.025*\"breast\" + 0.014*\"imaging\" + 0.012*\"lesions\" + 0.010*\"mri\" + 0.009*\"detection\" + 0.008*\"sensitivity\" + 0.007*\"method\" + 0.007*\"mammography\" + 0.007*\"results\" + 0.007*\"benign\"\n",
      "2017-05-05 12:18:25,916 : INFO : topic #3 (0.100): 0.033*\"patients\" + 0.022*\"breast\" + 0.016*\"her2\" + 0.015*\"cancer\" + 0.013*\"chemotherapy\" + 0.012*\"response\" + 0.010*\"receptor\" + 0.010*\"tumors\" + 0.010*\"treatment\" + 0.009*\"cases\"\n",
      "2017-05-05 12:18:25,918 : INFO : topic diff=0.090460, rho=0.179605\n",
      "2017-05-05 12:18:26,728 : INFO : PROGRESS: pass 0, at document #64000/80119\n",
      "2017-05-05 12:18:28,662 : INFO : merging changes from 2000 documents into a model of 80119 documents\n",
      "2017-05-05 12:18:28,733 : INFO : topic #7 (0.100): 0.014*\"gene\" + 0.013*\"cancer\" + 0.013*\"genes\" + 0.012*\"data\" + 0.010*\"breast\" + 0.009*\"analysis\" + 0.007*\"samples\" + 0.006*\"identified\" + 0.006*\"mutations\" + 0.006*\"different\"\n",
      "2017-05-05 12:18:28,734 : INFO : topic #2 (0.100): 0.055*\"patients\" + 0.025*\"breast\" + 0.024*\"cancer\" + 0.024*\"survival\" + 0.013*\"lymph\" + 0.011*\"node\" + 0.011*\"prognostic\" + 0.010*\"analysis\" + 0.009*\"stage\" + 0.009*\"tumor\"\n",
      "2017-05-05 12:18:28,736 : INFO : topic #8 (0.100): 0.029*\"patients\" + 0.028*\"breast\" + 0.010*\"surgery\" + 0.009*\"patient\" + 0.009*\"reconstruction\" + 0.007*\"surgical\" + 0.007*\"mastectomy\" + 0.007*\"cases\" + 0.006*\"underwent\" + 0.006*\"biopsy\"\n",
      "2017-05-05 12:18:28,737 : INFO : topic #4 (0.100): 0.024*\"cancer\" + 0.019*\"patients\" + 0.017*\"breast\" + 0.013*\"women\" + 0.013*\"treatment\" + 0.010*\"study\" + 0.007*\"group\" + 0.007*\"care\" + 0.006*\"health\" + 0.005*\"quality\"\n",
      "2017-05-05 12:18:28,739 : INFO : topic #5 (0.100): 0.019*\"cancer\" + 0.018*\"cells\" + 0.018*\"cell\" + 0.011*\"activity\" + 0.010*\"human\" + 0.010*\"drug\" + 0.009*\"breast\" + 0.008*\"mcf-7\" + 0.007*\"showed\" + 0.007*\"compounds\"\n",
      "2017-05-05 12:18:28,740 : INFO : topic diff=0.086508, rho=0.176777\n",
      "2017-05-05 12:18:29,380 : INFO : PROGRESS: pass 0, at document #66000/80119\n",
      "2017-05-05 12:18:31,329 : INFO : merging changes from 2000 documents into a model of 80119 documents\n",
      "2017-05-05 12:18:31,406 : INFO : topic #9 (0.100): 0.025*\"breast\" + 0.015*\"imaging\" + 0.012*\"lesions\" + 0.010*\"mri\" + 0.008*\"detection\" + 0.008*\"sensitivity\" + 0.007*\"method\" + 0.007*\"mammography\" + 0.007*\"benign\" + 0.007*\"images\"\n",
      "2017-05-05 12:18:31,407 : INFO : topic #7 (0.100): 0.014*\"gene\" + 0.013*\"cancer\" + 0.013*\"genes\" + 0.012*\"data\" + 0.010*\"breast\" + 0.010*\"analysis\" + 0.007*\"samples\" + 0.007*\"identified\" + 0.006*\"mutations\" + 0.006*\"different\"\n",
      "2017-05-05 12:18:31,409 : INFO : topic #5 (0.100): 0.018*\"cancer\" + 0.018*\"cells\" + 0.018*\"cell\" + 0.011*\"activity\" + 0.010*\"human\" + 0.009*\"drug\" + 0.008*\"breast\" + 0.008*\"mcf-7\" + 0.007*\"showed\" + 0.007*\"compounds\"\n",
      "2017-05-05 12:18:31,410 : INFO : topic #4 (0.100): 0.025*\"cancer\" + 0.019*\"patients\" + 0.017*\"breast\" + 0.013*\"women\" + 0.013*\"treatment\" + 0.010*\"study\" + 0.007*\"care\" + 0.007*\"group\" + 0.006*\"health\" + 0.005*\"quality\"\n",
      "2017-05-05 12:18:31,411 : INFO : topic #0 (0.100): 0.058*\"cancer\" + 0.040*\"breast\" + 0.024*\"risk\" + 0.023*\"women\" + 0.011*\"screening\" + 0.009*\"associated\" + 0.009*\"study\" + 0.008*\"years\" + 0.008*\"age\" + 0.007*\"cancers\"\n",
      "2017-05-05 12:18:31,412 : INFO : topic diff=0.082343, rho=0.174078\n",
      "2017-05-05 12:18:32,048 : INFO : PROGRESS: pass 0, at document #68000/80119\n",
      "2017-05-05 12:18:33,948 : INFO : merging changes from 2000 documents into a model of 80119 documents\n",
      "2017-05-05 12:18:34,017 : INFO : topic #9 (0.100): 0.025*\"breast\" + 0.015*\"imaging\" + 0.013*\"lesions\" + 0.010*\"mri\" + 0.008*\"detection\" + 0.008*\"sensitivity\" + 0.008*\"method\" + 0.007*\"benign\" + 0.007*\"images\" + 0.007*\"mammography\"\n",
      "2017-05-05 12:18:34,018 : INFO : topic #2 (0.100): 0.055*\"patients\" + 0.025*\"breast\" + 0.024*\"survival\" + 0.024*\"cancer\" + 0.013*\"lymph\" + 0.011*\"prognostic\" + 0.011*\"node\" + 0.009*\"analysis\" + 0.009*\"stage\" + 0.009*\"tumor\"\n",
      "2017-05-05 12:18:34,020 : INFO : topic #6 (0.100): 0.037*\"cells\" + 0.033*\"cancer\" + 0.029*\"tumor\" + 0.028*\"breast\" + 0.018*\"expression\" + 0.013*\"cell\" + 0.011*\"metastasis\" + 0.010*\"levels\" + 0.009*\"tumors\" + 0.007*\"metastatic\"\n",
      "2017-05-05 12:18:34,021 : INFO : topic #3 (0.100): 0.033*\"patients\" + 0.022*\"breast\" + 0.015*\"her2\" + 0.014*\"cancer\" + 0.014*\"chemotherapy\" + 0.012*\"response\" + 0.011*\"receptor\" + 0.011*\"tumors\" + 0.010*\"cases\" + 0.010*\"treatment\"\n",
      "2017-05-05 12:18:34,022 : INFO : topic #1 (0.100): 0.029*\"cancer\" + 0.028*\"cells\" + 0.026*\"breast\" + 0.022*\"cell\" + 0.022*\"expression\" + 0.010*\"protein\" + 0.007*\"growth\" + 0.007*\"proliferation\" + 0.006*\"human\" + 0.006*\"apoptosis\"\n",
      "2017-05-05 12:18:34,023 : INFO : topic diff=0.077298, rho=0.171499\n",
      "2017-05-05 12:18:34,640 : INFO : PROGRESS: pass 0, at document #70000/80119\n",
      "2017-05-05 12:18:36,574 : INFO : merging changes from 2000 documents into a model of 80119 documents\n",
      "2017-05-05 12:18:36,641 : INFO : topic #7 (0.100): 0.015*\"gene\" + 0.013*\"cancer\" + 0.012*\"genes\" + 0.012*\"data\" + 0.010*\"breast\" + 0.009*\"analysis\" + 0.007*\"samples\" + 0.006*\"identified\" + 0.006*\"different\" + 0.006*\"approach\"\n",
      "2017-05-05 12:18:36,642 : INFO : topic #6 (0.100): 0.037*\"cells\" + 0.032*\"cancer\" + 0.030*\"tumor\" + 0.028*\"breast\" + 0.018*\"expression\" + 0.013*\"cell\" + 0.011*\"metastasis\" + 0.010*\"levels\" + 0.009*\"tumors\" + 0.007*\"tissue\"\n",
      "2017-05-05 12:18:36,643 : INFO : topic #2 (0.100): 0.055*\"patients\" + 0.026*\"breast\" + 0.024*\"cancer\" + 0.024*\"survival\" + 0.013*\"lymph\" + 0.011*\"prognostic\" + 0.011*\"node\" + 0.009*\"analysis\" + 0.009*\"stage\" + 0.009*\"tumor\"\n",
      "2017-05-05 12:18:36,645 : INFO : topic #8 (0.100): 0.029*\"patients\" + 0.029*\"breast\" + 0.010*\"surgery\" + 0.009*\"patient\" + 0.008*\"surgical\" + 0.008*\"reconstruction\" + 0.008*\"cases\" + 0.007*\"mastectomy\" + 0.007*\"biopsy\" + 0.006*\"radiation\"\n",
      "2017-05-05 12:18:36,646 : INFO : topic #9 (0.100): 0.025*\"breast\" + 0.015*\"imaging\" + 0.013*\"lesions\" + 0.010*\"mri\" + 0.008*\"detection\" + 0.008*\"sensitivity\" + 0.007*\"method\" + 0.007*\"mammography\" + 0.007*\"images\" + 0.007*\"benign\"\n",
      "2017-05-05 12:18:36,647 : INFO : topic diff=0.077698, rho=0.169031\n",
      "2017-05-05 12:18:37,308 : INFO : PROGRESS: pass 0, at document #72000/80119\n",
      "2017-05-05 12:18:39,285 : INFO : merging changes from 2000 documents into a model of 80119 documents\n",
      "2017-05-05 12:18:39,351 : INFO : topic #4 (0.100): 0.025*\"cancer\" + 0.018*\"patients\" + 0.017*\"breast\" + 0.014*\"women\" + 0.012*\"treatment\" + 0.010*\"study\" + 0.007*\"group\" + 0.007*\"care\" + 0.006*\"health\" + 0.005*\"quality\"\n",
      "2017-05-05 12:18:39,352 : INFO : topic #3 (0.100): 0.033*\"patients\" + 0.022*\"breast\" + 0.015*\"her2\" + 0.014*\"cancer\" + 0.014*\"chemotherapy\" + 0.012*\"response\" + 0.011*\"receptor\" + 0.010*\"cases\" + 0.010*\"tumors\" + 0.010*\"treatment\"\n",
      "2017-05-05 12:18:39,353 : INFO : topic #1 (0.100): 0.028*\"cancer\" + 0.027*\"cells\" + 0.025*\"breast\" + 0.022*\"cell\" + 0.022*\"expression\" + 0.010*\"protein\" + 0.007*\"growth\" + 0.007*\"proliferation\" + 0.006*\"human\" + 0.006*\"signaling\"\n",
      "2017-05-05 12:18:39,354 : INFO : topic #0 (0.100): 0.057*\"cancer\" + 0.040*\"breast\" + 0.025*\"risk\" + 0.024*\"women\" + 0.011*\"screening\" + 0.009*\"associated\" + 0.009*\"study\" + 0.008*\"years\" + 0.008*\"age\" + 0.007*\"association\"\n",
      "2017-05-05 12:18:39,355 : INFO : topic #2 (0.100): 0.055*\"patients\" + 0.025*\"breast\" + 0.024*\"survival\" + 0.024*\"cancer\" + 0.013*\"lymph\" + 0.011*\"prognostic\" + 0.011*\"node\" + 0.009*\"stage\" + 0.009*\"analysis\" + 0.009*\"tumor\"\n",
      "2017-05-05 12:18:39,357 : INFO : topic diff=0.074279, rho=0.166667\n",
      "2017-05-05 12:18:40,003 : INFO : PROGRESS: pass 0, at document #74000/80119\n",
      "2017-05-05 12:18:41,883 : INFO : merging changes from 2000 documents into a model of 80119 documents\n",
      "2017-05-05 12:18:41,947 : INFO : topic #2 (0.100): 0.054*\"patients\" + 0.025*\"breast\" + 0.024*\"survival\" + 0.024*\"cancer\" + 0.013*\"lymph\" + 0.011*\"prognostic\" + 0.011*\"node\" + 0.009*\"analysis\" + 0.009*\"stage\" + 0.009*\"tumor\"\n",
      "2017-05-05 12:18:41,948 : INFO : topic #5 (0.100): 0.018*\"cells\" + 0.018*\"cell\" + 0.018*\"cancer\" + 0.011*\"activity\" + 0.010*\"human\" + 0.009*\"drug\" + 0.008*\"breast\" + 0.007*\"mcf-7\" + 0.007*\"showed\" + 0.007*\"lines\"\n",
      "2017-05-05 12:18:41,949 : INFO : topic #6 (0.100): 0.036*\"cells\" + 0.032*\"cancer\" + 0.030*\"tumor\" + 0.028*\"breast\" + 0.019*\"expression\" + 0.013*\"cell\" + 0.011*\"metastasis\" + 0.010*\"levels\" + 0.009*\"tumors\" + 0.007*\"tissue\"\n",
      "2017-05-05 12:18:41,950 : INFO : topic #0 (0.100): 0.058*\"cancer\" + 0.040*\"breast\" + 0.025*\"risk\" + 0.024*\"women\" + 0.010*\"screening\" + 0.010*\"associated\" + 0.009*\"study\" + 0.008*\"years\" + 0.008*\"age\" + 0.007*\"association\"\n",
      "2017-05-05 12:18:41,951 : INFO : topic #9 (0.100): 0.026*\"breast\" + 0.015*\"imaging\" + 0.012*\"lesions\" + 0.009*\"mri\" + 0.009*\"detection\" + 0.008*\"sensitivity\" + 0.007*\"method\" + 0.007*\"benign\" + 0.007*\"images\" + 0.007*\"mammography\"\n",
      "2017-05-05 12:18:41,952 : INFO : topic diff=0.068984, rho=0.164399\n",
      "2017-05-05 12:18:42,540 : INFO : PROGRESS: pass 0, at document #76000/80119\n",
      "2017-05-05 12:18:44,360 : INFO : merging changes from 2000 documents into a model of 80119 documents\n",
      "2017-05-05 12:18:44,422 : INFO : topic #1 (0.100): 0.028*\"cancer\" + 0.027*\"cells\" + 0.025*\"breast\" + 0.022*\"expression\" + 0.022*\"cell\" + 0.010*\"protein\" + 0.007*\"growth\" + 0.006*\"proliferation\" + 0.006*\"human\" + 0.006*\"signaling\"\n",
      "2017-05-05 12:18:44,424 : INFO : topic #4 (0.100): 0.025*\"cancer\" + 0.019*\"patients\" + 0.017*\"breast\" + 0.014*\"women\" + 0.013*\"treatment\" + 0.010*\"study\" + 0.007*\"care\" + 0.007*\"group\" + 0.006*\"health\" + 0.005*\"quality\"\n",
      "2017-05-05 12:18:44,425 : INFO : topic #5 (0.100): 0.018*\"cells\" + 0.018*\"cell\" + 0.018*\"cancer\" + 0.011*\"activity\" + 0.010*\"human\" + 0.009*\"drug\" + 0.008*\"breast\" + 0.007*\"mcf-7\" + 0.007*\"lines\" + 0.006*\"showed\"\n",
      "2017-05-05 12:18:44,426 : INFO : topic #6 (0.100): 0.036*\"cells\" + 0.032*\"cancer\" + 0.030*\"tumor\" + 0.028*\"breast\" + 0.019*\"expression\" + 0.013*\"cell\" + 0.011*\"metastasis\" + 0.010*\"levels\" + 0.009*\"tumors\" + 0.007*\"tissue\"\n",
      "2017-05-05 12:18:44,427 : INFO : topic #2 (0.100): 0.054*\"patients\" + 0.026*\"breast\" + 0.025*\"survival\" + 0.024*\"cancer\" + 0.014*\"lymph\" + 0.012*\"prognostic\" + 0.011*\"node\" + 0.010*\"analysis\" + 0.009*\"stage\" + 0.009*\"tumor\"\n",
      "2017-05-05 12:18:44,428 : INFO : topic diff=0.066134, rho=0.162221\n",
      "2017-05-05 12:18:45,067 : INFO : PROGRESS: pass 0, at document #78000/80119\n",
      "2017-05-05 12:18:46,967 : INFO : merging changes from 2000 documents into a model of 80119 documents\n",
      "2017-05-05 12:18:47,030 : INFO : topic #5 (0.100): 0.019*\"cells\" + 0.018*\"cell\" + 0.018*\"cancer\" + 0.012*\"activity\" + 0.010*\"human\" + 0.009*\"drug\" + 0.008*\"breast\" + 0.007*\"mcf-7\" + 0.007*\"lines\" + 0.006*\"showed\"\n",
      "2017-05-05 12:18:47,031 : INFO : topic #2 (0.100): 0.055*\"patients\" + 0.026*\"breast\" + 0.025*\"survival\" + 0.024*\"cancer\" + 0.014*\"lymph\" + 0.012*\"prognostic\" + 0.012*\"node\" + 0.010*\"analysis\" + 0.009*\"stage\" + 0.009*\"tumor\"\n",
      "2017-05-05 12:18:47,033 : INFO : topic #9 (0.100): 0.026*\"breast\" + 0.015*\"imaging\" + 0.012*\"lesions\" + 0.009*\"mri\" + 0.009*\"sensitivity\" + 0.009*\"detection\" + 0.007*\"method\" + 0.007*\"mammography\" + 0.007*\"diagnostic\" + 0.007*\"benign\"\n",
      "2017-05-05 12:18:47,034 : INFO : topic #1 (0.100): 0.028*\"cancer\" + 0.027*\"cells\" + 0.025*\"breast\" + 0.022*\"expression\" + 0.022*\"cell\" + 0.010*\"protein\" + 0.007*\"growth\" + 0.006*\"proliferation\" + 0.006*\"human\" + 0.006*\"signaling\"\n",
      "2017-05-05 12:18:47,035 : INFO : topic #6 (0.100): 0.036*\"cells\" + 0.032*\"cancer\" + 0.030*\"tumor\" + 0.028*\"breast\" + 0.019*\"expression\" + 0.013*\"cell\" + 0.011*\"metastasis\" + 0.009*\"levels\" + 0.009*\"tumors\" + 0.007*\"tissue\"\n",
      "2017-05-05 12:18:47,036 : INFO : topic diff=0.065267, rho=0.160128\n",
      "2017-05-05 12:18:54,739 : INFO : -7.507 per-word bound, 181.8 perplexity estimate based on a held-out corpus of 2000 documents with 229748 words\n",
      "2017-05-05 12:18:54,740 : INFO : PROGRESS: pass 0, at document #80000/80119\n",
      "2017-05-05 12:18:56,647 : INFO : merging changes from 2000 documents into a model of 80119 documents\n",
      "2017-05-05 12:18:56,712 : INFO : topic #7 (0.100): 0.015*\"gene\" + 0.013*\"cancer\" + 0.013*\"genes\" + 0.011*\"data\" + 0.010*\"breast\" + 0.010*\"analysis\" + 0.007*\"samples\" + 0.006*\"identified\" + 0.006*\"dna\" + 0.006*\"different\"\n",
      "2017-05-05 12:18:56,713 : INFO : topic #2 (0.100): 0.055*\"patients\" + 0.026*\"breast\" + 0.024*\"survival\" + 0.024*\"cancer\" + 0.014*\"lymph\" + 0.012*\"node\" + 0.011*\"prognostic\" + 0.010*\"analysis\" + 0.009*\"stage\" + 0.009*\"tumor\"\n",
      "2017-05-05 12:18:56,714 : INFO : topic #0 (0.100): 0.059*\"cancer\" + 0.041*\"breast\" + 0.025*\"risk\" + 0.024*\"women\" + 0.010*\"screening\" + 0.009*\"associated\" + 0.009*\"study\" + 0.008*\"years\" + 0.008*\"age\" + 0.007*\"association\"\n",
      "2017-05-05 12:18:56,715 : INFO : topic #6 (0.100): 0.036*\"cells\" + 0.032*\"cancer\" + 0.030*\"tumor\" + 0.028*\"breast\" + 0.019*\"expression\" + 0.014*\"cell\" + 0.011*\"metastasis\" + 0.009*\"levels\" + 0.009*\"tumors\" + 0.007*\"tissue\"\n",
      "2017-05-05 12:18:56,716 : INFO : topic #4 (0.100): 0.026*\"cancer\" + 0.019*\"patients\" + 0.017*\"breast\" + 0.014*\"women\" + 0.013*\"treatment\" + 0.010*\"study\" + 0.007*\"care\" + 0.007*\"group\" + 0.006*\"health\" + 0.005*\"survivors\"\n",
      "2017-05-05 12:18:56,717 : INFO : topic diff=0.062547, rho=0.158114\n",
      "2017-05-05 12:18:57,200 : INFO : -7.524 per-word bound, 184.0 perplexity estimate based on a held-out corpus of 119 documents with 13656 words\n",
      "2017-05-05 12:18:57,200 : INFO : PROGRESS: pass 0, at document #80119/80119\n",
      "2017-05-05 12:18:57,311 : INFO : merging changes from 119 documents into a model of 80119 documents\n",
      "2017-05-05 12:18:57,374 : INFO : topic #1 (0.100): 0.027*\"cancer\" + 0.026*\"cells\" + 0.025*\"breast\" + 0.022*\"expression\" + 0.022*\"cell\" + 0.010*\"protein\" + 0.007*\"growth\" + 0.007*\"human\" + 0.006*\"proliferation\" + 0.006*\"signaling\"\n",
      "2017-05-05 12:18:57,375 : INFO : topic #3 (0.100): 0.031*\"patients\" + 0.021*\"breast\" + 0.016*\"her2\" + 0.014*\"cancer\" + 0.013*\"chemotherapy\" + 0.011*\"response\" + 0.010*\"cases\" + 0.010*\"tumors\" + 0.010*\"treatment\" + 0.010*\"receptor\"\n",
      "2017-05-05 12:18:57,376 : INFO : topic #4 (0.100): 0.027*\"cancer\" + 0.019*\"patients\" + 0.018*\"breast\" + 0.013*\"women\" + 0.012*\"treatment\" + 0.010*\"study\" + 0.007*\"care\" + 0.007*\"group\" + 0.006*\"health\" + 0.005*\"patient\"\n",
      "2017-05-05 12:18:57,377 : INFO : topic #6 (0.100): 0.036*\"cells\" + 0.033*\"tumor\" + 0.032*\"cancer\" + 0.029*\"breast\" + 0.019*\"expression\" + 0.014*\"cell\" + 0.012*\"metastasis\" + 0.010*\"tumors\" + 0.008*\"levels\" + 0.007*\"human\"\n",
      "2017-05-05 12:18:57,378 : INFO : topic #0 (0.100): 0.060*\"cancer\" + 0.041*\"breast\" + 0.024*\"risk\" + 0.024*\"women\" + 0.010*\"screening\" + 0.009*\"study\" + 0.009*\"associated\" + 0.008*\"years\" + 0.007*\"age\" + 0.007*\"cancers\"\n",
      "2017-05-05 12:18:57,379 : INFO : topic diff=0.095437, rho=0.156174\n"
     ]
    }
   ],
   "source": [
    "lda = models.LdaModel(corpus, id2word=dictionary, num_topics=10)"
   ]
  },
  {
   "cell_type": "code",
   "execution_count": 9,
   "metadata": {
    "collapsed": false
   },
   "outputs": [
    {
     "name": "stderr",
     "output_type": "stream",
     "text": [
      "2017-05-05 12:19:45,080 : INFO : topic #0 (0.100): 0.060*\"cancer\" + 0.041*\"breast\" + 0.024*\"risk\" + 0.024*\"women\" + 0.010*\"screening\" + 0.009*\"study\" + 0.009*\"associated\" + 0.008*\"years\" + 0.007*\"age\" + 0.007*\"cancers\"\n",
      "2017-05-05 12:19:45,081 : INFO : topic #1 (0.100): 0.027*\"cancer\" + 0.026*\"cells\" + 0.025*\"breast\" + 0.022*\"expression\" + 0.022*\"cell\" + 0.010*\"protein\" + 0.007*\"growth\" + 0.007*\"human\" + 0.006*\"proliferation\" + 0.006*\"signaling\"\n",
      "2017-05-05 12:19:45,083 : INFO : topic #2 (0.100): 0.054*\"patients\" + 0.026*\"survival\" + 0.026*\"breast\" + 0.024*\"cancer\" + 0.012*\"lymph\" + 0.011*\"prognostic\" + 0.011*\"stage\" + 0.011*\"node\" + 0.009*\"analysis\" + 0.009*\"tumor\"\n",
      "2017-05-05 12:19:45,084 : INFO : topic #3 (0.100): 0.031*\"patients\" + 0.021*\"breast\" + 0.016*\"her2\" + 0.014*\"cancer\" + 0.013*\"chemotherapy\" + 0.011*\"response\" + 0.010*\"cases\" + 0.010*\"tumors\" + 0.010*\"treatment\" + 0.010*\"receptor\"\n",
      "2017-05-05 12:19:45,085 : INFO : topic #4 (0.100): 0.027*\"cancer\" + 0.019*\"patients\" + 0.018*\"breast\" + 0.013*\"women\" + 0.012*\"treatment\" + 0.010*\"study\" + 0.007*\"care\" + 0.007*\"group\" + 0.006*\"health\" + 0.005*\"patient\"\n",
      "2017-05-05 12:19:45,086 : INFO : topic #5 (0.100): 0.019*\"cells\" + 0.018*\"cell\" + 0.016*\"cancer\" + 0.011*\"activity\" + 0.010*\"human\" + 0.010*\"drug\" + 0.008*\"breast\" + 0.008*\"mcf-7\" + 0.006*\"showed\" + 0.006*\"lines\"\n",
      "2017-05-05 12:19:45,087 : INFO : topic #6 (0.100): 0.036*\"cells\" + 0.033*\"tumor\" + 0.032*\"cancer\" + 0.029*\"breast\" + 0.019*\"expression\" + 0.014*\"cell\" + 0.012*\"metastasis\" + 0.010*\"tumors\" + 0.008*\"levels\" + 0.007*\"human\"\n",
      "2017-05-05 12:19:45,088 : INFO : topic #7 (0.100): 0.015*\"gene\" + 0.013*\"cancer\" + 0.012*\"genes\" + 0.011*\"data\" + 0.010*\"breast\" + 0.010*\"analysis\" + 0.007*\"samples\" + 0.006*\"identified\" + 0.006*\"approach\" + 0.005*\"different\"\n",
      "2017-05-05 12:19:45,090 : INFO : topic #8 (0.100): 0.029*\"breast\" + 0.027*\"patients\" + 0.010*\"surgery\" + 0.009*\"patient\" + 0.008*\"surgical\" + 0.007*\"cases\" + 0.007*\"radiation\" + 0.007*\"reconstruction\" + 0.007*\"mastectomy\" + 0.007*\"biopsy\"\n",
      "2017-05-05 12:19:45,091 : INFO : topic #9 (0.100): 0.026*\"breast\" + 0.017*\"imaging\" + 0.013*\"lesions\" + 0.009*\"sensitivity\" + 0.009*\"detection\" + 0.008*\"mri\" + 0.007*\"mammography\" + 0.007*\"method\" + 0.007*\"benign\" + 0.007*\"tissue\"\n"
     ]
    },
    {
     "data": {
      "text/plain": [
       "[(0,\n",
       "  u'0.060*\"cancer\" + 0.041*\"breast\" + 0.024*\"risk\" + 0.024*\"women\" + 0.010*\"screening\" + 0.009*\"study\" + 0.009*\"associated\" + 0.008*\"years\" + 0.007*\"age\" + 0.007*\"cancers\"'),\n",
       " (1,\n",
       "  u'0.027*\"cancer\" + 0.026*\"cells\" + 0.025*\"breast\" + 0.022*\"expression\" + 0.022*\"cell\" + 0.010*\"protein\" + 0.007*\"growth\" + 0.007*\"human\" + 0.006*\"proliferation\" + 0.006*\"signaling\"'),\n",
       " (2,\n",
       "  u'0.054*\"patients\" + 0.026*\"survival\" + 0.026*\"breast\" + 0.024*\"cancer\" + 0.012*\"lymph\" + 0.011*\"prognostic\" + 0.011*\"stage\" + 0.011*\"node\" + 0.009*\"analysis\" + 0.009*\"tumor\"'),\n",
       " (3,\n",
       "  u'0.031*\"patients\" + 0.021*\"breast\" + 0.016*\"her2\" + 0.014*\"cancer\" + 0.013*\"chemotherapy\" + 0.011*\"response\" + 0.010*\"cases\" + 0.010*\"tumors\" + 0.010*\"treatment\" + 0.010*\"receptor\"'),\n",
       " (4,\n",
       "  u'0.027*\"cancer\" + 0.019*\"patients\" + 0.018*\"breast\" + 0.013*\"women\" + 0.012*\"treatment\" + 0.010*\"study\" + 0.007*\"care\" + 0.007*\"group\" + 0.006*\"health\" + 0.005*\"patient\"'),\n",
       " (5,\n",
       "  u'0.019*\"cells\" + 0.018*\"cell\" + 0.016*\"cancer\" + 0.011*\"activity\" + 0.010*\"human\" + 0.010*\"drug\" + 0.008*\"breast\" + 0.008*\"mcf-7\" + 0.006*\"showed\" + 0.006*\"lines\"'),\n",
       " (6,\n",
       "  u'0.036*\"cells\" + 0.033*\"tumor\" + 0.032*\"cancer\" + 0.029*\"breast\" + 0.019*\"expression\" + 0.014*\"cell\" + 0.012*\"metastasis\" + 0.010*\"tumors\" + 0.008*\"levels\" + 0.007*\"human\"'),\n",
       " (7,\n",
       "  u'0.015*\"gene\" + 0.013*\"cancer\" + 0.012*\"genes\" + 0.011*\"data\" + 0.010*\"breast\" + 0.010*\"analysis\" + 0.007*\"samples\" + 0.006*\"identified\" + 0.006*\"approach\" + 0.005*\"different\"'),\n",
       " (8,\n",
       "  u'0.029*\"breast\" + 0.027*\"patients\" + 0.010*\"surgery\" + 0.009*\"patient\" + 0.008*\"surgical\" + 0.007*\"cases\" + 0.007*\"radiation\" + 0.007*\"reconstruction\" + 0.007*\"mastectomy\" + 0.007*\"biopsy\"'),\n",
       " (9,\n",
       "  u'0.026*\"breast\" + 0.017*\"imaging\" + 0.013*\"lesions\" + 0.009*\"sensitivity\" + 0.009*\"detection\" + 0.008*\"mri\" + 0.007*\"mammography\" + 0.007*\"method\" + 0.007*\"benign\" + 0.007*\"tissue\"')]"
      ]
     },
     "execution_count": 9,
     "metadata": {},
     "output_type": "execute_result"
    }
   ],
   "source": [
    "lda.print_topics(250)"
   ]
  },
  {
   "cell_type": "code",
   "execution_count": 16,
   "metadata": {
    "collapsed": true
   },
   "outputs": [],
   "source": [
    "lsi = models.LsiModel(corpus_tfidf, id2word=dictionary, num_topics=100)\n",
    "corpus_lsi = lsi[corpus_tfidf]"
   ]
  },
  {
   "cell_type": "code",
   "execution_count": 17,
   "metadata": {
    "collapsed": false
   },
   "outputs": [
    {
     "data": {
      "text/plain": [
       "[(0,\n",
       "  u'0.156*\"cells\" + 0.124*\"expression\" + 0.120*\"risk\" + 0.116*\"=\" + 0.113*\"cell\" + 0.111*\"brain\" + 0.110*\"patients\" + 0.110*\"tumor\" + 0.097*\"high\" + 0.095*\"were\"'),\n",
       " (1,\n",
       "  u'-0.291*\"cells\" + -0.181*\"cell\" + 0.180*\"=\" + -0.130*\"expression\" + -0.120*\"chitosan\" + -0.118*\"apoptosis\" + 0.116*\"p\" + -0.110*\"drug\" + -0.104*\"cells.\" + -0.103*\"signaling\"'),\n",
       " (2,\n",
       "  u'-0.429*\"brain\" + -0.279*\"metastases\" + -0.229*\"risk\" + 0.137*\"chitosan\" + -0.123*\"metastatic\" + -0.121*\"lung\" + 0.120*\"cells\" + 0.111*\"group\" + -0.104*\"incidence\" + 0.103*\"drug\"'),\n",
       " (3,\n",
       "  u'-0.396*\"brain\" + -0.280*\"metastases\" + 0.257*\"risk\" + 0.146*\"high\" + 0.126*\"95%\" + 0.117*\"polymorphism\" + 0.108*\"susceptibility\" + -0.105*\"metastatic\" + 0.104*\"genetic\" + 0.099*\"polymorphisms\"'),\n",
       " (4,\n",
       "  u'-0.166*\"=\" + 0.152*\"risk\" + -0.139*\"expression\" + -0.133*\"p\" + -0.111*\"survival\" + 0.108*\"screening\" + -0.105*\"(p\" + 0.104*\"data\" + -0.093*\"expressions\" + 0.092*\"workflow\"'),\n",
       " (5,\n",
       "  u'-0.240*\"risk\" + -0.163*\"brain\" + 0.163*\"high\" + 0.163*\"tumors\" + -0.148*\"cells\" + 0.148*\"expression\" + -0.147*\"p\" + 0.128*\"most\" + 0.107*\"patients.\" + -0.104*\"genetic\"'),\n",
       " (6,\n",
       "  u'-0.219*\"stage\" + 0.164*\"chitosan\" + -0.162*\"tumour\" + -0.151*\"antigen\" + 0.148*\"drug\" + 0.144*\"delivery\" + -0.129*\"tissues\" + -0.124*\"health\" + -0.117*\"normal\" + 0.113*\"tumors\"'),\n",
       " (7,\n",
       "  u'-0.240*\"chitosan\" + -0.232*\"stage\" + -0.188*\"brain\" + -0.140*\"diagnosis\" + -0.140*\"delivery\" + 0.140*\"signaling\" + 0.134*\"risk\" + -0.118*\"antigen\" + 0.108*\"alterations\" + 0.107*\"stem\"'),\n",
       " (8,\n",
       "  u'0.242*\"high\" + -0.182*\"stage\" + 0.156*\"chitosan\" + 0.120*\"risk\" + -0.114*\"tumor\" + -0.108*\"p\" + 0.100*\"density,\" + 0.100*\"imaging\" + -0.100*\"activity\" + -0.094*\"resistance\"'),\n",
       " (9,\n",
       "  u'0.200*\"alterations\" + -0.171*\"brain\" + -0.150*\"high\" + 0.137*\"imaging\" + 0.129*\"mutations\" + 0.118*\"method\" + 0.117*\"genomic\" + 0.113*\"tissue\" + 0.110*\"sensitivity\" + -0.109*\"p\"')]"
      ]
     },
     "execution_count": 17,
     "metadata": {},
     "output_type": "execute_result"
    }
   ],
   "source": [
    "lsi.print_topics(10)"
   ]
  },
  {
   "cell_type": "code",
   "execution_count": 18,
   "metadata": {
    "collapsed": false
   },
   "outputs": [
    {
     "name": "stdout",
     "output_type": "stream",
     "text": [
      "[(0, 0.1618305528260669), (1, 0.10213439366325827), (2, -0.0031919388513452192), (3, 0.054730976306619085), (4, -0.00093457154597284759), (5, 0.090056865945287237), (6, 0.056312049143019446), (7, -0.097060673097350045), (8, 0.039807836043831306), (9, -0.19760772792796447), (10, 0.16991109434882765), (11, -0.048540211048653081), (12, 0.21638753936692717), (13, -0.0048650144265839235), (14, -0.19269644618958859), (15, 0.21872659237625164), (16, -0.076412415357392613), (17, 0.11380702313048356), (18, -0.35568319171879237), (19, -0.13143809323339725), (20, 0.053748638852027103), (21, 0.1555797077205382), (22, -0.23058723050159186), (23, -0.1278388079854671), (24, -0.065608480545145592), (25, 0.13717493976660475), (26, -0.10480274098349121), (27, -0.050576162489487604), (28, -0.00047063239200310501), (29, -0.0564197451013317), (30, 0.061010667029363502), (31, 0.050657035530149871), (32, -0.02478271288989678), (33, -0.078604631611985096), (34, -0.045432229382981158), (35, -0.013508313747830946), (36, 0.19876046730154703), (37, 0.11685386964634124), (38, -0.00082082368868615176), (39, -0.09308431542019488), (40, -0.0039179648883264613), (41, -0.077762399536796756), (42, -0.057961952901246679), (43, 0.13001629493027581), (44, 0.074566962712037319), (45, 0.014711550026805282), (46, 0.095372163460008791), (47, -0.03422145296620243), (48, -0.033738171086949202), (49, -0.056478840964087736), (50, -0.042688565781983684), (51, -0.11270604633442047), (52, 0.05045349008414713), (53, 0.146635698818192), (54, 0.19140205262289936), (55, 0.022287756215191645), (56, -0.047352055533030978), (57, -0.15815898052499722), (58, -0.0063710254723800281), (59, 0.12483113046994417), (60, 0.071222743387839391), (61, 0.089384980136224881), (62, -0.097760840298394228), (63, -0.00040043831830218569), (64, -0.009737603531982289), (65, -0.067259016543585237), (66, -0.026510160254741594), (67, 0.061799774585593742), (68, 0.15023502188793064), (69, 0.098473898579929678), (70, -0.016874307537407325), (71, -0.06772514530055776), (72, -0.051460467108066996), (73, -0.0084946812546482352), (74, 0.052082189186318129), (75, 0.081024963306462985), (76, -0.12206657935366919), (77, -0.062236084024314839), (78, -0.0092745856559584977), (79, -0.057788102937275536), (80, 0.05387848310564726), (81, 0.040280561273259595), (82, -0.072638239623348255), (83, -0.046478534096093489), (84, 0.054424814559632148), (85, -0.081214722539801831), (86, -0.19226986967278967), (87, 0.02020650504058789), (88, -0.11947647680979208), (89, 0.072892844158793949), (90, -0.060290991093515579), (91, 0.057208151745603952), (92, -0.0060064087517514653), (93, 0.050726171963346944), (94, -0.058541070235912845)]\n",
      "[(0, 0.20843910874560287), (1, -0.20482280436081318), (2, 0.20151559241176598), (3, -0.012564986742794586), (4, 0.20690770125430469), (5, -0.074016569115033307), (6, 0.2684969377389263), (7, -0.25132385862069828), (8, 0.13195505136474694), (9, 0.090837765424021499), (10, 0.12562878627804425), (11, 0.016903146992945144), (12, -0.0011746338682626202), (13, -0.00027616576560047113), (14, 0.07558258440511742), (15, -0.044192396960574545), (16, -0.030144919330450454), (17, -0.10661758677517587), (18, -0.039882846027985475), (19, 0.059495857064164243), (20, 0.018697974253233187), (21, -0.0094911077169085555), (22, 0.081886639883918907), (23, -0.062625660202332942), (24, 0.065545631619220668), (25, 0.070928514376326857), (26, -0.10271584831375781), (27, -0.044035711622806291), (28, -0.11711333768178236), (29, -0.072876267580804968), (30, -0.10259841391760599), (31, -0.098470105961593765), (32, 0.21387469575176835), (33, -0.08488072242151698), (34, 0.12853937524740927), (35, -0.012712447572407779), (36, 0.019741193634185389), (37, -0.0048439051038627629), (38, -0.0023607419880809491), (39, -0.088212850428723746), (40, -0.0092654435551971226), (41, -0.01434879863120757), (42, 0.08348105447131475), (43, 0.18066701502201921), (44, -0.02253164670504967), (45, -0.18527293208888479), (46, 0.11802712178069498), (47, -0.039651693238805907), (48, -0.065410967200025011), (49, -0.021177070168263434), (50, 0.11135917376753217), (51, 0.05568049578807753), (52, -0.1624595304200307), (53, -0.07525883969121204), (54, -0.021840207954347095), (55, 0.19430216124298635), (56, -0.079460061582732708), (57, -0.011069138586924578), (58, 0.15124120428655363), (59, -0.079456289882987585), (60, -0.022042718446241026), (61, 0.13355886247754689), (62, 0.0045503560219039129), (63, -0.058376865657359646), (64, -0.015893675773655226), (65, 0.18586832131357209), (66, 0.040655836860835001), (67, -0.2563608867447304), (68, -0.030370529241901378), (69, -0.04114816296655921), (70, 0.035069298588255908), (71, -0.14606248530407842), (72, 0.052953659537052292), (73, -0.015035632835412968), (74, 0.032238000330573773), (75, 0.026688426057976607), (76, -0.092410957768996729), (77, -0.020943826239957445), (78, -0.11107978490362375), (79, 0.013300237378240234), (80, 0.010584824230018762), (81, 0.073551867679663915), (82, 0.032193912935005495), (83, -0.077303563823460333), (84, 0.03627926302926128), (85, -0.013397696308410567), (86, 0.078603683004715041), (87, -0.060279505415533945), (88, 0.060694682806789434), (89, 0.058590827266284277), (90, -0.03335756175710209), (91, 0.059194763119517192), (92, 0.18869080335116331), (93, -0.0035405666652162117), (94, -0.10281176859700537)]\n"
     ]
    }
   ],
   "source": [
    "for doc in corpus_lsi[:2]:\n",
    "    print doc"
   ]
  },
  {
   "cell_type": "code",
   "execution_count": null,
   "metadata": {
    "collapsed": true
   },
   "outputs": [],
   "source": []
  }
 ],
 "metadata": {
  "kernelspec": {
   "display_name": "Python 2",
   "language": "python",
   "name": "python2"
  },
  "language_info": {
   "codemirror_mode": {
    "name": "ipython",
    "version": 2
   },
   "file_extension": ".py",
   "mimetype": "text/x-python",
   "name": "python",
   "nbconvert_exporter": "python",
   "pygments_lexer": "ipython2",
   "version": "2.7.12"
  }
 },
 "nbformat": 4,
 "nbformat_minor": 2
}
