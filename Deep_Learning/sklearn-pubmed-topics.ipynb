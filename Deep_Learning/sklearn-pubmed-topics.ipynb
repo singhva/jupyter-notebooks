{
 "cells": [
  {
   "cell_type": "code",
   "execution_count": 1,
   "metadata": {
    "collapsed": true
   },
   "outputs": [],
   "source": [
    "import os, sys, re\n",
    "import pandas as pd\n",
    "import numpy as np\n",
    "from numpy import argmax\n",
    "from sklearn.feature_extraction.text import TfidfVectorizer, CountVectorizer\n",
    "from sklearn.decomposition import NMF, LatentDirichletAllocation\n",
    "from sklearn.externals import joblib\n",
    "from sklearn.decomposition import PCA\n",
    "from sklearn.cluster import KMeans\n",
    "from com.ibm.watson.utils import pubmed_utils as pu"
   ]
  },
  {
   "cell_type": "code",
   "execution_count": 2,
   "metadata": {
    "collapsed": true
   },
   "outputs": [],
   "source": [
    "base_dir = os.path.join(\"/Users/singhv/Documents/Data/DL\")"
   ]
  },
  {
   "cell_type": "code",
   "execution_count": 3,
   "metadata": {
    "collapsed": false
   },
   "outputs": [
    {
     "name": "stdout",
     "output_type": "stream",
     "text": [
      "['a', 'about', 'again', 'all', 'almost', 'also', 'although', 'always', 'among', 'an', 'and', 'another', 'any', 'are', 'as', 'at', 'be', 'because', 'been', 'before', 'being', 'between', 'both', 'but', 'by', 'can', 'could', 'did', 'do', 'does', 'done', 'due', 'during', 'each', 'either', 'enough', 'especially', 'etc', 'for', 'found', 'from', 'further', 'had', 'has', 'have', 'having', 'here', 'how', 'however', 'i', 'if', 'in', 'into', 'is', 'it', 'its', 'itself', 'just', 'kg', 'km', 'made', 'mainly', 'make', 'may', 'mg', 'might', 'ml', 'mm', 'most', 'mostly', 'must', 'nearly', 'neither', 'no', 'nor', 'obtained', 'of', 'often', 'on', 'our', 'overall', 'perhaps', 'pmid', 'quite', 'rather', 'really', 'regarding', 'seem', 'seen', 'several', 'should', 'show', 'showed', 'shown', 'shows', 'significantly', 'since', 'so', 'some', 'such', 'than', 'that', 'the', 'their', 'theirs', 'them', 'then', 'there', 'therefore', 'these', 'they', 'this', 'those', 'through', 'thus', 'to', 'upon', 'use', 'used', 'using', 'various', 'very', 'was', 'we', 'were', 'what', 'when', 'which', 'while', 'with', 'within', 'without', 'would']\n"
     ]
    }
   ],
   "source": [
    "stop_words = sum([ line.strip().split(\", \") for line in open(os.path.join(base_dir, \"pubmed_stopwords.txt\")) ], [])\n",
    "print stop_words"
   ]
  },
  {
   "cell_type": "code",
   "execution_count": 4,
   "metadata": {
    "collapsed": true
   },
   "outputs": [],
   "source": [
    "n_features = 1000\n",
    "n_topics = 50\n",
    "n_top_words = 20\n",
    "\n",
    "def print_top_words(model, feature_names, n_top_words):\n",
    "    for topic_idx, topic in enumerate(model.components_):\n",
    "        print(\"Topic #%d:\" % topic_idx)\n",
    "        print(\" \".join([feature_names[i]\n",
    "                        for i in topic.argsort()[:-n_top_words - 1:-1]]))\n",
    "    print()"
   ]
  },
  {
   "cell_type": "code",
   "execution_count": 5,
   "metadata": {
    "collapsed": true
   },
   "outputs": [],
   "source": [
    "file_name = os.path.join(base_dir, \"pubmed_breast_cancer_corpus.tsv.gz\")\n",
    "df = pd.read_csv(file_name, sep = \"\\t\", compression = \"gzip\", dtype='str', encoding=\"utf-8\", index_col = 0)"
   ]
  },
  {
   "cell_type": "code",
   "execution_count": 7,
   "metadata": {
    "collapsed": false
   },
   "outputs": [],
   "source": [
    "abstracts = []\n",
    "for (pmid, series) in df.iterrows():\n",
    "    abstract = unicode(series[0])\n",
    "    if (abstract is not None) and (abstract.strip() != \"\"):\n",
    "        abstracts.append(abstract)"
   ]
  },
  {
   "cell_type": "code",
   "execution_count": 21,
   "metadata": {
    "collapsed": true
   },
   "outputs": [],
   "source": [
    "tfidf_vectorizer = TfidfVectorizer(max_df=0.95, min_df=50,\n",
    "                                   max_features=n_features,\n",
    "                                   stop_words=stop_words, token_pattern=r\"(?u)\\b[a-zA-Z]\\w+\\b\")"
   ]
  },
  {
   "cell_type": "code",
   "execution_count": 22,
   "metadata": {
    "collapsed": false
   },
   "outputs": [],
   "source": [
    "tfidf = tfidf_vectorizer.fit_transform(abstracts)"
   ]
  },
  {
   "cell_type": "code",
   "execution_count": 8,
   "metadata": {
    "collapsed": true
   },
   "outputs": [],
   "source": [
    "'''\n",
    "tf_vectorizer = CountVectorizer(max_df=0.95, min_df=50,\n",
    "                                max_features=n_features,\n",
    "                                stop_words=stop_words, token_pattern=r\"(?u)\\b[a-zA-Z]\\w+\\b\")\n",
    "'''\n",
    "tf_vectorizer = joblib.load(os.path.join(base_dir, \"pickle\", \"sklearn_pubmed_breast_cancer_vectorizer.pkl\"))"
   ]
  },
  {
   "cell_type": "code",
   "execution_count": 11,
   "metadata": {
    "collapsed": false
   },
   "outputs": [],
   "source": [
    "tf = tf_vectorizer.fit_transform(abstracts)"
   ]
  },
  {
   "cell_type": "code",
   "execution_count": 9,
   "metadata": {
    "collapsed": false
   },
   "outputs": [
    {
     "name": "stdout",
     "output_type": "stream",
     "text": [
      "LatentDirichletAllocation(batch_size=128, doc_topic_prior=None,\n",
      "             evaluate_every=-1, learning_decay=0.7,\n",
      "             learning_method='online', learning_offset=50.0,\n",
      "             max_doc_update_iter=100, max_iter=100, mean_change_tol=0.001,\n",
      "             n_jobs=1, n_topics=50, perp_tol=0.1, random_state=0,\n",
      "             topic_word_prior=None, total_samples=1000000.0, verbose=0)\n"
     ]
    }
   ],
   "source": [
    "'''\n",
    "lda = LatentDirichletAllocation(n_topics=n_topics, max_iter=100,\n",
    "                                learning_method='online',\n",
    "                                learning_offset=50.,\n",
    "                                random_state=0)\n",
    "'''\n",
    "lda = joblib.load(os.path.join(base_dir, \"pickle\", \"sklearn_pubmed_breast_cancer.pkl\"))\n",
    "print lda"
   ]
  },
  {
   "cell_type": "code",
   "execution_count": 13,
   "metadata": {
    "collapsed": false
   },
   "outputs": [
    {
     "data": {
      "text/plain": [
       "LatentDirichletAllocation(batch_size=128, doc_topic_prior=None,\n",
       "             evaluate_every=-1, learning_decay=0.7,\n",
       "             learning_method='online', learning_offset=50.0,\n",
       "             max_doc_update_iter=100, max_iter=100, mean_change_tol=0.001,\n",
       "             n_jobs=1, n_topics=50, perp_tol=0.1, random_state=0,\n",
       "             topic_word_prior=None, total_samples=1000000.0, verbose=0)"
      ]
     },
     "execution_count": 13,
     "metadata": {},
     "output_type": "execute_result"
    }
   ],
   "source": [
    "lda.fit(tf)"
   ]
  },
  {
   "cell_type": "code",
   "execution_count": 10,
   "metadata": {
    "collapsed": true
   },
   "outputs": [],
   "source": [
    "tf_feature_names = tf_vectorizer.get_feature_names()"
   ]
  },
  {
   "cell_type": "code",
   "execution_count": 8,
   "metadata": {
    "collapsed": false
   },
   "outputs": [
    {
     "name": "stdout",
     "output_type": "stream",
     "text": [
      "Topic #0:\n",
      "er receptor estrogen breast positive pr negative luminal subtypes erα hormone progesterone subtype endocrine basal status tumors cancers molecular receptors\n",
      "Topic #1:\n",
      "blood rt samples pcr assay il time real quantitative mrna reaction chain detection rna detected western assays analysis flow detect\n",
      "Topic #2:\n",
      "chemotherapy adjuvant therapy nan mbc arm received receiving systemic randomized based treated receive hormone standard patients benefit function given treatments\n",
      "Topic #3:\n",
      "data model based analysis models clinical classification set network cancer approach features validation prediction identify biomarkers different developed disease biological\n",
      "Topic #4:\n",
      "cancer breast women years age diagnosis mortality incidence population stage year diagnosed data rates study aged early older time younger\n",
      "Topic #5:\n",
      "cancer life breast women pain survivors physical symptoms intervention quality study after baseline scores fatigue related scale treatment self reported\n",
      "Topic #6:\n",
      "tumors tumor type more region or size peptide pattern regions like different types patterns other frequency not heterogeneity observed frequent\n",
      "Topic #7:\n",
      "response patients neoadjuvant chemotherapy pcr core preoperative complete after nac specimens pathological breast rate cancer pathologic tumor surgical clinical biopsies\n",
      "Topic #8:\n",
      "index body pre post weight bmi postmenopausal mass aromatase women ki menopausal hormone status normal therapy changes measured size significant\n",
      "Topic #9:\n",
      "tamoxifen p53 her autophagy treatment treated type status positive therapy response or overexpression following not dependent suppressor poor expressing sensitive\n",
      "Topic #10:\n",
      "levels level increased higher decreased increase compared lower fold elevated decrease reduced high after observed low associated intracellular significant whereas\n",
      "Topic #11:\n",
      "carcinoma invasive cases ductal egfr situ mmp grade idc lobular histological features specimens staining or immunohistochemical type study component not\n",
      "Topic #12:\n",
      "out under conditions carried surface ca cervical modified free order suggested investigation presence via caused corresponding moreover strongly terms even\n",
      "Topic #13:\n",
      "tumor cells mice mammary human vivo tumors growth model mouse cell vitro anti antibody or immune epithelial models xenograft antibodies\n",
      "Topic #14:\n",
      "protein binding proteins complex interaction plasma co form domain interactions specifically localization membrane structure functional function containing specific ligand human\n",
      "Topic #15:\n",
      "cancer breast controls association studies or analysis risk polymorphisms polymorphism associated variants genetic study snps cases allele healthy patients genotype\n",
      "Topic #16:\n",
      "gene genes cancer identified expression analysis breast molecular alterations changes pathways associated profiles genome number related identify involved two targets\n",
      "Topic #17:\n",
      "breast tissue system image normal images method technique fat area results subjects cancer distribution field tissues based measurements study healthy\n",
      "Topic #18:\n",
      "patients treatment or phase days cancer response months trial day plus metastatic weeks events docetaxel disease first efficacy clinical study\n",
      "Topic #19:\n",
      "her2 trastuzumab positive factor growth receptor epidermal ihc amplification human lapatinib breast negative patients status or overexpression overexpressing cancer clinical\n",
      "Topic #20:\n",
      "method results data methods time based cost analysis decision study thyroid number standard two making techniques performance test quality per\n",
      "Topic #21:\n",
      "survival patients hr prognostic free disease analysis os recurrence multivariate status cox associated prognosis factors stage independent median dfs tumor\n",
      "Topic #22:\n",
      "group vs groups compared significant difference differences higher versus statistically patients non two study lower score respectively mean not more\n",
      "Topic #23:\n",
      "cells cancer metastasis cell invasion breast bone metastatic migration stem vegf matrix tumor endothelial adhesion vascular angiogenesis cd44 inflammatory formation\n",
      "Topic #24:\n",
      "cancer breast cells cell expression protein role induced mediated growth signaling proliferation regulation human activation dependent factor target activity transcription\n",
      "Topic #25:\n",
      "ct pet uptake change dox percentage fdg changes imaging after value bone respectively mean baseline values performed whole metabolic body\n",
      "Topic #26:\n",
      "dose radiation breast volume radiotherapy treatment gy skin oral irradiation cm doses heart patients mean therapy target whole left treated\n",
      "Topic #27:\n",
      "akt signaling pathway epithelial emt kinase mesenchymal pi3k cadherin activation transition tgf pten pathways phosphorylation activated inhibitor phenotype inhibitors inhibition\n",
      "Topic #28:\n",
      "cancer breast care health information women patient study research patients treatment more medical knowledge support clinical or factors not survey\n",
      "Topic #29:\n",
      "dna methylation stress damage repair promoter genomic response specific suppressor early normal mechanism associated sensitivity genome observed non cellular amplification\n",
      "Topic #30:\n",
      "risk cancer breast ci or women associated factors study confidence increased association ratio not regression interval odds adjusted age who\n",
      "Topic #31:\n",
      "screening mammography dcis detection women false rate mammograms detected breast positive cancers or mammographic rates cancer program examination not interval\n",
      "Topic #32:\n",
      "drug resistance cancer cells resistant drugs doxorubicin targeting targeted delivery breast nanoparticles therapeutic therapy efficacy agents treatment potential target release\n",
      "Topic #33:\n",
      "mir bc mirnas target potential direct regulated non identified patients study targeting healthy invasion predicted controls role compared specimens pcr\n",
      "Topic #34:\n",
      "high low tumour tumours grade nuclear igf ki67 like features growth solid factor pathological assessed proliferative specimens absence more correlated\n",
      "Topic #35:\n",
      "cancer lung metastases cancers prostate brain primary colorectal liver site colon sites melanoma metastatic gastric other malignancies non patients types\n",
      "Topic #36:\n",
      "breast case patient year diagnosis rare old bcs report after resection disease margins surgical tumor woman excision presented re carcinoma\n",
      "Topic #37:\n",
      "control carcinomas exposure loss experimental matched absence resulted occurred majority best recent limited eight local result two useful described partial\n",
      "Topic #38:\n",
      "cells cell cancer mcf mda mb breast apoptosis induced effects effect proliferation expression treatment study human cycle apoptotic anti death\n",
      "Topic #39:\n",
      "expression breast cancer tissues protein associated patients tissue correlated tumor study normal correlation samples expressed markers prognosis marker clinical immunohistochemistry\n",
      "Topic #40:\n",
      "cell lines cancer against human activity compounds breast line cytotoxic compound cytotoxicity synthesized anticancer activities mcf new vitro cells tested\n",
      "Topic #41:\n",
      "negative tnbc triple density nf breast hypoxia mammographic percent aggressive cancers non factor pro subtype poor high associated lack phenotype\n",
      "Topic #42:\n",
      "node lymph patients axillary serum nodes positive cancer sentinel metastasis breast negative sln dissection nodal involvement size biopsy tumor status\n",
      "Topic #43:\n",
      "brca1 mutations ovarian mutation cancer testing brca2 breast carriers genetic family brca patients or risk history high identified cancers not\n",
      "Topic #44:\n",
      "treatment therapy ii combination long term alone or combined effects iii effect after treated treatments iv clinical trials effective short\n",
      "Topic #45:\n",
      "imaging mri contrast breast magnetic erbb2 resonance enhancement mr enhanced signal intensity detection fluorescence high images cancer size findings time\n",
      "Topic #46:\n",
      "lesions breast benign malignant diagnostic sensitivity specificity biopsy us ultrasound lesion or diagnosis value malignancy bi study patients accuracy guided\n",
      "Topic #47:\n",
      "copyright rights reserved elsevier ltd inc published society authors medicine non university report over less corresponding previously described pathology sensitive\n",
      "Topic #48:\n",
      "patients breast surgery or up after follow who months mastectomy years median reconstruction cancer study recurrence treatment patient underwent local\n",
      "Topic #49:\n",
      "activity acid inhibitors concentrations inhibitor metabolism metabolic or active concentration inhibition not enzyme mitochondrial selective diseases action other potent only\n",
      "()\n"
     ]
    }
   ],
   "source": [
    "print_top_words(lda, tf_feature_names, n_top_words)"
   ]
  },
  {
   "cell_type": "code",
   "execution_count": null,
   "metadata": {
    "collapsed": false
   },
   "outputs": [],
   "source": [
    "print tf_feature_names"
   ]
  },
  {
   "cell_type": "code",
   "execution_count": 50,
   "metadata": {
    "collapsed": true
   },
   "outputs": [],
   "source": [
    "article = pu.get_medline(\"24372583\")"
   ]
  },
  {
   "cell_type": "code",
   "execution_count": 51,
   "metadata": {
    "collapsed": true
   },
   "outputs": [],
   "source": [
    "pubmed_abstract = list(article)[0][\"AB\"]"
   ]
  },
  {
   "cell_type": "code",
   "execution_count": 52,
   "metadata": {
    "collapsed": false
   },
   "outputs": [
    {
     "name": "stdout",
     "output_type": "stream",
     "text": [
      "The contribution of BRCA1/BRCA2 mutations to hereditary breast cancer in the Tunisian population has not been accurately estimated. The purpose of our study was to estimate the incidence and spectrum of pathogenic mutations in BRCA1/2 genes in early onset and familial breast/ovarian cancer among Tunisian women. To identify predictive factors for BRCA1/2 mutations, we screened the entire coding sequences and intron/exon boundaries of BRCA1/BRCA2 genes in 48 patients by direct sequencing. Twelve pathogenic mutations were detected (25%); three in BRCA1 (c.211dupA in four families, c.5266dupC in three families and c.1504_1508delTTAAA in one family) and two novel mutations in BRCA2 (c.1313dupT in two families and c.7654dupT in two families). We also identified 23 different polymorphisms and unclassified variants. These results indicate that our population has a spectrum of recurrent BRCA mutations.\n"
     ]
    }
   ],
   "source": [
    "print pubmed_abstract"
   ]
  },
  {
   "cell_type": "code",
   "execution_count": 53,
   "metadata": {
    "collapsed": false
   },
   "outputs": [],
   "source": [
    "doc_topic_distr = lda.transform(tf_vectorizer.transform([pubmed_abstract]))"
   ]
  },
  {
   "cell_type": "code",
   "execution_count": 54,
   "metadata": {
    "collapsed": false
   },
   "outputs": [
    {
     "name": "stdout",
     "output_type": "stream",
     "text": [
      "[[  2.00000000e-02   2.00000000e-02   2.00000000e-02   1.81762480e+00\n",
      "    7.52537230e+00   2.00000000e-02   2.00000000e-02   2.00000000e-02\n",
      "    2.00000000e-02   2.00000000e-02   2.00000000e-02   2.00000000e-02\n",
      "    2.00000000e-02   2.00000000e-02   2.00000000e-02   2.26863885e+00\n",
      "    6.08071207e+00   2.00000000e-02   2.00000000e-02   2.00000000e-02\n",
      "    2.00000000e-02   2.00000000e-02   2.00000000e-02   2.00000000e-02\n",
      "    2.00000000e-02   2.00000000e-02   2.00000000e-02   2.00000000e-02\n",
      "    2.00000000e-02   2.00000000e-02   2.00000000e-02   2.00000000e-02\n",
      "    2.00000000e-02   2.00000000e-02   2.00000000e-02   2.00000000e-02\n",
      "    2.00000000e-02   2.00000000e-02   2.00000000e-02   2.00000000e-02\n",
      "    2.00000000e-02   2.00000000e-02   2.00000000e-02   3.64076520e+01\n",
      "    2.00000000e-02   2.00000000e-02   2.00000000e-02   2.00000000e-02\n",
      "    2.00000000e-02   2.00000000e-02]]\n",
      "43\n"
     ]
    }
   ],
   "source": [
    "print doc_topic_distr\n",
    "print argmax(doc_topic_distr[0])"
   ]
  },
  {
   "cell_type": "code",
   "execution_count": 36,
   "metadata": {
    "collapsed": false
   },
   "outputs": [
    {
     "name": "stdout",
     "output_type": "stream",
     "text": [
      "aged\n"
     ]
    }
   ],
   "source": [
    "topic_dist = doc_topic_distr[0]\n",
    "print tf_feature_names[argmax(topic_dist)]"
   ]
  },
  {
   "cell_type": "code",
   "execution_count": 84,
   "metadata": {
    "collapsed": false
   },
   "outputs": [
    {
     "data": {
      "text/plain": [
       "['/Users/singhv/Documents/Data/DL/sklearn_pubmed_breast_cancer.pkl',\n",
       " '/Users/singhv/Documents/Data/DL/sklearn_pubmed_breast_cancer.pkl_01.npy',\n",
       " '/Users/singhv/Documents/Data/DL/sklearn_pubmed_breast_cancer.pkl_02.npy',\n",
       " '/Users/singhv/Documents/Data/DL/sklearn_pubmed_breast_cancer.pkl_03.npy']"
      ]
     },
     "execution_count": 84,
     "metadata": {},
     "output_type": "execute_result"
    }
   ],
   "source": [
    "#joblib.dump(lda, os.path.join(base_dir, \"pickle\", \"sklearn_pubmed_breast_cancer.pkl\")) "
   ]
  },
  {
   "cell_type": "code",
   "execution_count": 85,
   "metadata": {
    "collapsed": false
   },
   "outputs": [
    {
     "data": {
      "text/plain": [
       "['/Users/singhv/Documents/Data/DL/sklearn_pubmed_breast_cancer_vectorizer.pkl']"
      ]
     },
     "execution_count": 85,
     "metadata": {},
     "output_type": "execute_result"
    }
   ],
   "source": [
    "#joblib.dump(tf_vectorizer, os.path.join(base_dir, \"pickle\", \"sklearn_pubmed_breast_cancer_vectorizer.pkl\"))"
   ]
  },
  {
   "cell_type": "code",
   "execution_count": 11,
   "metadata": {
    "collapsed": true
   },
   "outputs": [],
   "source": [
    "topic_dist = lda.transform(tf_vectorizer.transform(abstracts))"
   ]
  },
  {
   "cell_type": "code",
   "execution_count": 12,
   "metadata": {
    "collapsed": false
   },
   "outputs": [
    {
     "name": "stdout",
     "output_type": "stream",
     "text": [
      "[  1.45938744e+01   2.00000000e-02   2.00000000e-02   1.15421196e+01\n",
      "   2.00000000e-02   2.00000000e-02   2.00000000e-02   2.00000000e-02\n",
      "   2.00000000e-02   2.00000000e-02   2.00000000e-02   2.00000000e-02\n",
      "   2.00000000e-02   2.00000000e-02   2.00000000e-02   2.00000000e-02\n",
      "   1.77517299e+01   2.00000000e-02   2.00000000e-02   2.00000000e-02\n",
      "   2.16081588e+01   4.51096248e+00   2.00000000e-02   2.00000000e-02\n",
      "   2.00000000e-02   2.00000000e-02   2.00000000e-02   2.00000000e-02\n",
      "   7.36407339e+00   2.00000000e-02   2.00000000e-02   2.00000000e-02\n",
      "   2.00000000e-02   2.00000000e-02   2.00000000e-02   2.00000000e-02\n",
      "   2.00000000e-02   2.00000000e-02   2.00000000e-02   1.80205068e+01\n",
      "   2.00000000e-02   2.00000000e-02   2.00000000e-02   2.00000000e-02\n",
      "   2.00000000e-02   2.00000000e-02   2.00000000e-02   2.76857464e+00\n",
      "   2.00000000e-02   2.00000000e-02]\n"
     ]
    }
   ],
   "source": [
    "print topic_dist[0]"
   ]
  },
  {
   "cell_type": "code",
   "execution_count": 14,
   "metadata": {
    "collapsed": false
   },
   "outputs": [],
   "source": [
    "pca = PCA(n_components=2)\n",
    "Y = pca.fit_transform(topic_dist)"
   ]
  },
  {
   "cell_type": "code",
   "execution_count": 18,
   "metadata": {
    "collapsed": false
   },
   "outputs": [
    {
     "name": "stdout",
     "output_type": "stream",
     "text": [
      "80119\n",
      "80119\n",
      "80119\n"
     ]
    }
   ],
   "source": [
    "print len(Y)\n",
    "print len(abstracts)\n",
    "print len(topic_dist)"
   ]
  },
  {
   "cell_type": "code",
   "execution_count": 19,
   "metadata": {
    "collapsed": true
   },
   "outputs": [],
   "source": [
    "from sklearn.cluster import KMeans"
   ]
  },
  {
   "cell_type": "code",
   "execution_count": 42,
   "metadata": {
    "collapsed": false
   },
   "outputs": [
    {
     "data": {
      "text/plain": [
       "KMeans(copy_x=True, init='k-means++', max_iter=300, n_clusters=15, n_init=10,\n",
       "    n_jobs=1, precompute_distances='auto', random_state=None, tol=0.0001,\n",
       "    verbose=0)"
      ]
     },
     "execution_count": 42,
     "metadata": {},
     "output_type": "execute_result"
    }
   ],
   "source": [
    "kmeans = KMeans(n_clusters=15)\n",
    "#predictions = kmeans.fit_predict(topic_dist)\n",
    "kmeans.fit(topic_dist)"
   ]
  },
  {
   "cell_type": "code",
   "execution_count": 21,
   "metadata": {
    "collapsed": false
   },
   "outputs": [
    {
     "name": "stdout",
     "output_type": "stream",
     "text": [
      "80119\n",
      "[6 2 2 1 9 1 1 1 1 1]\n"
     ]
    }
   ],
   "source": [
    "print kmeans.labels\n",
    "print len(predictions)\n",
    "print predictions[:10]"
   ]
  },
  {
   "cell_type": "code",
   "execution_count": 27,
   "metadata": {
    "collapsed": true
   },
   "outputs": [],
   "source": [
    "import matplotlib.pyplot as plt"
   ]
  },
  {
   "cell_type": "code",
   "execution_count": 25,
   "metadata": {
    "collapsed": false
   },
   "outputs": [
    {
     "name": "stdout",
     "output_type": "stream",
     "text": [
      "[ -1.87317511   2.68901881   2.31512843 ...,   1.65701002 -22.98256121\n",
      "   6.95601478]\n"
     ]
    }
   ],
   "source": [
    "print Y[:,1]"
   ]
  },
  {
   "cell_type": "code",
   "execution_count": 43,
   "metadata": {
    "collapsed": false
   },
   "outputs": [
    {
     "data": {
      "text/plain": [
       "<matplotlib.collections.PathCollection at 0x115194cd0>"
      ]
     },
     "execution_count": 43,
     "metadata": {},
     "output_type": "execute_result"
    }
   ],
   "source": [
    "plt.scatter(Y[:, 0], Y[:, 1], c=kmeans.labels_.astype(np.float))"
   ]
  },
  {
   "cell_type": "code",
   "execution_count": 44,
   "metadata": {
    "collapsed": false
   },
   "outputs": [
    {
     "data": {
      "image/png": "[encoded data removed]",
      "text/plain": [
       "<matplotlib.figure.Figure at 0x1113a5090>"
      ]
     },
     "metadata": {},
     "output_type": "display_data"
    }
   ],
   "source": [
    "plt.show()"
   ]
  },
  {
   "cell_type": "code",
   "execution_count": null,
   "metadata": {
    "collapsed": true
   },
   "outputs": [],
   "source": []
  }
 ],
 "metadata": {
  "kernelspec": {
   "display_name": "Python 2",
   "language": "python",
   "name": "python2"
  },
  "language_info": {
   "codemirror_mode": {
    "name": "ipython",
    "version": 2
   },
   "file_extension": ".py",
   "mimetype": "text/x-python",
   "name": "python",
   "nbconvert_exporter": "python",
   "pygments_lexer": "ipython2",
   "version": "2.7.12"
  }
 },
 "nbformat": 4,
 "nbformat_minor": 2
}
