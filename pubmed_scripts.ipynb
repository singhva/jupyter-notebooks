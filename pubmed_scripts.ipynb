{
 "cells": [
  {
   "cell_type": "code",
   "execution_count": 1,
   "metadata": {
    "collapsed": true
   },
   "outputs": [],
   "source": [
    "import os, re, sys\n",
    "import nltk\n",
    "from nltk import FreqDist\n",
    "import pymongo\n",
    "import collections\n",
    "from com.ibm.watson import DESKTOP, DOCS_DIR\n",
    "import com.ibm.watson.utils.pubmed_utils as pu"
   ]
  },
  {
   "cell_type": "code",
   "execution_count": 8,
   "metadata": {
    "collapsed": false
   },
   "outputs": [
    {
     "name": "stdout",
     "output_type": "stream",
     "text": [
      "812\n"
     ]
    }
   ],
   "source": [
    "base_dir = os.path.join(DOCS_DIR, \"Curation\", \"pubmed\")\n",
    "pmids = []\n",
    "pmid_regex = re.compile(\"\\d{5,}\")\n",
    "with open(os.path.join(base_dir, \"temp.txt\")) as f:\n",
    "    for line in f:\n",
    "        pmids.extend(pmid_regex.findall(line.strip()))\n",
    "    \n",
    "pmids = set(pmids)\n",
    "print len(pmids)\n",
    "with open(os.path.join(base_dir, \"pmids.txt\"), \"wb\") as f:\n",
    "    [f.write(pmid.strip() + \"\\n\") for pmid in pmids]"
   ]
  },
  {
   "cell_type": "code",
   "execution_count": 9,
   "metadata": {
    "collapsed": false
   },
   "outputs": [],
   "source": [
    "medline_articles = pu.get_medline(list(pmids))\n",
    "    \n",
    "output_f = os.path.join(base_dir, \"pubmed_mesh_terms.tsv\")\n",
    "substance_regex = re.compile(\"(\\()(.*)(\\))\")\n",
    "with open(output_f, \"wb\") as f:\n",
    "    for article in medline_articles:\n",
    "        pmid = article.get(\"PMID\")\n",
    "        substances = [ match.group(2) for match in [substance_regex.search(substance) for substance in article.get(\"RN\", [])] if match ]\n",
    "        to_write = {\"Mesh Term\" : article.get(\"MH\", []), \"Publication Types\" : article.get(\"PT\", []), \"Substances\" : substances}\n",
    "        for (key, values) in to_write.items():\n",
    "            for value in values:\n",
    "                #print \"\\t\".join([ pmid, key, value, \"\\n\" ])\n",
    "                f.write(\"\\t\".join([ pmid, key, value, \"\\n\" ]))"
   ]
  },
  {
   "cell_type": "code",
   "execution_count": 3,
   "metadata": {
    "collapsed": false
   },
   "outputs": [
    {
     "name": "stdout",
     "output_type": "stream",
     "text": [
      "[('Functional Study', 93), ('Non-Functional Study', 60)]\n"
     ]
    }
   ],
   "source": [
    "pmids = []\n",
    "func_status = []\n",
    "with open(os.path.join(DESKTOP, \"functional_study\", \"geneFilters.tsv\")) as f:\n",
    "    for raw in f:\n",
    "        raw = raw.strip().split(\"\\t\")\n",
    "        pmid = raw[-3].strip()\n",
    "        pmids.append(pmid)\n",
    "        func_status.append(raw[-1].strip())\n",
    "pmids.pop(0)\n",
    "func_status.pop(0)\n",
    "print FreqDist(func_status).most_common(2)\n",
    "\n",
    "medline_articles = pu.get_medline(pmids)\n",
    "mesh_terms_func = []\n",
    "mesh_term_nonfunc = []\n",
    "regex = re.compile(\"(I|We|we)\\s+(\\w+)\")\n",
    "regex1 = re.compile(\"In this \\w+\")\n",
    "all_verbs = []\n",
    "for i, article in enumerate(medline_articles):\n",
    "    #print \"\\n\" + article.get(\"PMID\") + \": \"\n",
    "    mesh_terms = article.get(\"MH\") if \"MH\" in article else []\n",
    "    mesh_terms_func.extend(mesh_terms)\n",
    "    status = func_status[i]\n",
    "    if status == \"Functional Study\":\n",
    "        mesh_terms_func.extend(mesh_terms)\n",
    "    else:\n",
    "        mesh_term_nonfunc.extend(mesh_terms)\n",
    "        \n",
    "    abstract = article.get(\"AB\")\n",
    "    sentences = nltk.sent_tokenize(abstract)\n",
    "    last_five = sentences[-5:]\n",
    "    sents_of_interest = [ sent for sent in last_five if ((True if regex.search(sent) else False) + (True if regex1.search(sent) else False) > 0) ]\n",
    "    tags = [ nltk.pos_tag(words) for words in [ nltk.word_tokenize(sent) for sent in sents_of_interest ] ]\n",
    "    #print tags\n",
    "    #verbs = [ pair[1] for pair in sent_tags for sent_tags in tags ]\n",
    "    for sent_tags in tags:\n",
    "        verbs = [ word for (word, pos) in sent_tags if pos.startswith(\"VB\") ]\n",
    "        #print verbs\n",
    "        all_verbs.extend(verbs)\n",
    "    #print sents_of_interest\n",
    "        \n",
    "fdist1 = FreqDist(mesh_terms_func)\n",
    "fdist2 = FreqDist(mesh_term_nonfunc)\n",
    "fdist3 = FreqDist(all_verbs)\n",
    "#print fdist1.most_common(25)\n",
    "#print fdist2.most_common(25)\n",
    "#print fdist3.most_common(25)"
   ]
  },
  {
   "cell_type": "code",
   "execution_count": 24,
   "metadata": {
    "collapsed": false
   },
   "outputs": [
    {
     "name": "stdout",
     "output_type": "stream",
     "text": [
      "expression\n",
      "Target\n",
      "FAS\n"
     ]
    }
   ],
   "source": [
    "regex = re.compile(\"(\\w+)(\\(\\w+\\))\\s+(\\w+)\\s+(\\w+)(\\(\\w+\\))\")\n",
    "text = \"expression(Subcellular_Function_Event)\tTarget\tFAS(Protein_Specific_Entity)\"\n",
    "match = regex.search(text)\n",
    "if match:\n",
    "    print match.group(1)\n",
    "    print match.group(3)\n",
    "    print match.group(4)"
   ]
  },
  {
   "cell_type": "code",
   "execution_count": 26,
   "metadata": {
    "collapsed": false
   },
   "outputs": [
    {
     "name": "stdout",
     "output_type": "stream",
     "text": [
      "Subcellular_Function_Event->Target->Protein_Specific_Entity:  87\n",
      "HCLS_Activity_Event->Target->Protein_Specific_Entity:  14\n",
      "Cause_Change_Event->Agent->Protein_Specific_Entity:  6\n",
      "Evidence_Event->Target->Protein_Specific_Entity:  5\n",
      "Subcellular_Function_Event->Agent->Protein_Specific_Entity:  5\n",
      "Protein_Specific_Entity->Has_Attribute->Nucleic_Acid_Nucleoside_or_Nucleotide_Entity:  5\n",
      "Protein_Specific_Entity->Has_Attribute->Protein_Component_Entity:  5\n",
      "Cell_Entity->Has_Attribute->Protein_Specific_Entity:  3\n",
      "Creation_Event->Target->Protein_Specific_Entity:  3\n",
      "Subcellular_Function_Event->Target->Gene_or_Genome_Entity:  3\n"
     ]
    }
   ],
   "source": [
    "all_relations = []\n",
    "with open(os.path.join(DESKTOP, \"functional_study\", \"genesWithTs7.tsv\")) as f:\n",
    "    for i, raw in enumerate(f):\n",
    "        line = raw.strip().split(\"\\t\")\n",
    "        #print line\n",
    "        relations = line[10:]\n",
    "        #for relation in relations:\n",
    "        match = regex.search(raw.strip())\n",
    "        if match:\n",
    "            all_relations.append(match.group(2)[1:-1] + \"->\" + match.group(3) + \"->\" + match.group(5)[1:-1])\n",
    "                    \n",
    "fdist1 = FreqDist(all_relations)\n",
    "for (rel, count) in fdist1.most_common(10):\n",
    "    print \"%s:  %d\" % (rel, count)"
   ]
  },
  {
   "cell_type": "code",
   "execution_count": null,
   "metadata": {
    "collapsed": true
   },
   "outputs": [],
   "source": []
  }
 ],
 "metadata": {
  "kernelspec": {
   "display_name": "Python 2",
   "language": "python",
   "name": "python2"
  },
  "language_info": {
   "codemirror_mode": {
    "name": "ipython",
    "version": 2
   },
   "file_extension": ".py",
   "mimetype": "text/x-python",
   "name": "python",
   "nbconvert_exporter": "python",
   "pygments_lexer": "ipython2",
   "version": "2.7.12"
  }
 },
 "nbformat": 4,
 "nbformat_minor": 1
}
