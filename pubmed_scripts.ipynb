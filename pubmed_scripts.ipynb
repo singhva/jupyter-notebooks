{
 "cells": [
  {
   "cell_type": "code",
   "execution_count": 1,
   "metadata": {
    "collapsed": true
   },
   "outputs": [],
   "source": [
    "import os, re, sys\n",
    "import pymongo\n",
    "import collections\n",
    "from com.ibm.watson import DESKTOP, DOCS_DIR\n",
    "import com.ibm.watson.utils.pubmed_utils as pu"
   ]
  },
  {
   "cell_type": "code",
   "execution_count": 8,
   "metadata": {
    "collapsed": false
   },
   "outputs": [
    {
     "name": "stdout",
     "output_type": "stream",
     "text": [
      "812\n"
     ]
    }
   ],
   "source": [
    "base_dir = os.path.join(DOCS_DIR, \"Curation\", \"pubmed\")\n",
    "pmids = []\n",
    "pmid_regex = re.compile(\"\\d{5,}\")\n",
    "with open(os.path.join(base_dir, \"temp.txt\")) as f:\n",
    "    for line in f:\n",
    "        pmids.extend(pmid_regex.findall(line.strip()))\n",
    "    \n",
    "pmids = set(pmids)\n",
    "print len(pmids)\n",
    "with open(os.path.join(base_dir, \"pmids.txt\"), \"wb\") as f:\n",
    "    [f.write(pmid.strip() + \"\\n\") for pmid in pmids]"
   ]
  },
  {
   "cell_type": "code",
   "execution_count": 9,
   "metadata": {
    "collapsed": false
   },
   "outputs": [],
   "source": [
    "medline_articles = pu.get_medline(list(pmids))\n",
    "    \n",
    "output_f = os.path.join(base_dir, \"pubmed_mesh_terms.tsv\")\n",
    "substance_regex = re.compile(\"(\\()(.*)(\\))\")\n",
    "with open(output_f, \"wb\") as f:\n",
    "    for article in medline_articles:\n",
    "        pmid = article.get(\"PMID\")\n",
    "        substances = [ match.group(2) for match in [substance_regex.search(substance) for substance in article.get(\"RN\", [])] if match ]\n",
    "        to_write = {\"Mesh Term\" : article.get(\"MH\", []), \"Publication Types\" : article.get(\"PT\", []), \"Substances\" : substances}\n",
    "        for (key, values) in to_write.items():\n",
    "            for value in values:\n",
    "                #print \"\\t\".join([ pmid, key, value, \"\\n\" ])\n",
    "                f.write(\"\\t\".join([ pmid, key, value, \"\\n\" ]))"
   ]
  },
  {
   "cell_type": "code",
   "execution_count": null,
   "metadata": {
    "collapsed": true
   },
   "outputs": [],
   "source": []
  }
 ],
 "metadata": {
  "kernelspec": {
   "display_name": "Python 2",
   "language": "python",
   "name": "python2"
  },
  "language_info": {
   "codemirror_mode": {
    "name": "ipython",
    "version": 2
   },
   "file_extension": ".py",
   "mimetype": "text/x-python",
   "name": "python",
   "nbconvert_exporter": "python",
   "pygments_lexer": "ipython2",
   "version": "2.7.12"
  }
 },
 "nbformat": 4,
 "nbformat_minor": 1
}
