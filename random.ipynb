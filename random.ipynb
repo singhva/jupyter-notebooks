{
 "cells": [
  {
   "cell_type": "code",
   "execution_count": 1,
   "metadata": {
    "collapsed": false
   },
   "outputs": [],
   "source": [
    "import sframe"
   ]
  },
  {
   "cell_type": "code",
   "execution_count": 2,
   "metadata": {
    "collapsed": false
   },
   "outputs": [
    {
     "name": "stderr",
     "output_type": "stream",
     "text": [
      "[INFO] sframe.cython.cy_server: SFrame v2.1 started. Logging /tmp/sframe_server_1474077815.log\n"
     ]
    },
    {
     "name": "stdout",
     "output_type": "stream",
     "text": [
      "------------------------------------------------------\n",
      "Inferred types from first 100 line(s) of file as \n",
      "column_type_hints=[str,str,str]\n",
      "If parsing fails due to incorrect types, you can correct\n",
      "the inferred type list above and pass it to read_csv in\n",
      "the column_type_hints argument\n",
      "------------------------------------------------------\n"
     ]
    },
    {
     "data": {
      "text/html": [
       "<pre>Finished parsing file /Users/singhv/Documents/Curation/thesaurus/owl/ThesaurusSemTypePrefName.tsv</pre>"
      ],
      "text/plain": [
       "Finished parsing file /Users/singhv/Documents/Curation/thesaurus/owl/ThesaurusSemTypePrefName.tsv"
      ]
     },
     "metadata": {},
     "output_type": "display_data"
    },
    {
     "data": {
      "text/html": [
       "<pre>Parsing completed. Parsed 120280 lines in 0.155027 secs.</pre>"
      ],
      "text/plain": [
       "Parsing completed. Parsed 120280 lines in 0.155027 secs."
      ]
     },
     "metadata": {},
     "output_type": "display_data"
    }
   ],
   "source": [
    "csv=sframe.SFrame.read_csv(\"/Users/singhv/Documents/Curation/thesaurus/owl/ThesaurusSemTypePrefName.tsv\",delimiter=\"\\t\")"
   ]
  },
  {
   "cell_type": "code",
   "execution_count": 3,
   "metadata": {
    "collapsed": false
   },
   "outputs": [
    {
     "data": {
      "text/html": [
       "<div style=\"max-height:1000px;max-width:1500px;overflow:auto;\"><table frame=\"box\" rules=\"cols\">\n",
       "    <tr>\n",
       "        <th style=\"padding-left: 1em; padding-right: 1em; text-align: center\">cui</th>\n",
       "        <th style=\"padding-left: 1em; padding-right: 1em; text-align: center\">name</th>\n",
       "        <th style=\"padding-left: 1em; padding-right: 1em; text-align: center\">type</th>\n",
       "    </tr>\n",
       "    <tr>\n",
       "        <td style=\"padding-left: 1em; padding-right: 1em; text-align: center; vertical-align: top\">C55602</td>\n",
       "        <td style=\"padding-left: 1em; padding-right: 1em; text-align: center; vertical-align: top\">CTCAE Grade 1 Breast<br>Function and Lactation ...</td>\n",
       "        <td style=\"padding-left: 1em; padding-right: 1em; text-align: center; vertical-align: top\">Finding</td>\n",
       "    </tr>\n",
       "    <tr>\n",
       "        <td style=\"padding-left: 1em; padding-right: 1em; text-align: center; vertical-align: top\">C55603</td>\n",
       "        <td style=\"padding-left: 1em; padding-right: 1em; text-align: center; vertical-align: top\">CTCAE Grade 2 Breast<br>Function and Lactation ...</td>\n",
       "        <td style=\"padding-left: 1em; padding-right: 1em; text-align: center; vertical-align: top\">Finding</td>\n",
       "    </tr>\n",
       "    <tr>\n",
       "        <td style=\"padding-left: 1em; padding-right: 1em; text-align: center; vertical-align: top\">C55624</td>\n",
       "        <td style=\"padding-left: 1em; padding-right: 1em; text-align: center; vertical-align: top\">CTCAE Grade 3 Infertility<br>and Sterility ...</td>\n",
       "        <td style=\"padding-left: 1em; padding-right: 1em; text-align: center; vertical-align: top\">Finding</td>\n",
       "    </tr>\n",
       "    <tr>\n",
       "        <td style=\"padding-left: 1em; padding-right: 1em; text-align: center; vertical-align: top\">C116921</td>\n",
       "        <td style=\"padding-left: 1em; padding-right: 1em; text-align: center; vertical-align: top\">Cognitive Impairment</td>\n",
       "        <td style=\"padding-left: 1em; padding-right: 1em; text-align: center; vertical-align: top\">Finding</td>\n",
       "    </tr>\n",
       "    <tr>\n",
       "        <td style=\"padding-left: 1em; padding-right: 1em; text-align: center; vertical-align: top\">C55605</td>\n",
       "        <td style=\"padding-left: 1em; padding-right: 1em; text-align: center; vertical-align: top\">CTCAE Grade 1 Breast<br>Nipple and Areolar ...</td>\n",
       "        <td style=\"padding-left: 1em; padding-right: 1em; text-align: center; vertical-align: top\">Finding</td>\n",
       "    </tr>\n",
       "</table>\n",
       "[5 rows x 3 columns]<br/>\n",
       "</div>"
      ],
      "text/plain": [
       "Columns:\n",
       "\tcui\tstr\n",
       "\tname\tstr\n",
       "\ttype\tstr\n",
       "\n",
       "Rows: 5\n",
       "\n",
       "Data:\n",
       "+---------+-------------------------------+---------+\n",
       "|   cui   |              name             |   type  |\n",
       "+---------+-------------------------------+---------+\n",
       "|  C55602 | CTCAE Grade 1 Breast Funct... | Finding |\n",
       "|  C55603 | CTCAE Grade 2 Breast Funct... | Finding |\n",
       "|  C55624 | CTCAE Grade 3 Infertility ... | Finding |\n",
       "| C116921 |      Cognitive Impairment     | Finding |\n",
       "|  C55605 | CTCAE Grade 1 Breast Nippl... | Finding |\n",
       "+---------+-------------------------------+---------+\n",
       "[5 rows x 3 columns]"
      ]
     },
     "execution_count": 3,
     "metadata": {},
     "output_type": "execute_result"
    }
   ],
   "source": [
    "csv.head(5)"
   ]
  },
  {
   "cell_type": "code",
   "execution_count": 36,
   "metadata": {
    "collapsed": false
   },
   "outputs": [
    {
     "data": {
      "text/html": [
       "<div style=\"max-height:1000px;max-width:1500px;overflow:auto;\"><table frame=\"box\" rules=\"cols\">\n",
       "    <tr>\n",
       "        <th style=\"padding-left: 1em; padding-right: 1em; text-align: center\">cui</th>\n",
       "        <th style=\"padding-left: 1em; padding-right: 1em; text-align: center\">name</th>\n",
       "        <th style=\"padding-left: 1em; padding-right: 1em; text-align: center\">type</th>\n",
       "    </tr>\n",
       "    <tr>\n",
       "        <td style=\"padding-left: 1em; padding-right: 1em; text-align: center; vertical-align: top\">C61274</td>\n",
       "        <td style=\"padding-left: 1em; padding-right: 1em; text-align: center; vertical-align: top\">Fucosidosis</td>\n",
       "        <td style=\"padding-left: 1em; padding-right: 1em; text-align: center; vertical-align: top\">Disease or Syndrome</td>\n",
       "    </tr>\n",
       "    <tr>\n",
       "        <td style=\"padding-left: 1em; padding-right: 1em; text-align: center; vertical-align: top\">C78512</td>\n",
       "        <td style=\"padding-left: 1em; padding-right: 1em; text-align: center; vertical-align: top\">Ovarian Infection</td>\n",
       "        <td style=\"padding-left: 1em; padding-right: 1em; text-align: center; vertical-align: top\">Disease or Syndrome</td>\n",
       "    </tr>\n",
       "</table>\n",
       "[2 rows x 3 columns]<br/>\n",
       "</div>"
      ],
      "text/plain": [
       "Columns:\n",
       "\tcui\tstr\n",
       "\tname\tstr\n",
       "\ttype\tstr\n",
       "\n",
       "Rows: 2\n",
       "\n",
       "Data:\n",
       "+--------+-------------------+---------------------+\n",
       "|  cui   |        name       |         type        |\n",
       "+--------+-------------------+---------------------+\n",
       "| C61274 |    Fucosidosis    | Disease or Syndrome |\n",
       "| C78512 | Ovarian Infection | Disease or Syndrome |\n",
       "+--------+-------------------+---------------------+\n",
       "[2 rows x 3 columns]"
      ]
     },
     "execution_count": 36,
     "metadata": {},
     "output_type": "execute_result"
    }
   ],
   "source": [
    "csv.filter_by([\"Ovarian Infection\", \"Fucosidosis\"],\"name\")"
   ]
  },
  {
   "cell_type": "code",
   "execution_count": 11,
   "metadata": {
    "collapsed": false
   },
   "outputs": [],
   "source": [
    "from sframe import SArray\n",
    "STOP_WORDS = [\"a\", \"an\", \"and\", \"are\", \"as\", \"at\", \"be\", \"but\", \"by\",\n",
    "\"for\", \"if\", \"in\", \"into\", \"is\", \"it\",\n",
    "\"no\", \"not\", \"of\", \"on\", \"or\", \"such\",\n",
    "\"that\", \"the\", \"their\", \"then\", \"there\", \"these\",\n",
    "\"they\", \"this\", \"to\", \"was\", \"will\", \"with\"]\n",
    "names = csv.filter_by([\"Disease or Syndrome\"],\"type\")[\"name\"].apply(lambda x: x.lower())\n",
    "lengths = names.apply(lambda name: len([ word for word in name.split() if word not in STOP_WORDS ]))\n",
    "\n",
    "all_lengths = csv[\"name\"].apply(lambda name: len([ word for word in name.split()]))"
   ]
  },
  {
   "cell_type": "code",
   "execution_count": 23,
   "metadata": {
    "collapsed": false
   },
   "outputs": [
    {
     "name": "stdout",
     "output_type": "stream",
     "text": [
      "590\n",
      "1771\n",
      "dermomyotome\n"
     ]
    }
   ],
   "source": [
    "#print names[2]\n",
    "#print lengths[2]\n",
    "single_word_concepts = SArray.where(all_lengths == 1, csv[\"name\"], None).apply(lambda x: x.lower()).unique().dropna()\n",
    "single_word_diseases = SArray.where(lengths == 1, names, None).unique().dropna()\n",
    "two_word_diseases = SArray.where(lengths == 2, names, None).unique().dropna()\n",
    "print len(single_word_diseases)\n",
    "print len(two_word_diseases)\n",
    "print single_word_concepts[200]\n",
    "single_word_concepts.sort().save(\"/Users/singhv/Desktop/single_word_concepts.txt\")\n",
    "#single_word_diseases.sort().save(\"/Users/singhv/Desktop/single_word_diseases.txt\")"
   ]
  },
  {
   "cell_type": "code",
   "execution_count": 9,
   "metadata": {
    "collapsed": false
   },
   "outputs": [
    {
     "name": "stdout",
     "output_type": "stream",
     "text": [
      "['megacolon', 'cerebral sarcoidosis']\n"
     ]
    }
   ],
   "source": [
    "d1 = single_word_diseases[200]\n",
    "d2 = two_word_diseases[101]\n",
    "print [d1, d2]"
   ]
  },
  {
   "cell_type": "code",
   "execution_count": 17,
   "metadata": {
    "collapsed": false
   },
   "outputs": [],
   "source": [
    "first_words = two_word_diseases.apply(lambda d: d.split()[0]).sort()\n",
    "second_words = two_word_diseases.apply(lambda d: d.split()[1]).sort()\n",
    "\n",
    "common = [word for word in first_words if word in single_word_concepts]\n",
    "for word in common:\n",
    "    print word+\"\\n\""
   ]
  }
 ],
 "metadata": {
  "kernelspec": {
   "display_name": "Python 2",
   "language": "python",
   "name": "python2"
  },
  "language_info": {
   "codemirror_mode": {
    "name": "ipython",
    "version": 2
   },
   "file_extension": ".py",
   "mimetype": "text/x-python",
   "name": "python",
   "nbconvert_exporter": "python",
   "pygments_lexer": "ipython2",
   "version": "2.7.12"
  }
 },
 "nbformat": 4,
 "nbformat_minor": 1
}
