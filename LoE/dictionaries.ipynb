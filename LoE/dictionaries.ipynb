{
 "cells": [
  {
   "cell_type": "code",
   "execution_count": 2,
   "metadata": {
    "collapsed": true
   },
   "outputs": [],
   "source": [
    "import os, sys, re, urllib, collections, requests\n",
    "import numpy as np\n",
    "import pandas as pd\n",
    "from Bio import Entrez, Medline\n",
    "from com.ibm.watson import DESKTOP, DOCS_DIR\n",
    "import com.ibm.watson.utils.pubmed_utils as pu\n",
    "from bs4 import BeautifulSoup as bs\n",
    "import pymongo"
   ]
  },
  {
   "cell_type": "code",
   "execution_count": 3,
   "metadata": {
    "collapsed": true
   },
   "outputs": [],
   "source": [
    "base_dir = os.path.join(DESKTOP, \"Levels_Of_Evidence\")"
   ]
  },
  {
   "cell_type": "code",
   "execution_count": 4,
   "metadata": {
    "collapsed": true
   },
   "outputs": [],
   "source": [
    "client = pymongo.MongoClient()\n",
    "db = client[\"LOE\"]"
   ]
  },
  {
   "cell_type": "code",
   "execution_count": 4,
   "metadata": {
    "collapsed": false
   },
   "outputs": [],
   "source": [
    "loe_xls = pd.read_excel(os.path.join(base_dir, \"Level_of_evidence_20170227_v29.7.3.xlsx\"), converters={\"cancer type\" : str})"
   ]
  },
  {
   "cell_type": "code",
   "execution_count": null,
   "metadata": {
    "collapsed": false
   },
   "outputs": [],
   "source": [
    "# LoE Genes\n",
    "genes = set(loe_xls[\"gene\"])\n",
    "genes.remove(\"ABL1;ABL1\")\n",
    "genes.remove(\"EGFR;EGFR\")\n",
    "print genes"
   ]
  },
  {
   "cell_type": "code",
   "execution_count": null,
   "metadata": {
    "collapsed": false
   },
   "outputs": [],
   "source": [
    "# Downloaded from ftp://ftp.ebi.ac.uk/pub/databases/genenames/new/tsv/hgnc_complete_set.txt\n",
    "hgnc_genes = pd.read_csv(os.path.join(DOCS_DIR, \"Curation\", \"hgnc_complete_set.tsv\"), \n",
    "                         converters={\"alias_symbol\" : str}, sep=\"\\t\")\n",
    "print hgnc_genes.head(2)"
   ]
  },
  {
   "cell_type": "code",
   "execution_count": null,
   "metadata": {
    "collapsed": false
   },
   "outputs": [],
   "source": [
    "# Write gene_dictionary.tsv\n",
    "with open(os.path.join(base_dir, \"gene_dictionary.tsv\"), \"wb\") as f:\n",
    "    for symbol in genes:\n",
    "        exists = hgnc_genes[\"symbol\"] == symbol\n",
    "        print symbol\n",
    "        symbols = [symbol] + hgnc_genes[exists].iloc[0][\"alias_symbol\"].split(\"|\") if exists.any() else []\n",
    "        symbols.append(\"\\n\")\n",
    "        f.write(\"\\t\".join(symbols))"
   ]
  },
  {
   "cell_type": "code",
   "execution_count": null,
   "metadata": {
    "collapsed": false
   },
   "outputs": [],
   "source": [
    "# Load into Mongo\n",
    "with open(os.path.join(base_dir, \"gene_dictionary.tsv\")) as f:\n",
    "    for raw in f:\n",
    "        line = raw.strip().split(\"\\t\")\n",
    "        symbol = line[0]\n",
    "        synonyms = line[1:] if len(line) > 1 else []\n",
    "        result = db[\"GENE\"].insert_one({\"SYMBOL\" : symbol, \"SYNS\" : synonyms })\n",
    "        print \"Inserted: \" + str(result.inserted_id)"
   ]
  },
  {
   "cell_type": "code",
   "execution_count": 5,
   "metadata": {
    "collapsed": false
   },
   "outputs": [],
   "source": [
    "wga_drugdb_dev_table = pd.read_csv(\"/Users/singhv/Documents/Curation/Drug/WGA_ALL_DRUG_GENERAL4.tsv\", \n",
    "                                   delimiter=\"\\t\", header=None, na_values = [\"NULL\"],\n",
    "                                   converters = {\"ALIAS_NAME\" : str, \"GENERIC_NAME\" : str, 'THERAPY' : str},\n",
    "                                   names=['THERAPY_ID', 'THERAPY', 'NCI_CODE', 'NCI_MOA', 'NCI_CUI', 'GENERIC_NAME', \n",
    "                                          'FDA_STATUS', 'ALIAS_NAME', 'CODE_NAME', 'ACTIVE', 'RETIRE_DATE', \n",
    "                                          'MANUALLY_REVIEWED', 'FDA_LABEL_INDICATIONS_AND_USAGE', 'CREATED', \n",
    "                                          'THERAPY_SHORT_NAME', 'UMLS_CUI'])"
   ]
  },
  {
   "cell_type": "code",
   "execution_count": 6,
   "metadata": {
    "collapsed": false
   },
   "outputs": [
    {
     "name": "stdout",
     "output_type": "stream",
     "text": [
      "set([u'5173', u'DB01169', u'760', u'DB08828', u'3049', u'5073', u'5075', u'5274', u'DB04868', u'5271', u'5272', u'4140', u'345', u'DB01259', u'DB01254', u'DB06643', u'5064', u'5146', u'DB06626', u'5143', u'DB00072', u'4031', u'4039', u'4139', u'DB05294', u'299', u'820', u'DB00619', u'5189', u'DB00755', u'1081', u'5017', u'5227', u'5154', u'DB00530', u'DB08881', u'3303', u'5253', u'DB00877', u'5256', u'5257', u'5255', u'3026', u'5258', u'5259', u'5002', u'5006', u'5005', u'4115', u'DB08896', u'5124', u'4428', u'DB01268', u'4058', u'649', u'DB02546', u'5038', u'5114', u'5037', u'5034', u'5140', u'5279', u'3005', u'DB06287', u'4102', u'DB01590', u'3057', u'DB08865', u'5238', u'4064', u'4065', u'5235', u'5236', u'1030', u'561', u'5026', u'168', u'5102', u'DB08875', u'5100', u'DB08877', u'163', u'862', u'4071', u'5226', u'726', u'833', u'4081', u'885', u'156', u'5118', u'DB08916', u'DB08912', u'DB08911', u'DB05773', u'3104', u'1059', u'5197', u'4004', u'3101', u'DB06589', u'DB01269', u'DB06616', u'DB06366', u'5166', u'5167', u'5281', u'5280', u'DB00317', u'DB08901', u'3058', u'648', u'DB00398', u'3054', u'5041', u'263', u'1049', u'3105', u'359', u'DB00002'])\n"
     ]
    }
   ],
   "source": [
    "# LoE therapies\n",
    "valid_values = re.compile(\"DB[0-9]+|[0-9]+\")\n",
    "therapies = set([valid_values.match(unicode(x)).group() for x in loe_xls[\"Therapy_id\"]]) # Removing invalid characters\n",
    "print therapies"
   ]
  },
  {
   "cell_type": "code",
   "execution_count": null,
   "metadata": {
    "collapsed": false
   },
   "outputs": [],
   "source": [
    "# Write therapy_dictionary.tsv\n",
    "with open(os.path.join(base_dir, \"therapy_dictionary.tsv\"), \"wb\") as f:\n",
    "    for therapy_id in therapies:\n",
    "        exists = wga_drugdb_dev_table['THERAPY_ID'] == therapy_id\n",
    "        names = []\n",
    "        print therapy_id\n",
    "        if exists.any():\n",
    "            row = wga_drugdb_dev_table[exists].iloc[0]\n",
    "            names.append(row[\"THERAPY\"].lower())\n",
    "            if (row[\"GENERIC_NAME\"] != \"NULL\") and (row[\"GENERIC_NAME\"].lower() not in names): \n",
    "                names.append(row[\"GENERIC_NAME\"].lower())\n",
    "            names.extend([x.lower() for x in row[\"ALIAS_NAME\"].split(\"@\") if x.lower() not in names])\n",
    "        names = [therapy_id] + names if names else [therapy_id]\n",
    "        names.append(\"\\n\")\n",
    "        f.write(\"\\t\".join(names))"
   ]
  },
  {
   "cell_type": "code",
   "execution_count": null,
   "metadata": {
    "collapsed": false
   },
   "outputs": [],
   "source": [
    "# Load into Mongo\n",
    "with open(os.path.join(base_dir, \"therapy_dictionary.tsv\")) as f:\n",
    "    for raw in f:\n",
    "        line = raw.strip().split(\"\\t\")\n",
    "        if len(line) > 0:\n",
    "            therapy_id = line[0]\n",
    "            name = line[1] if len(line) > 1 else \"\"\n",
    "            synonyms = line[2:] if len(line) > 2 else []\n",
    "            result = db[\"THERAPY\"].insert_one({\"THERAPY_ID\" : therapy_id, \"NAME\" : name, \"SYNS\" : synonyms})\n",
    "            print \"Inserted: \" + str(result.inserted_id)"
   ]
  },
  {
   "cell_type": "code",
   "execution_count": 37,
   "metadata": {
    "collapsed": false
   },
   "outputs": [
    {
     "name": "stdout",
     "output_type": "stream",
     "text": [
      "set(['Hepatobiliary Cancer', 'Unknown Primary-Metastatic Malignant Neoplasm of Unknown Primary Origin', 'Prostate Cancer', 'Melanoma', 'Colorectal Cancer', 'Dermatologic-Melanoma', 'Ovarian Cancer', 'Acute Myeloid Leukemia', 'cholangiocarcinoma', 'Thoracic-Lung Carcinoma-Lung Squamous Cell Carcinoma', 'Leukemia', 'Soft Tissue Sarcoma', 'CNS Embryonal Tumor', 'Neurofibroma', 'Cancer of Unknown Primary', 'Colorectal Adenocarcinoma', 'All Liquid Tumors', 'Non-Small Cell Lung Carcinoma', 'Histiocytic Disorder', 'Endometrial Cancer', 'GIST', 'CNS Cancer', 'Thoracic-Lung Carcinoma-Lung Adenocarcinoma', 'melanoma', 'Basal Cell carcinoma', 'Chondrosarcoma', 'bladder cancer', 'Nerve Sheath Tumor', 'Embryonal Tumor', 'any', 'soft tissue sarcoma', 'Diffuse Large B-Cell Lymphoma', 'Invasive Breast Carcinoma', 'Ovary/Fallopian Tube', 'Lung Adenocarcinoma', 'Lung Squamous Cell Carcinoma', 'Breast Cancer', 'Thymic Tumor', 'Salivary Gland Cancer', 'Non-Hodgkin Lymphoma', 'colorectal cancer', 'esophageal carcinoma', 'Renal Clear Cell Carcinoma', 'Metastatic Malignant Neoplasm of Unknown Primary Origin', 'Head and Neck-Head and Neck Neoplasm-Salivary Gland Neoplasm', 'gastric cancer', 'Thyroid Cancer', 'Thoracic-Lung Carcinoma-Non-Small Cell Lung Carcinoma', 'Renal Cell Carcinoma', 'hepatocellular carcinoma', 'Prostate Adenocarcinoma', 'NSCLC', 'Cholangiocarcinoma', 'Endometrioid Ovarian Cancer', 'Medullary Thyroid Cancer', 'Miscellaneous Brain Tumor', 'Gastrointestinal-Colorectal Carcinoma-Colon Adenocarcinoma', 'Skin Cancer, Non-Melanoma', 'lung cancer', 'Glioma', 'Adrenocortical Carcinoma', 'Thymic Carcinoma', 'Bladder Cancer', 'breast cancer', 'Pancreatic Adenocarcinoma', 'Peripheral Nervous System', 'Glioblastoma', 'head and neck carcinoma', 'All Tumors', 'Non-Small Cell Lung Cancer', 'Ovarian Epithelial Tumor', 'Gastrointestinal-Liver and Intrahepatic Bile Duct Carcinoma -Hepatocellular Carcinoma', 'Liposarcoma', 'Low-Grade Serous Ovarian Cancer', 'Histiocytosis', 'Gastrointestinal Stromal Tumor', 'Esophagogastric Cancer'])\n"
     ]
    }
   ],
   "source": [
    "# LoE cancer types\n",
    "cancer_types = set([x for x in loe_xls[\"cancer type\"] if isinstance(x, basestring)])\n",
    "print cancer_types"
   ]
  },
  {
   "cell_type": "code",
   "execution_count": 29,
   "metadata": {
    "collapsed": false
   },
   "outputs": [
    {
     "name": "stdout",
     "output_type": "stream",
     "text": [
      "{u'unstructured': [{}]}\n"
     ]
    }
   ],
   "source": [
    "cds_url = \"https://watsonpow01.rch.stglabs.ibm.com/services/concept_detection/api/v1/concepts?\"\n",
    "query = \"version=2017-03-23&filters=%s&filter_groups=%s&libraries=umls.latest&longest_span=true&verbose=false\"\n",
    "filter_ = \"semanticType:neop\"\n",
    "text = \"GDGFDHFDF<DREIRE\"\n",
    "group = \"life sciences\"\n",
    "query = {\"version\" : \"2017-03-23\", \"filters\" : filter_, \"libraries\" : \"umls.latest\", \"longest_span\" : \"true\", \n",
    "         \"verbose\" : \"false\", \"filter_groups\" : group}\n",
    "headers = {\"Content-Type\" : \"text/plain\", \"Accept\" : \"application/json\"}\n",
    "result = requests.post(cds_url + urllib.urlencode(query), headers = headers, data=text).json()\n",
    "print result\n",
    "if \"data\" in result[\"unstructured\"][0]:\n",
    "    print result[\"unstructured\"][0][\"data\"][\"concepts\"][0][\"cui\"]"
   ]
  },
  {
   "cell_type": "code",
   "execution_count": null,
   "metadata": {
    "collapsed": false
   },
   "outputs": [],
   "source": [
    "# Write cancer_types_dictionary.tsv\n",
    "with open(os.path.join(base_dir, \"cancer_types_dictionary.tsv\"), \"wb\") as f:\n",
    "    for cancer_type in cancer_types:\n",
    "        print cancer_type\n",
    "        result = requests.post(cds_url + urllib.urlencode(query), headers = headers, data=cancer_type).json()\n",
    "        names = []\n",
    "        if \"data\" in result[\"unstructured\"][0]:\n",
    "            umls_cui = result[\"unstructured\"][0][\"data\"][\"concepts\"][0][\"cui\"]\n",
    "            result1 = db[\"NCIT\"].find_one({\"UMLS_CUI\" : umls_cui})\n",
    "            if result1: \n",
    "                names.append(result1[\"UMLS_CUI\"])\n",
    "                names += result1[\"SYNS\"]\n",
    "        names = [cancer_type] + names + [\"\\n\"]\n",
    "        f.write(\"\\t\".join(names))"
   ]
  },
  {
   "cell_type": "code",
   "execution_count": 7,
   "metadata": {
    "collapsed": false
   },
   "outputs": [],
   "source": [
    "# Insert a particular entry to CANCER\n",
    "result = client[\"WATSON\"][\"NCIT\"].find_one({\"CODE\" : \"C3099\"})\n",
    "if result:\n",
    "    db[\"CANCER\"].insert_one({\"NAME\" : \"hepatocellular carcinoma\", \n",
    "                             \"SYNS\" : list(set([x.lower() for x in result[\"SYNS\"]])),\n",
    "                             \"UMLS_CUI\" : result[\"UMLS_CUI\"]\n",
    "                            })"
   ]
  },
  {
   "cell_type": "code",
   "execution_count": 5,
   "metadata": {
    "collapsed": false
   },
   "outputs": [
    {
     "name": "stdout",
     "output_type": "stream",
     "text": [
      "Inserted: 58d9667b63ca025d936919ab\n",
      "Inserted: 58d9667b63ca025d936919ac\n",
      "Inserted: 58d9667b63ca025d936919ad\n",
      "Inserted: 58d9667b63ca025d936919ae\n",
      "Inserted: 58d9667b63ca025d936919af\n",
      "Inserted: 58d9667b63ca025d936919b0\n",
      "Inserted: 58d9667b63ca025d936919b1\n",
      "Inserted: 58d9667b63ca025d936919b2\n",
      "Inserted: 58d9667b63ca025d936919b3\n",
      "Inserted: 58d9667b63ca025d936919b4\n",
      "Inserted: 58d9667b63ca025d936919b5\n",
      "Inserted: 58d9667b63ca025d936919b6\n",
      "Inserted: 58d9667b63ca025d936919b7\n",
      "Inserted: 58d9667b63ca025d936919b8\n",
      "Inserted: 58d9667b63ca025d936919b9\n",
      "Inserted: 58d9667b63ca025d936919ba\n",
      "Inserted: 58d9667b63ca025d936919bb\n",
      "Inserted: 58d9667b63ca025d936919bc\n",
      "Inserted: 58d9667b63ca025d936919bd\n",
      "Inserted: 58d9667b63ca025d936919be\n",
      "Inserted: 58d9667b63ca025d936919bf\n",
      "Inserted: 58d9667b63ca025d936919c0\n",
      "Inserted: 58d9667b63ca025d936919c1\n",
      "Inserted: 58d9667b63ca025d936919c2\n",
      "Inserted: 58d9667b63ca025d936919c3\n",
      "Inserted: 58d9667b63ca025d936919c4\n",
      "Inserted: 58d9667b63ca025d936919c5\n",
      "Inserted: 58d9667b63ca025d936919c6\n",
      "Inserted: 58d9667b63ca025d936919c7\n",
      "Inserted: 58d9667b63ca025d936919c8\n",
      "Inserted: 58d9667b63ca025d936919c9\n",
      "Inserted: 58d9667b63ca025d936919ca\n",
      "Inserted: 58d9667b63ca025d936919cb\n",
      "Inserted: 58d9667b63ca025d936919cc\n",
      "Inserted: 58d9667b63ca025d936919cd\n",
      "Inserted: 58d9667b63ca025d936919ce\n",
      "Inserted: 58d9667b63ca025d936919cf\n",
      "Inserted: 58d9667b63ca025d936919d0\n",
      "Inserted: 58d9667b63ca025d936919d1\n",
      "Inserted: 58d9667b63ca025d936919d2\n",
      "Inserted: 58d9667b63ca025d936919d3\n",
      "Inserted: 58d9667b63ca025d936919d4\n",
      "Inserted: 58d9667b63ca025d936919d5\n",
      "Inserted: 58d9667b63ca025d936919d6\n",
      "Inserted: 58d9667b63ca025d936919d7\n",
      "Inserted: 58d9667b63ca025d936919d8\n",
      "Inserted: 58d9667b63ca025d936919d9\n",
      "Inserted: 58d9667b63ca025d936919da\n",
      "Inserted: 58d9667b63ca025d936919db\n",
      "Inserted: 58d9667b63ca025d936919dc\n",
      "Inserted: 58d9667b63ca025d936919dd\n",
      "Inserted: 58d9667b63ca025d936919de\n",
      "Inserted: 58d9667b63ca025d936919df\n",
      "Inserted: 58d9667b63ca025d936919e0\n",
      "Inserted: 58d9667b63ca025d936919e1\n",
      "Inserted: 58d9667b63ca025d936919e2\n",
      "Inserted: 58d9667b63ca025d936919e3\n",
      "Inserted: 58d9667b63ca025d936919e4\n",
      "Inserted: 58d9667b63ca025d936919e5\n",
      "Inserted: 58d9667b63ca025d936919e6\n",
      "Inserted: 58d9667b63ca025d936919e7\n",
      "Inserted: 58d9667b63ca025d936919e8\n",
      "Inserted: 58d9667b63ca025d936919e9\n",
      "Inserted: 58d9667b63ca025d936919ea\n",
      "Inserted: 58d9667b63ca025d936919eb\n",
      "Inserted: 58d9667b63ca025d936919ec\n",
      "Inserted: 58d9667b63ca025d936919ed\n",
      "Inserted: 58d9667b63ca025d936919ee\n",
      "Inserted: 58d9667b63ca025d936919ef\n",
      "Inserted: 58d9667b63ca025d936919f0\n",
      "Inserted: 58d9667b63ca025d936919f1\n",
      "Inserted: 58d9667b63ca025d936919f2\n",
      "Inserted: 58d9667b63ca025d936919f3\n",
      "Inserted: 58d9667b63ca025d936919f4\n",
      "Inserted: 58d9667b63ca025d936919f5\n",
      "Inserted: 58d9667b63ca025d936919f6\n",
      "Inserted: 58d9667b63ca025d936919f7\n"
     ]
    }
   ],
   "source": [
    "# Load into Mongo\n",
    "with open(os.path.join(base_dir, \"cancer_types_dictionary.tsv\")) as f:\n",
    "    for raw in f:\n",
    "        line = raw.strip().split(\"\\t\")\n",
    "        if len(line) > 0:\n",
    "            cancer_type = line[0].lower()\n",
    "            umls_cui = line[1] if len(line) > 1 else \"\"\n",
    "            synonyms = [x.lower() for x in line[2:] if (len(line) > 2) and (x.lower() != cancer_type)]\n",
    "            result = db[\"CANCER\"].insert_one({\"NAME\" : cancer_type, \"UMLS_CUI\" : umls_cui, \"SYNS\" : synonyms})\n",
    "            print \"Inserted: \" + str(result.inserted_id)"
   ]
  },
  {
   "cell_type": "code",
   "execution_count": null,
   "metadata": {
    "collapsed": true
   },
   "outputs": [],
   "source": []
  }
 ],
 "metadata": {
  "kernelspec": {
   "display_name": "Python 2",
   "language": "python",
   "name": "python2"
  },
  "language_info": {
   "codemirror_mode": {
    "name": "ipython",
    "version": 2
   },
   "file_extension": ".py",
   "mimetype": "text/x-python",
   "name": "python",
   "nbconvert_exporter": "python",
   "pygments_lexer": "ipython2",
   "version": "2.7.12"
  }
 },
 "nbformat": 4,
 "nbformat_minor": 2
}
