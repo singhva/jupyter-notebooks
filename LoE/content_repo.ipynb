{
 "cells": [
  {
   "cell_type": "code",
   "execution_count": 2,
   "metadata": {
    "collapsed": true
   },
   "outputs": [],
   "source": [
    "import os, sys, re\n",
    "import requests\n",
    "import collections\n",
    "from Bio import Entrez, Medline\n",
    "from com.ibm.watson import DESKTOP, DOCS_DIR\n",
    "import com.ibm.watson.utils.pubmed_utils as pu\n",
    "import urllib\n",
    "from bs4 import BeautifulSoup as bs\n",
    "import pymongo\n",
    "import time\n",
    "import random"
   ]
  },
  {
   "cell_type": "code",
   "execution_count": 4,
   "metadata": {},
   "outputs": [
    {
     "name": "stdout",
     "output_type": "stream",
     "text": [
      "https://watsonpow01.rch.stglabs.ibm.com/services/content_prod/api/v1/content/medline?token=w4genom&version=2017-05-09&user_id=genomics&name_values=publicationName%3DCancer&name_values=title%3Darabinoside&name_values=title%3Dmercaptopurine&include_fields=abstract&include_fields=title&fetch_size=20\n",
      "4518586: arabinoside, mercaptopurine\n",
      "1060503: arabinoside, mercaptopurine\n",
      "1059499: arabinoside, mercaptopurine\n",
      "1059498: arabinoside, mercaptopurine\n"
     ]
    }
   ],
   "source": [
    "url = \"https://watsonpow01.rch.stglabs.ibm.com/services/content_prod/api/v1/content/medline\"\n",
    "params = {\"name_values\" : [\"publicationName=Cancer\",\"title=arabinoside\", \"title=mercaptopurine\"], \"include_fields\" :['abstract', 'title']}\n",
    "params.update({'user_id':'genomics', 'token':'w4genom', 'version' : '2017-05-09', 'fetch_size' : 20})\n",
    "response = requests.get(url, params=params)\n",
    "print response.url\n",
    "documents = response.json().get(\"documents\")\n",
    "regex = re.compile(\"arabinoside|mercaptopurine\", re.IGNORECASE)\n",
    "for (pmid, article) in documents.iteritems():\n",
    "    title = article.get(\"title\")\n",
    "    print \"%s: %s\" %(pmid, \", \".join(regex.findall(title)))"
   ]
  },
  {
   "cell_type": "code",
   "execution_count": null,
   "metadata": {
    "collapsed": true
   },
   "outputs": [],
   "source": [
    "content_url = \"https://watsonpow01.rch.stglabs.ibm.com/services/content/api/v1/content/pubmed/%s/%s?user_id=genomics&token=w4genom&version=2017-03-01\"\n",
    "response = requests.get(content_url % (\"pmc\", \"23588493\")).json()\n",
    "print response"
   ]
  },
  {
   "cell_type": "code",
   "execution_count": null,
   "metadata": {
    "collapsed": true
   },
   "outputs": [],
   "source": [
    "model_id = \"48e69a3e-b31c-43fe-bdf9-6dffae15ec67\"\n",
    "api_key = \"e0759019e81f7776b95cbebf8b2f2ffe0244a3f9\"\n",
    "url = \"https://gateway-a.watsonplatform.net/calls/text/TextGetRankedNamedEntities?apikey=%s&verbose=1&model=%s\"\n",
    "abstract = \"Tyrosine kinase inhibitors (TKIs) against the human epidermal growth factor receptor (EGFR) are now standard treatment in the clinic for patients with advanced EGFR mutant non-small-cell lung cancer (NSCLC). First-generation EGFR TKIs, binding competitively and reversibly to the ATP-binding site of the EGFR tyrosine kinase domain, have resulted in a significant improvement in outcome for NSCLC patients with activating EGFR mutations (L858R and Del19). However, after a median duration of response of ~12 months, all patients develop tumor resistance, and in over half of these patients this is due to the emergence of the EGFR T790M resistance mutation. The second-generation EGFR/HER TKIs were developed to treat resistant disease, targeting not only T790M but EGFR-activating mutations and wild-type EGFR. Although they exhibited promising anti-T790M activity in the laboratory, their clinical activity among T790M+ NSCLC was poor mainly because of dose-limiting toxicity due to simultaneous inhibition of wild-type EGFR. The third-generation EGFR TKIs selectively and irreversibly target EGFR T790M and activating EGFR mutations, showing promising efficacy in NSCLC resistant to the first- and second-generation EGFR TKIs. They also appear to have lower incidences of toxicity due to the limited inhibitory effect on wild-type EGFR. Currently, the first-generation gefitinib and erlotinib and second-generation afatinib have been approved for first-line treatment of metastatic NSCLC with activating EGFR mutations. Among the third-generation EGFR TKIs, osimertinib is today the only drug approved by the Food and Drug Administration and the European Medicines Agency to treat metastatic EGFR T790M NSCLC patients who have progressed on or after EGFR TKI therapy. In this review, we summarize the available post-progression therapies including third-generation EGFR inhibitors and combination treatment strategies for treating patients with NSCLC harboring EGFR mutations and address the known mechanisms of resistance.\"\n",
    "data = {\"outputMode\" : \"json\", \"text\" : abstract}\n",
    "response = requests.post(url % (api_key, model_id), data=data).json()\n",
    "print response"
   ]
  },
  {
   "cell_type": "code",
   "execution_count": 15,
   "metadata": {},
   "outputs": [
    {
     "name": "stdout",
     "output_type": "stream",
     "text": [
      "[u'tumor', u'NSCLC', u'NSCLC', u'NSCLC', u'NSCLC', u'NSCLC', u'non-small-cell lung cancer', u'NSCLC']\n"
     ]
    }
   ],
   "source": [
    "print [entity[\"text\"] for entity in response['entities'] if entity[\"type\"] == 'Cancer_Entity']"
   ]
  },
  {
   "cell_type": "code",
   "execution_count": null,
   "metadata": {
    "collapsed": true
   },
   "outputs": [],
   "source": []
  }
 ],
 "metadata": {
  "kernelspec": {
   "display_name": "Python 2",
   "language": "python",
   "name": "python2"
  },
  "language_info": {
   "codemirror_mode": {
    "name": "ipython",
    "version": 2
   },
   "file_extension": ".py",
   "mimetype": "text/x-python",
   "name": "python",
   "nbconvert_exporter": "python",
   "pygments_lexer": "ipython2",
   "version": "2.7.12"
  }
 },
 "nbformat": 4,
 "nbformat_minor": 2
}
