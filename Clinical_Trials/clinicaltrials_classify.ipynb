{
 "cells": [
  {
   "cell_type": "code",
   "execution_count": 1,
   "metadata": {
    "collapsed": false
   },
   "outputs": [],
   "source": [
    "import pymongo, os, re, glob, sys\n",
    "import pandas as pd\n",
    "import numpy as np\n",
    "from collections import OrderedDict, defaultdict\n",
    "from sklearn.cluster import KMeans\n",
    "from scipy.sparse import csr_matrix, vstack, hstack\n",
    "from sklearn.feature_extraction.text import CountVectorizer\n",
    "from sklearn.decomposition import PCA\n",
    "import nltk\n",
    "from com.ibm.watson.datasource.clinicaltrials import ClinicalTrials, ClinicalStudy\n",
    "from com.ibm.watson.datasource.concepts import get_concepts_from_ctm\n",
    "from com.ibm.watson import get_mongo_client"
   ]
  },
  {
   "cell_type": "code",
   "execution_count": 2,
   "metadata": {
    "collapsed": true
   },
   "outputs": [],
   "source": [
    "DESKTOP = os.path.join(os.environ[\"HOME\"], \"Desktop\")\n",
    "DOCUMENTS = os.path.join(os.environ[\"HOME\"], \"Documents\")"
   ]
  },
  {
   "cell_type": "code",
   "execution_count": 3,
   "metadata": {
    "collapsed": false
   },
   "outputs": [],
   "source": [
    "client = get_mongo_client(\"localhost\", 27017)\n",
    "db = client[\"WATSON\"]"
   ]
  },
  {
   "cell_type": "code",
   "execution_count": 4,
   "metadata": {
    "collapsed": false
   },
   "outputs": [],
   "source": [
    "ct = ClinicalTrials()\n",
    "count = ct.get_search_results_count(query=None, term=\"cancer AND \\\"bone marrow\\\"\", type='Intr')"
   ]
  },
  {
   "cell_type": "code",
   "execution_count": 3,
   "metadata": {
    "collapsed": false
   },
   "outputs": [],
   "source": [
    "trials_dir = os.path.join(DOCUMENTS, \"Data\", \"CTGOV\", \"bone_marrow\")\n",
    "line_break_regex = re.compile(\"(\\n[ ]{2,})\")\n",
    "purpose_rationale_regex = re.compile(\"PURPOSE: |RATIONALE: \")\n",
    "\n",
    "def replace_specific_drug_names(text):\n",
    "    response = get_concepts_from_ctm(text)\n",
    "    if \"data\" in response[\"unstructured\"][0]:\n",
    "        drug_mentions = [ {\"begin\" : concept[\"begin\"], \"end\" : concept[\"end\"], \"text\" : concept[\"coveredText\"]} for concept in response[\"unstructured\"][0][\"data\"][\"concepts\"] if concept[\"semanticType\"] == \"phsu\"]\n",
    "        if len(drug_mentions) > 0:\n",
    "            regex = re.compile(\"|\".join([mention[\"text\"] for mention in drug_mentions]))\n",
    "            #print \"|\".join([mention[\"text\"] for mention in drug_mentions])\n",
    "            text = regex.sub(\"drug\", text)\n",
    "                \n",
    "    return text\n",
    "\n",
    "#text = \"All patients entered will receive induction therapy with cyclophosphamide, adriamycin, methotrexate and 5-fluorouracil with hormonal synchronization utilizing tamoxifen and premarin as in a previous Medicine Branch protocol (MB-160C)\"\n",
    "#replace_specific_drug_names(text)"
   ]
  },
  {
   "cell_type": "code",
   "execution_count": 4,
   "metadata": {
    "collapsed": false
   },
   "outputs": [
    {
     "name": "stdout",
     "output_type": "stream",
     "text": [
      "NCT00429143.xml\n",
      "NCT00438958.xml\n",
      "This randomized phase III trial is studying drug-mobilized sibling donor peripheral stem cell transplant to see how well it works compared with sibling donor bone marrow transplant in treating patients with hematologic cancers or drug diseases.\n",
      "\t7: Study: 26, Bone Marrow: 163, Drug: 44\n",
      "NCT00445731.xml\n",
      "This randomized clinical trial is studying a structured walking drug to see how well it works compared with standard therapy in cancer patients undergoing a donor bone marrow transplant.\n",
      "\t1: Study: 25, Bone Marrow: 168, Drug: 64\n",
      "NCT00446550.xml\n",
      "NCT00449592.xml\n",
      "NCT00450450.xml\n",
      "This randomized phase III trial is studying donor bone marrow transplant with or without drug to compare how well they work in treating young patients with hematologic cancer or drug diseases.\n",
      "\t0: Study: 26, Bone Marrow: 55, Drug: 89\n",
      "NCT00453206.xml\n",
      "NCT00453388.xml\n",
      "This phase II trial studies how well total-body irradiation (TBI) works when given together with drug and drug followed by donor bone marrow transplant, drug, and drug in treating patients with Fanconi anemia (FA).\n",
      "\t0: Study: 14, Bone Marrow: 134, Drug: 97\n",
      "NCT00455312.xml\n",
      "NCT00463463.xml\n",
      "The PARMA study randomized 109 patients, with chemo-sensitive relapse and no marrow involvement to receive, following the initial salvage regimen, high-dose chemdrugapy versus continuous standard dose chemdrugapy.\n",
      "\t1: Study: 10, Bone Marrow: 77, Drug: 161\n",
      "NCT00469729.xml\n",
      "NCT00474747.xml\n",
      "The goal of this clinical research study is to find out the best dose of drug that can be given with drug, drug (drug), and low-dose total body irradiation (TBI) to patients before a bone marrow transplant to decrease the risks related to the transplant while not decreasing the effectiveness of the transplant from an unrelated donor.\n",
      "\t0: Study: 35, Bone Marrow: 188, Drug: 73\n",
      "NCT00478244.xml\n",
      "NCT00478777.xml\n",
      "NCT00479115.xml\n",
      "NCT00487448.xml\n",
      "NCT00489281.xml\n",
      "This phase II trial is studying how well giving drug and drug together with total-body irradiation followed by a donor bone marrow transplant works in treating patients with sickle cell anemia and drug blood disorders.\n",
      "\t5: Study: 14, Bone Marrow: 124, Drug: 48\n",
      "NCT00499889.xml\n",
      "NCT00504634.xml\n",
      "NCT00505895.xml\n",
      "The goal of this clinical research study is to learn if there is a difference in transplant outcomes between two different doses of drug given in combination with drug followed by transfusion of a related or unrelated volunteer donor's peripheral blood or bone marrow progenitor cells (allogeneic stem cell transplant) in patients with multiple myeloma.\n",
      "\t0: Study: 35, Bone Marrow: 261, Drug: 132\n",
      "NCT00506129.xml\n",
      "NCT00506857.xml\n",
      "NCT00506922.xml\n",
      "NCT00507260.xml\n",
      "NCT00511069.xml\n",
      "NCT00517907.xml\n",
      "The primary goal of this study is to determine the safety and tolerability of a novel peptide - preimplantation factor (drug-1) - in patients who develop acute steroid-resistant graft-versus-host disease (GVHD) after matched bone marrow transplant (BMT).\n",
      "\t0: Study: 25, Bone Marrow: 230, Drug: 120\n",
      "NCT00519090.xml\n",
      "NCT00524784.xml\n",
      "NCT00524953.xml\n",
      "NCT00526292.xml\n",
      "NCT00526409.xml\n",
      "NCT00530218.xml\n",
      "This phase II trial is studying how well giving drug by infusion and by mouth works in treating patients with cytomegalovirus after donor bone marrow transplant.\n",
      "\t2: Study: 14, Bone Marrow: 143, Drug: 48\n",
      "NCT00531232.xml\n",
      "NCT00534430.xml\n",
      "This phase II trial is studying the side effects and best way to give drug together with drug and total-body irradiation and to see how well they work in treating patients who are undergoing a donor stem cell or bone marrow transplant for advanced hematologic cancer.\n",
      "\t4: Study: 14, Bone Marrow: 217, Drug: 70\n",
      "NCT00534469.xml\n",
      "NCT00536601.xml\n",
      "NCT00539500.xml\n",
      "NCT00539695.xml\n",
      "NCT00540995.xml\n",
      "NCT00549835.xml\n",
      "NCT00550992.xml\n",
      "NCT00553098.xml\n",
      "NCT00553202.xml\n",
      "NCT00554788.xml\n",
      "NCT00560352.xml\n",
      "NCT00564200.xml\n",
      "The primary objective of this study is to analyze the efficacy of allogeneic bone marrow transplantation in a reduced-intensity manner combined with drug in the treatment of multiple myeloma with bad prognosis, in order to evaluate the response and relapse rates\n",
      "\t0: Study: 30, Bone Marrow: 82, Drug: 149\n",
      "NCT00566696.xml\n",
      "NCT00568633.xml\n",
      "NCT00569179.xml\n",
      "NCT00569283.xml\n"
     ]
    }
   ],
   "source": [
    "#bone_marrow_trial_summaries = open(os.path.join(trials_dir, \"bone_marrow_trial_summaries.tsv\"), \"wb\")\n",
    "bone_marrow_regex = re.compile(\"marrow( transplant|transplantation)?\", re.IGNORECASE)\n",
    "study_regex = re.compile(\"(clinical)?(study|trial)\", re.IGNORECASE)\n",
    "\n",
    "for i, f in enumerate(glob.glob1(trials_dir, \"*.xml\")[400:450]):\n",
    "    cs = ClinicalStudy()\n",
    "    print f\n",
    "    try:\n",
    "        cs.load_from_file(os.path.join(trials_dir, f))\n",
    "        #if i % 50 == 0:\n",
    "        #print \"Processing(%d) %s\" % (i, cs.get_trial_id())\n",
    "        summary = cs.get_summary()\n",
    "        summary = line_break_regex.sub(\" \", summary)\n",
    "        summary = purpose_rationale_regex.sub(\"\", summary)\n",
    "        #print summary\n",
    "        summary = replace_specific_drug_names(summary)\n",
    "        for j, sent in enumerate(nltk.sent_tokenize(summary)):\n",
    "            index_of_bone_marrow = -1\n",
    "            index_of_study = -1\n",
    "            match = study_regex.search(sent)\n",
    "            if match:\n",
    "                #print \"match 1 (%d)\" % (match.end() - match.start())\n",
    "                index_of_study = match.start()\n",
    "            match = bone_marrow_regex.search(sent)\n",
    "            if match:\n",
    "                #print \"match 2 (%d)\" % (match.end() - match.start())\n",
    "                index_of_bone_marrow = match.start()\n",
    "            index_of_drug = sent.find(\"drug\")\n",
    "            if (index_of_study > -1) and (index_of_bone_marrow > -1) and (index_of_drug > -1):\n",
    "                print sent\n",
    "                print \"\\t%d: Study: %d, Bone Marrow: %d, Drug: %d\" % (j, index_of_study, index_of_bone_marrow, index_of_drug)\n",
    "                break\n",
    "        #bone_marrow_trial_summaries.write(\"\\t\".join([cs.get_trial_id(), summary, \"\\n\"]))\n",
    "    except:\n",
    "        print \"Exception in %s: %s\" % (cs.get_trial_id(), sys.exc_info()[0])\n",
    "        \n",
    "#bone_marrow_trial_summaries.close()"
   ]
  },
  {
   "cell_type": "code",
   "execution_count": 8,
   "metadata": {
    "collapsed": false
   },
   "outputs": [
    {
     "ename": "StructuralBadDocumentError",
     "evalue": "<class 'com.ibm.watson.schema.ct_gov.CTD_ANON_17'> cannot accept wildcard content <pyxb.utils.saxdom.Element object at 0x10f89aa50>",
     "output_type": "error",
     "traceback": [
      "\u001b[0;31m---------------------------------------------------------------------------\u001b[0m",
      "\u001b[0;31mStructuralBadDocumentError\u001b[0m                Traceback (most recent call last)",
      "\u001b[0;32m<ipython-input-8-6b3154d2d039>\u001b[0m in \u001b[0;36m<module>\u001b[0;34m()\u001b[0m\n\u001b[1;32m      1\u001b[0m \u001b[0mcs\u001b[0m \u001b[0;34m=\u001b[0m \u001b[0mClinicalStudy\u001b[0m\u001b[0;34m(\u001b[0m\u001b[0;34m)\u001b[0m\u001b[0;34m\u001b[0m\u001b[0m\n\u001b[0;32m----> 2\u001b[0;31m \u001b[0mcs\u001b[0m\u001b[0;34m.\u001b[0m\u001b[0mload_from_file\u001b[0m\u001b[0;34m(\u001b[0m\u001b[0mos\u001b[0m\u001b[0;34m.\u001b[0m\u001b[0mpath\u001b[0m\u001b[0;34m.\u001b[0m\u001b[0mjoin\u001b[0m\u001b[0;34m(\u001b[0m\u001b[0mtrials_dir\u001b[0m\u001b[0;34m,\u001b[0m \u001b[0;34m\"NCT00446550.xml\"\u001b[0m\u001b[0;34m)\u001b[0m\u001b[0;34m)\u001b[0m\u001b[0;34m\u001b[0m\u001b[0m\n\u001b[0m\u001b[1;32m      3\u001b[0m \u001b[0;32mprint\u001b[0m \u001b[0mcs\u001b[0m\u001b[0;34m.\u001b[0m\u001b[0mget_summary\u001b[0m\u001b[0;34m(\u001b[0m\u001b[0;34m)\u001b[0m\u001b[0;34m\u001b[0m\u001b[0m\n",
      "\u001b[0;32m/Users/singhv/dev/workspace/ml-python-curation/src/com/ibm/watson/datasource/clinicaltrials.pyc\u001b[0m in \u001b[0;36mload_from_file\u001b[0;34m(self, file_name)\u001b[0m\n\u001b[1;32m    127\u001b[0m             \u001b[0mdoc\u001b[0m \u001b[0;34m=\u001b[0m \u001b[0mdomutils\u001b[0m\u001b[0;34m.\u001b[0m\u001b[0mStringToDOM\u001b[0m\u001b[0;34m(\u001b[0m\u001b[0mxml_text\u001b[0m\u001b[0;34m)\u001b[0m\u001b[0;34m\u001b[0m\u001b[0m\n\u001b[1;32m    128\u001b[0m             \u001b[0mpyxb\u001b[0m\u001b[0;34m.\u001b[0m\u001b[0mRequireValidWhenParsing\u001b[0m\u001b[0;34m(\u001b[0m\u001b[0mFalse\u001b[0m\u001b[0;34m)\u001b[0m\u001b[0;34m\u001b[0m\u001b[0m\n\u001b[0;32m--> 129\u001b[0;31m             \u001b[0mself\u001b[0m\u001b[0;34m.\u001b[0m\u001b[0m_xml\u001b[0m \u001b[0;34m=\u001b[0m \u001b[0mclinical_study\u001b[0m\u001b[0;34m.\u001b[0m\u001b[0mcreateFromDOM\u001b[0m\u001b[0;34m(\u001b[0m\u001b[0mdoc\u001b[0m\u001b[0;34m.\u001b[0m\u001b[0mdocumentElement\u001b[0m\u001b[0;34m)\u001b[0m\u001b[0;34m\u001b[0m\u001b[0m\n\u001b[0m\u001b[1;32m    130\u001b[0m             \u001b[0mself\u001b[0m\u001b[0;34m.\u001b[0m\u001b[0m_id\u001b[0m \u001b[0;34m=\u001b[0m \u001b[0mself\u001b[0m\u001b[0;34m.\u001b[0m\u001b[0m_xml\u001b[0m\u001b[0;34m.\u001b[0m\u001b[0mid_info\u001b[0m\u001b[0;34m.\u001b[0m\u001b[0mnct_id\u001b[0m\u001b[0;34m\u001b[0m\u001b[0m\n\u001b[1;32m    131\u001b[0m \u001b[0;34m\u001b[0m\u001b[0m\n",
      "\u001b[0;32m/Library/Python/2.7/site-packages/pyxb/binding/basis.pyc\u001b[0m in \u001b[0;36mcreateFromDOM\u001b[0;34m(self, node, fallback_namespace, **kw)\u001b[0m\n\u001b[1;32m   1783\u001b[0m             \u001b[0mkw\u001b[0m\u001b[0;34m.\u001b[0m\u001b[0msetdefault\u001b[0m\u001b[0;34m(\u001b[0m\u001b[0;34m'_fallback_namespace'\u001b[0m\u001b[0;34m,\u001b[0m \u001b[0mfallback_namespace\u001b[0m\u001b[0;34m)\u001b[0m\u001b[0;34m\u001b[0m\u001b[0m\n\u001b[1;32m   1784\u001b[0m         \u001b[0mexpanded_name\u001b[0m \u001b[0;34m=\u001b[0m \u001b[0mpyxb\u001b[0m\u001b[0;34m.\u001b[0m\u001b[0mnamespace\u001b[0m\u001b[0;34m.\u001b[0m\u001b[0mExpandedName\u001b[0m\u001b[0;34m(\u001b[0m\u001b[0mnode\u001b[0m\u001b[0;34m,\u001b[0m \u001b[0mfallback_namespace\u001b[0m\u001b[0;34m=\u001b[0m\u001b[0mfallback_namespace\u001b[0m\u001b[0;34m)\u001b[0m\u001b[0;34m\u001b[0m\u001b[0m\n\u001b[0;32m-> 1785\u001b[0;31m         \u001b[0;32mreturn\u001b[0m \u001b[0mself\u001b[0m\u001b[0;34m.\u001b[0m\u001b[0m_createFromDOM\u001b[0m\u001b[0;34m(\u001b[0m\u001b[0mnode\u001b[0m\u001b[0;34m,\u001b[0m \u001b[0mexpanded_name\u001b[0m\u001b[0;34m,\u001b[0m \u001b[0;34m**\u001b[0m\u001b[0mkw\u001b[0m\u001b[0;34m)\u001b[0m\u001b[0;34m\u001b[0m\u001b[0m\n\u001b[0m\u001b[1;32m   1786\u001b[0m \u001b[0;34m\u001b[0m\u001b[0m\n\u001b[1;32m   1787\u001b[0m     \u001b[0;32mdef\u001b[0m \u001b[0m_createFromDOM\u001b[0m \u001b[0;34m(\u001b[0m\u001b[0mself\u001b[0m\u001b[0;34m,\u001b[0m \u001b[0mnode\u001b[0m\u001b[0;34m,\u001b[0m \u001b[0mexpanded_name\u001b[0m\u001b[0;34m,\u001b[0m \u001b[0;34m**\u001b[0m\u001b[0mkw\u001b[0m\u001b[0;34m)\u001b[0m\u001b[0;34m:\u001b[0m\u001b[0;34m\u001b[0m\u001b[0m\n",
      "\u001b[0;32m/Library/Python/2.7/site-packages/pyxb/binding/basis.pyc\u001b[0m in \u001b[0;36m_createFromDOM\u001b[0;34m(self, node, expanded_name, **kw)\u001b[0m\n\u001b[1;32m   1807\u001b[0m         \u001b[0;32mif\u001b[0m \u001b[0mxml\u001b[0m\u001b[0;34m.\u001b[0m\u001b[0mdom\u001b[0m\u001b[0;34m.\u001b[0m\u001b[0mNode\u001b[0m\u001b[0;34m.\u001b[0m\u001b[0mDOCUMENT_NODE\u001b[0m \u001b[0;34m==\u001b[0m \u001b[0mnode\u001b[0m\u001b[0;34m.\u001b[0m\u001b[0mnodeType\u001b[0m\u001b[0;34m:\u001b[0m\u001b[0;34m\u001b[0m\u001b[0m\n\u001b[1;32m   1808\u001b[0m             \u001b[0mnode\u001b[0m \u001b[0;34m=\u001b[0m \u001b[0mnode\u001b[0m\u001b[0;34m.\u001b[0m\u001b[0mdocumentElement\u001b[0m\u001b[0;34m\u001b[0m\u001b[0m\n\u001b[0;32m-> 1809\u001b[0;31m         \u001b[0;32mreturn\u001b[0m \u001b[0melement\u001b[0m\u001b[0;34m.\u001b[0m\u001b[0mCreateDOMBinding\u001b[0m\u001b[0;34m(\u001b[0m\u001b[0mnode\u001b[0m\u001b[0;34m,\u001b[0m \u001b[0mself\u001b[0m\u001b[0;34m.\u001b[0m\u001b[0melementForName\u001b[0m\u001b[0;34m(\u001b[0m\u001b[0mexpanded_name\u001b[0m\u001b[0;34m)\u001b[0m\u001b[0;34m,\u001b[0m \u001b[0;34m**\u001b[0m\u001b[0mkw\u001b[0m\u001b[0;34m)\u001b[0m\u001b[0;34m\u001b[0m\u001b[0m\n\u001b[0m\u001b[1;32m   1810\u001b[0m \u001b[0;34m\u001b[0m\u001b[0m\n\u001b[1;32m   1811\u001b[0m     \u001b[0;32mdef\u001b[0m \u001b[0m__str__\u001b[0m \u001b[0;34m(\u001b[0m\u001b[0mself\u001b[0m\u001b[0;34m)\u001b[0m\u001b[0;34m:\u001b[0m\u001b[0;34m\u001b[0m\u001b[0m\n",
      "\u001b[0;32m/Library/Python/2.7/site-packages/pyxb/binding/basis.pyc\u001b[0m in \u001b[0;36mCreateDOMBinding\u001b[0;34m(cls, node, element_binding, **kw)\u001b[0m\n\u001b[1;32m   1695\u001b[0m         \u001b[0;32mtry\u001b[0m\u001b[0;34m:\u001b[0m\u001b[0;34m\u001b[0m\u001b[0m\n\u001b[1;32m   1696\u001b[0m             \u001b[0mpyxb\u001b[0m\u001b[0;34m.\u001b[0m\u001b[0mnamespace\u001b[0m\u001b[0;34m.\u001b[0m\u001b[0mNamespaceContext\u001b[0m\u001b[0;34m.\u001b[0m\u001b[0mPushContext\u001b[0m\u001b[0;34m(\u001b[0m\u001b[0mns_ctx\u001b[0m\u001b[0;34m)\u001b[0m\u001b[0;34m\u001b[0m\u001b[0m\n\u001b[0;32m-> 1697\u001b[0;31m             \u001b[0mrv\u001b[0m \u001b[0;34m=\u001b[0m \u001b[0mtype_class\u001b[0m\u001b[0;34m.\u001b[0m\u001b[0mFactory\u001b[0m\u001b[0;34m(\u001b[0m\u001b[0m_dom_node\u001b[0m\u001b[0;34m=\u001b[0m\u001b[0mnode\u001b[0m\u001b[0;34m,\u001b[0m \u001b[0;34m**\u001b[0m\u001b[0mkw\u001b[0m\u001b[0;34m)\u001b[0m\u001b[0;34m\u001b[0m\u001b[0m\n\u001b[0m\u001b[1;32m   1698\u001b[0m         \u001b[0;32mfinally\u001b[0m\u001b[0;34m:\u001b[0m\u001b[0;34m\u001b[0m\u001b[0m\n\u001b[1;32m   1699\u001b[0m             \u001b[0mpyxb\u001b[0m\u001b[0;34m.\u001b[0m\u001b[0mnamespace\u001b[0m\u001b[0;34m.\u001b[0m\u001b[0mNamespaceContext\u001b[0m\u001b[0;34m.\u001b[0m\u001b[0mPopContext\u001b[0m\u001b[0;34m(\u001b[0m\u001b[0;34m)\u001b[0m\u001b[0;34m\u001b[0m\u001b[0m\n",
      "\u001b[0;32m/Library/Python/2.7/site-packages/pyxb/binding/basis.pyc\u001b[0m in \u001b[0;36mFactory\u001b[0;34m(cls, *args, **kw)\u001b[0m\n\u001b[1;32m    303\u001b[0m         \u001b[0mused_cls\u001b[0m \u001b[0;34m=\u001b[0m \u001b[0mcls\u001b[0m\u001b[0;34m.\u001b[0m\u001b[0m_SupersedingClass\u001b[0m\u001b[0;34m(\u001b[0m\u001b[0;34m)\u001b[0m\u001b[0;34m\u001b[0m\u001b[0m\n\u001b[1;32m    304\u001b[0m         \u001b[0mstate\u001b[0m \u001b[0;34m=\u001b[0m \u001b[0mused_cls\u001b[0m\u001b[0;34m.\u001b[0m\u001b[0m_PreFactory_vx\u001b[0m\u001b[0;34m(\u001b[0m\u001b[0margs\u001b[0m\u001b[0;34m,\u001b[0m \u001b[0mkw\u001b[0m\u001b[0;34m)\u001b[0m\u001b[0;34m\u001b[0m\u001b[0m\n\u001b[0;32m--> 305\u001b[0;31m         \u001b[0mrv\u001b[0m \u001b[0;34m=\u001b[0m \u001b[0mcls\u001b[0m\u001b[0;34m.\u001b[0m\u001b[0m_DynamicCreate\u001b[0m\u001b[0;34m(\u001b[0m\u001b[0;34m*\u001b[0m\u001b[0margs\u001b[0m\u001b[0;34m,\u001b[0m \u001b[0;34m**\u001b[0m\u001b[0mkw\u001b[0m\u001b[0;34m)\u001b[0m\u001b[0;34m\u001b[0m\u001b[0m\n\u001b[0m\u001b[1;32m    306\u001b[0m         \u001b[0mrv\u001b[0m\u001b[0;34m.\u001b[0m\u001b[0m_postFactory_vx\u001b[0m\u001b[0;34m(\u001b[0m\u001b[0mstate\u001b[0m\u001b[0;34m)\u001b[0m\u001b[0;34m\u001b[0m\u001b[0m\n\u001b[1;32m    307\u001b[0m         \u001b[0;32mif\u001b[0m \u001b[0;34m(\u001b[0m\u001b[0mrv\u001b[0m\u001b[0;34m.\u001b[0m\u001b[0m_location\u001b[0m \u001b[0;32mis\u001b[0m \u001b[0mNone\u001b[0m\u001b[0;34m)\u001b[0m \u001b[0;32mand\u001b[0m \u001b[0;34m(\u001b[0m\u001b[0mlocation\u001b[0m \u001b[0;32mis\u001b[0m \u001b[0;32mnot\u001b[0m \u001b[0mNone\u001b[0m\u001b[0;34m)\u001b[0m\u001b[0;34m:\u001b[0m\u001b[0;34m\u001b[0m\u001b[0m\n",
      "\u001b[0;32m/Library/Python/2.7/site-packages/pyxb/binding/basis.pyc\u001b[0m in \u001b[0;36m_DynamicCreate\u001b[0;34m(cls, *args, **kw)\u001b[0m\n\u001b[1;32m    675\u001b[0m             \u001b[0mctor\u001b[0m \u001b[0;34m=\u001b[0m \u001b[0mcls\u001b[0m\u001b[0;34m.\u001b[0m\u001b[0m_SupersedingClass\u001b[0m\u001b[0;34m(\u001b[0m\u001b[0;34m)\u001b[0m\u001b[0;34m\u001b[0m\u001b[0m\n\u001b[1;32m    676\u001b[0m         \u001b[0;32mtry\u001b[0m\u001b[0;34m:\u001b[0m\u001b[0;34m\u001b[0m\u001b[0m\n\u001b[0;32m--> 677\u001b[0;31m             \u001b[0;32mreturn\u001b[0m \u001b[0mctor\u001b[0m\u001b[0;34m(\u001b[0m\u001b[0;34m*\u001b[0m\u001b[0margs\u001b[0m\u001b[0;34m,\u001b[0m \u001b[0;34m**\u001b[0m\u001b[0mkw\u001b[0m\u001b[0;34m)\u001b[0m\u001b[0;34m\u001b[0m\u001b[0m\n\u001b[0m\u001b[1;32m    678\u001b[0m         \u001b[0;32mexcept\u001b[0m \u001b[0mTypeError\u001b[0m\u001b[0;34m:\u001b[0m\u001b[0;34m\u001b[0m\u001b[0m\n\u001b[1;32m    679\u001b[0m             \u001b[0;32mraise\u001b[0m \u001b[0mpyxb\u001b[0m\u001b[0;34m.\u001b[0m\u001b[0mSimpleTypeValueError\u001b[0m\u001b[0;34m(\u001b[0m\u001b[0mctor\u001b[0m\u001b[0;34m,\u001b[0m \u001b[0margs\u001b[0m\u001b[0;34m)\u001b[0m\u001b[0;34m\u001b[0m\u001b[0m\n",
      "\u001b[0;32m/Library/Python/2.7/site-packages/pyxb/binding/basis.pyc\u001b[0m in \u001b[0;36m__init__\u001b[0;34m(self, *args, **kw)\u001b[0m\n\u001b[1;32m   2098\u001b[0m                 \u001b[0mself\u001b[0m\u001b[0;34m.\u001b[0m\u001b[0mappend\u001b[0m\u001b[0;34m(\u001b[0m\u001b[0mvalue\u001b[0m\u001b[0;34m)\u001b[0m\u001b[0;34m\u001b[0m\u001b[0m\n\u001b[1;32m   2099\u001b[0m         \u001b[0;32melif\u001b[0m \u001b[0mdom_node\u001b[0m \u001b[0;32mis\u001b[0m \u001b[0;32mnot\u001b[0m \u001b[0mNone\u001b[0m\u001b[0;34m:\u001b[0m\u001b[0;34m\u001b[0m\u001b[0m\n\u001b[0;32m-> 2100\u001b[0;31m             \u001b[0mself\u001b[0m\u001b[0;34m.\u001b[0m\u001b[0mextend\u001b[0m\u001b[0;34m(\u001b[0m\u001b[0mdom_node\u001b[0m\u001b[0;34m.\u001b[0m\u001b[0mchildNodes\u001b[0m\u001b[0;34m[\u001b[0m\u001b[0;34m:\u001b[0m\u001b[0;34m]\u001b[0m\u001b[0;34m,\u001b[0m \u001b[0mfallback_namespace\u001b[0m\u001b[0;34m)\u001b[0m\u001b[0;34m\u001b[0m\u001b[0m\n\u001b[0m\u001b[1;32m   2101\u001b[0m         \u001b[0;32melse\u001b[0m\u001b[0;34m:\u001b[0m\u001b[0;34m\u001b[0m\u001b[0m\n\u001b[1;32m   2102\u001b[0m             \u001b[0mdo_finalize_content_model\u001b[0m \u001b[0;34m=\u001b[0m \u001b[0mFalse\u001b[0m\u001b[0;34m\u001b[0m\u001b[0m\n",
      "\u001b[0;32m/Library/Python/2.7/site-packages/pyxb/binding/basis.pyc\u001b[0m in \u001b[0;36mextend\u001b[0;34m(self, value_list, _fallback_namespace, _from_xml, _location)\u001b[0m\n\u001b[1;32m   2577\u001b[0m                \u001b[0;34m'_from_xml'\u001b[0m\u001b[0;34m:\u001b[0m \u001b[0m_from_xml\u001b[0m\u001b[0;34m,\u001b[0m\u001b[0;34m\u001b[0m\u001b[0m\n\u001b[1;32m   2578\u001b[0m                '_location': _location }\n\u001b[0;32m-> 2579\u001b[0;31m         \u001b[0;34m[\u001b[0m \u001b[0mself\u001b[0m\u001b[0;34m.\u001b[0m\u001b[0mappend\u001b[0m\u001b[0;34m(\u001b[0m\u001b[0m_v\u001b[0m\u001b[0;34m,\u001b[0m \u001b[0;34m**\u001b[0m\u001b[0mkw\u001b[0m\u001b[0;34m)\u001b[0m \u001b[0;32mfor\u001b[0m \u001b[0m_v\u001b[0m \u001b[0;32min\u001b[0m \u001b[0mvalue_list\u001b[0m \u001b[0;34m]\u001b[0m\u001b[0;34m\u001b[0m\u001b[0m\n\u001b[0m\u001b[1;32m   2580\u001b[0m         \u001b[0;32mreturn\u001b[0m \u001b[0mself\u001b[0m\u001b[0;34m\u001b[0m\u001b[0m\n\u001b[1;32m   2581\u001b[0m \u001b[0;34m\u001b[0m\u001b[0m\n",
      "\u001b[0;32m/Library/Python/2.7/site-packages/pyxb/binding/basis.pyc\u001b[0m in \u001b[0;36mappend\u001b[0;34m(self, value, **kw)\u001b[0m\n\u001b[1;32m   2506\u001b[0m                     \u001b[0mself\u001b[0m\u001b[0;34m.\u001b[0m\u001b[0m_appendWildcardElement\u001b[0m\u001b[0;34m(\u001b[0m\u001b[0mvalue\u001b[0m\u001b[0;34m)\u001b[0m\u001b[0;34m\u001b[0m\u001b[0m\n\u001b[1;32m   2507\u001b[0m                     \u001b[0;32mreturn\u001b[0m \u001b[0mself\u001b[0m\u001b[0;34m\u001b[0m\u001b[0m\n\u001b[0;32m-> 2508\u001b[0;31m                 \u001b[0;32mraise\u001b[0m \u001b[0mpyxb\u001b[0m\u001b[0;34m.\u001b[0m\u001b[0mStructuralBadDocumentError\u001b[0m\u001b[0;34m(\u001b[0m\u001b[0mcontainer\u001b[0m\u001b[0;34m=\u001b[0m\u001b[0mself\u001b[0m\u001b[0;34m,\u001b[0m \u001b[0mcontent\u001b[0m\u001b[0;34m=\u001b[0m\u001b[0mvalue\u001b[0m\u001b[0;34m)\u001b[0m\u001b[0;34m\u001b[0m\u001b[0m\n\u001b[0m\u001b[1;32m   2509\u001b[0m             \u001b[0;31m# Attempt to place the value based on the content model\u001b[0m\u001b[0;34m\u001b[0m\u001b[0;34m\u001b[0m\u001b[0m\n\u001b[1;32m   2510\u001b[0m             \u001b[0mnum_cand\u001b[0m \u001b[0;34m=\u001b[0m \u001b[0mself\u001b[0m\u001b[0;34m.\u001b[0m\u001b[0m__automatonConfiguration\u001b[0m\u001b[0;34m.\u001b[0m\u001b[0mstep\u001b[0m\u001b[0;34m(\u001b[0m\u001b[0mvalue\u001b[0m\u001b[0;34m,\u001b[0m \u001b[0melement_decl\u001b[0m\u001b[0;34m)\u001b[0m\u001b[0;34m\u001b[0m\u001b[0m\n",
      "\u001b[0;31mStructuralBadDocumentError\u001b[0m: <class 'com.ibm.watson.schema.ct_gov.CTD_ANON_17'> cannot accept wildcard content <pyxb.utils.saxdom.Element object at 0x10f89aa50>"
     ]
    }
   ],
   "source": [
    "cs = ClinicalStudy()\n",
    "cs.load_from_file(os.path.join(trials_dir, \"NCT00446550.xml\"))\n",
    "print cs.get_summary()"
   ]
  },
  {
   "cell_type": "code",
   "execution_count": 6,
   "metadata": {
    "collapsed": false
   },
   "outputs": [
    {
     "name": "stdout",
     "output_type": "stream",
     "text": [
      "7\n"
     ]
    }
   ],
   "source": [
    "text = [ (x[\"NCT_ID\"], x[\"TITLE\"], x[\"SUMMARY\"]) for x in db[\"CTGOV\"].find({\"metadata.TAGS\" :  {\"$gt\" : []}}) ]\n",
    "print len(text)"
   ]
  },
  {
   "cell_type": "code",
   "execution_count": 48,
   "metadata": {
    "collapsed": false
   },
   "outputs": [
    {
     "name": "stdout",
     "output_type": "stream",
     "text": [
      "A Phase I Study to Evaluate the Pharmacokinetics and Safety of Repeat Oral Doses of Dabrafenib and the Combination of Dabrafenib With Trametinib in Chinese Subjects With Melanoma\n",
      "(2, 103)\n",
      "(2, 224)\n",
      "72\n",
      "35\n",
      "85\n",
      "96\n"
     ]
    }
   ],
   "source": [
    "print text[0][1]\n",
    "titles = [ x[1] for x in text ]\n",
    "summaries = [ x[2] for x in text ]\n",
    "vectorizer = CountVectorizer(min_df=1)\n",
    "vectorizer2 = CountVectorizer(min_df=1)\n",
    "\n",
    "vectorizer.fit_transform(titles)\n",
    "vectorizer2.fit_transform(summaries)\n",
    "analyze = vectorizer.build_analyzer()\n",
    "feature_names = vectorizer.get_feature_names()\n",
    "\n",
    "new_titles = [\"Study to evaluate Pharmacokinetics safety\", \"Another drug study of Trametinib\"]\n",
    "new_summaries = [\"Pharmacokinetics Evaluate Safety for Oral Doses of Dabrafenib\", \"Oral doses of Trametinib should be limited\"]\n",
    "titles_array = vectorizer.transform(new_titles)\n",
    "summaries_array = vectorizer2.transform(new_summaries)\n",
    "print titles_array.shape\n",
    "print summaries_array.shape\n",
    "combined = hstack([titles_array, summaries_array])\n",
    "#print np.append(titles_array * 2, summaries_array, axis=1).shape\n",
    "print vectorizer.vocabulary_.get('pharmacokinetics')\n",
    "print vectorizer.vocabulary_.get('evaluate')\n",
    "print vectorizer.vocabulary_.get('safety')\n",
    "print vectorizer.vocabulary_.get('trametinib')"
   ]
  },
  {
   "cell_type": "code",
   "execution_count": 51,
   "metadata": {
    "collapsed": false
   },
   "outputs": [
    {
     "name": "stdout",
     "output_type": "stream",
     "text": [
      "[0 1]\n"
     ]
    }
   ],
   "source": [
    "print combined.toarray()[:, 96]"
   ]
  },
  {
   "cell_type": "code",
   "execution_count": 25,
   "metadata": {
    "collapsed": false
   },
   "outputs": [
    {
     "name": "stdout",
     "output_type": "stream",
     "text": [
      "[[1 2]\n",
      " [3 4]]\n",
      "[[5]\n",
      " [6]]\n",
      "[[1 2 5]\n",
      " [3 4 6]]\n"
     ]
    }
   ],
   "source": [
    "array1 = np.array([[1, 2], [3, 4]])\n",
    "array2 = np.array([[5], [6]])\n",
    "print array1\n",
    "print array2\n",
    "array3 = np.append(array1, array2, axis=1)\n",
    "print array3"
   ]
  },
  {
   "cell_type": "code",
   "execution_count": null,
   "metadata": {
    "collapsed": true
   },
   "outputs": [],
   "source": []
  }
 ],
 "metadata": {
  "kernelspec": {
   "display_name": "Python 2",
   "language": "python",
   "name": "python2"
  },
  "language_info": {
   "codemirror_mode": {
    "name": "ipython",
    "version": 2
   },
   "file_extension": ".py",
   "mimetype": "text/x-python",
   "name": "python",
   "nbconvert_exporter": "python",
   "pygments_lexer": "ipython2",
   "version": "2.7.12"
  }
 },
 "nbformat": 4,
 "nbformat_minor": 1
}
