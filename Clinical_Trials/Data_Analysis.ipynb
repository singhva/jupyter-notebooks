{
 "cells": [
  {
   "cell_type": "code",
   "execution_count": 1,
   "metadata": {
    "collapsed": true
   },
   "outputs": [],
   "source": [
    "from pymongo import MongoClient\n",
    "import os, sys, re\n",
    "from nltk import FreqDist\n",
    "import pandas as pd\n",
    "import datetime"
   ]
  },
  {
   "cell_type": "code",
   "execution_count": 2,
   "metadata": {
    "collapsed": true
   },
   "outputs": [],
   "source": [
    "client = MongoClient(\"bioresearch-d1:23001\")\n",
    "db = client.WATSON"
   ]
  },
  {
   "cell_type": "code",
   "execution_count": 3,
   "metadata": {
    "collapsed": false
   },
   "outputs": [
    {
     "name": "stdout",
     "output_type": "stream",
     "text": [
      "[(u'Laboratory Biomarker Analysis', 363), (u'Pharmacological Study', 121), (u'laboratory biomarker analysis', 109), (u'Quality-of-Life Assessment', 65), (u'Placebo', 50), (u'Radiation Therapy', 29), (u'Intensity-Modulated Radiation Therapy', 28), (u'pharmacological study', 27), (u'Therapeutic Conventional Surgery', 19), (u'radiation therapy', 18)]\n",
      "                                    Term  Count\n",
      "0          Laboratory Biomarker Analysis    363\n",
      "1                  Pharmacological Study    121\n",
      "2          laboratory biomarker analysis    109\n",
      "3             Quality-of-Life Assessment     65\n",
      "4                                Placebo     50\n",
      "5                      Radiation Therapy     29\n",
      "6  Intensity-Modulated Radiation Therapy     28\n",
      "7                  pharmacological study     27\n",
      "8       Therapeutic Conventional Surgery     19\n",
      "9                      radiation therapy     18\n"
     ]
    }
   ],
   "source": [
    "interventions_without_id = []\n",
    "for study in db.CTGOV.find({\"metadata.STATUS\":\"PENDING\"}):\n",
    "    temp = [ x[\"NAME\"] for x in study[\"interventions\"] if \"ID\" not in x ]\n",
    "    interventions_without_id.extend(temp)\n",
    "    \n",
    "fdist = FreqDist(interventions_without_id)\n",
    "print fdist.most_common()[:10]\n",
    "df = pd.DataFrame(fdist.most_common(), columns=[\"Term\", \"Count\"])\n",
    "print df[:10]\n",
    "#df.to_excel(\"/Users/singhv/Desktop/trial_stats/common_uncurated_terms.xlsx\", index=False)"
   ]
  },
  {
   "cell_type": "code",
   "execution_count": 4,
   "metadata": {
    "collapsed": false
   },
   "outputs": [
    {
     "name": "stdout",
     "output_type": "stream",
     "text": [
      "676\n"
     ]
    }
   ],
   "source": [
    "print db.CTGOV.find({\"$or\": [{\"interventions.NAME\":\"Laboratory Biomarker Analysis\"}, {\"interventions.NAME\":\"laboratory biomarker analysis\"}]}).count()"
   ]
  },
  {
   "cell_type": "code",
   "execution_count": 5,
   "metadata": {
    "collapsed": false
   },
   "outputs": [
    {
     "name": "stdout",
     "output_type": "stream",
     "text": [
      "600\n"
     ]
    }
   ],
   "source": [
    "lba_only_trials = []\n",
    "top_10 = set([ x.lower() for (x, count) in fdist.most_common()[:10] ])\n",
    "for study in db.CTGOV.find({\"metadata.STATUS\":\"PENDING\"}):\n",
    "    temp = [ x[\"NAME\"] for x in study[\"interventions\"] if \"ID\" not in x ]\n",
    "    #if (len(temp) == 1) and (temp[0].lower() in top_10):\n",
    "    if set(temp).issubset(top_10):\n",
    "        lba_only_trials.append(study[\"NCT_ID\"])\n",
    "        \n",
    "print len(lba_only_trials)\n",
    "#print \"\\n\".join(lba_only_trials)"
   ]
  },
  {
   "cell_type": "code",
   "execution_count": 14,
   "metadata": {
    "collapsed": false
   },
   "outputs": [
    {
     "name": "stdout",
     "output_type": "stream",
     "text": [
      "<class 'pandas.core.series.Series'>\n",
      "                                       Count\n",
      "Laboratory Biomarker Analysis            363\n",
      "Pharmacological Study                    121\n",
      "laboratory biomarker analysis            109\n",
      "Quality-of-Life Assessment                65\n",
      "Placebo                                   50\n",
      "Radiation Therapy                         29\n",
      "Intensity-Modulated Radiation Therapy     28\n",
      "pharmacological study                     27\n",
      "Therapeutic Conventional Surgery          19\n",
      "radiation therapy                         18\n",
      "None\n"
     ]
    }
   ],
   "source": [
    "print type(series.value_counts())\n",
    "df1 = pd.DataFrame(series.value_counts(), columns=[\"Count\"])\n",
    "print df1[:10]\n",
    "print df1.to_excel(\"/Users/singhv/Desktop/trial_stats/common_uncurated_terms-1.xlsx\")\n",
    "#series.value_counts().to_excel(\"/Users/singhv/Desktop/trial_stats/common_uncurated_terms-1.xlsx\")"
   ]
  },
  {
   "cell_type": "code",
   "execution_count": 4,
   "metadata": {
    "collapsed": false
   },
   "outputs": [],
   "source": [
    "for row in df.itertuples():\n",
    "    db.UNRESOLVED.insert_one({\"NAME\" : row[1], \"LAST_UPDATED\" : datetime.datetime.now(), \"COUNT\" : row[2] })"
   ]
  },
  {
   "cell_type": "code",
   "execution_count": null,
   "metadata": {
    "collapsed": true
   },
   "outputs": [],
   "source": []
  }
 ],
 "metadata": {
  "kernelspec": {
   "display_name": "Python 2",
   "language": "python",
   "name": "python2"
  },
  "language_info": {
   "codemirror_mode": {
    "name": "ipython",
    "version": 2
   },
   "file_extension": ".py",
   "mimetype": "text/x-python",
   "name": "python",
   "nbconvert_exporter": "python",
   "pygments_lexer": "ipython2",
   "version": "2.7.12"
  }
 },
 "nbformat": 4,
 "nbformat_minor": 2
}
