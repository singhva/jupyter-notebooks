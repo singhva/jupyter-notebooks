{
 "cells": [
  {
   "cell_type": "code",
   "execution_count": 1,
   "metadata": {
    "collapsed": false
   },
   "outputs": [
    {
     "name": "stderr",
     "output_type": "stream",
     "text": [
      "/Users/singhv/Library/Python/2.7/lib/python/site-packages/matplotlib/font_manager.py:273: UserWarning: Matplotlib is building the font cache using fc-list. This may take a moment.\n",
      "  warnings.warn('Matplotlib is building the font cache using fc-list. This may take a moment.')\n"
     ]
    }
   ],
   "source": [
    "import pymongo, os\n",
    "import pandas as pd\n",
    "import matplotlib.pyplot as plt\n",
    "import numpy as np\n",
    "import re\n",
    "from collections import OrderedDict\n",
    "from com.ibm.watson.umls.umls_db import Mrconso"
   ]
  },
  {
   "cell_type": "code",
   "execution_count": 2,
   "metadata": {
    "collapsed": true
   },
   "outputs": [],
   "source": [
    "client = pymongo.MongoClient('bioresearch-d1', 23001)\n",
    "db = client[\"WATSON\"]"
   ]
  },
  {
   "cell_type": "code",
   "execution_count": 3,
   "metadata": {
    "collapsed": true
   },
   "outputs": [],
   "source": [
    "DESKTOP = os.path.join(os.environ[\"HOME\"], \"Desktop\")\n",
    "base_dir = os.path.join(DESKTOP, \"trial_stats\")\n",
    "#targeted_therapy_trials = [ line.strip() for line in open(os.path.join(base_dir, \"targeted_therapy_ncts.txt\")) if line != \"\" ]\n",
    "#existing_trials = [ line.strip() for line in open(os.path.join(base_dir, \"existing_trials_wfg.txt\")) if line != \"\" ]\n",
    "#cancer_genes = pd.read_csv(os.path.join(base_dir, \"cancer_genes50.txt\"),header=None)[0]\n",
    "#cancer_genes = list(cancer_genes)\n",
    "#new_targeted_therapy_trials = set(targeted_therapy_trials).difference(set(existing_trials))"
   ]
  },
  {
   "cell_type": "code",
   "execution_count": 4,
   "metadata": {
    "collapsed": false
   },
   "outputs": [
    {
     "name": "stdout",
     "output_type": "stream",
     "text": [
      "                                                  Therapy in Quest priory list\n",
      "Therapy_ID                                                                    \n",
      "3058                                           Crenolanib                    Y\n",
      "882                                 CDK_Inhibitor_P276-00                  NaN\n",
      "5127        Anti-TGF-beta_RII_Monoclonal_Antibody_IMC-TR1                  NaN\n",
      "5075                              MDM2_Inhibitor_DS-3032b                  NaN\n",
      "5176                                PI3K_Inhibitor_PX-866                  NaN\n",
      "1070                                          Saracatinib                  NaN\n",
      "4098                              c-Kit_Inhibitor_PLX9486                  NaN\n",
      "4074                      mTOR1/2_Kinase_Inhibitor_ME-344                  NaN\n",
      "700                                           Lysofylline                  NaN\n",
      "156                                            Nintedanib                    Y\n"
     ]
    }
   ],
   "source": [
    "# Read Jia's table containing relevant drugs DRUG ID DRUG_NAME\n",
    "therapy_table = pd.read_excel(os.path.join(base_dir, \"Drugs_to_query_for_trials.xlsx\"), index_col=0)\n",
    "print therapy_table.head(10)"
   ]
  },
  {
   "cell_type": "code",
   "execution_count": 5,
   "metadata": {
    "collapsed": false
   },
   "outputs": [
    {
     "name": "stdout",
     "output_type": "stream",
     "text": [
      "True\n"
     ]
    }
   ],
   "source": [
    "# Querying - if querying based on index don't use the column name instead use DataFrame.index\n",
    "#print therapy_table[ therapy_table['Therapy'] == 'Vorinostat' ]\n",
    "print (therapy_table.index == \"DB02546\").any()"
   ]
  },
  {
   "cell_type": "code",
   "execution_count": null,
   "metadata": {
    "collapsed": false
   },
   "outputs": [],
   "source": [
    "# Reading WGA_ALL_DRUG_GENERAL table from Dev environment dump\n",
    "wga_drugdb_dev_table = pd.read_csv(os.path.join(base_dir, \"WGA_ALL_DRUG_GENERAL3.tsv\"), \n",
    "                                   delimiter=\"\\t\", header=None,\n",
    "                                   names=['THERAPY_ID', 'THERAPY', 'NCI_CODE', 'NCI_MOA', 'NCI_CUI', 'GENERIC_NAME', \n",
    "                                          'FDA_STATUS', 'ALIAS_NAME', 'CODE_NAME', 'ACTIVE', 'RETIRE_DATE', \n",
    "                                          'MANUALLY_REVIEWED', 'FDA_LABEL_INDICATIONS_AND_USAGE', 'CREATED', \n",
    "                                          'THERAPY_SHORT_NAME', 'UMLS_CUI'])\n",
    "#print wga_drugdb_dev_table.head(10)\n",
    "wga_drugdb_dev_table['NCI_CUI'].fillna(\"missing\")"
   ]
  },
  {
   "cell_type": "code",
   "execution_count": null,
   "metadata": {
    "collapsed": false
   },
   "outputs": [],
   "source": [
    "# Adding NCI_CODE, NCIM_CODE and UMLS_CUI columns to Jia's spreadsheet of relevant drugs\n",
    "therapy_to_nci_dict = dict()\n",
    "therapy_to_ncim_dict = dict()\n",
    "therapy_to_umls_dict = dict()\n",
    "for index in therapy_table.index.values:\n",
    "    match = (wga_drugdb_dev_table['THERAPY_ID'] == str(index))\n",
    "    if match.any():\n",
    "        ncim_cui = wga_drugdb_dev_table[match][\"NCI_CUI\"].values[0]\n",
    "        nci_code = wga_drugdb_dev_table[match][\"NCI_CODE\"].values[0]\n",
    "        print \"%s: %s\" % (index, ncim_cui)\n",
    "        if (ncim_cui is not None) and isinstance(ncim_cui, str) and (\"CL\" in ncim_cui):\n",
    "            result = Mrconso.select().where( (Mrconso.code == nci_code) & (Mrconso.sab.contains(\"NCI\")) )   \n",
    "            therapy_to_umls_dict[index] = result.get().cui\n",
    "        else:\n",
    "            therapy_to_umls_dict[index] = ncim_cui\n",
    "        therapy_to_nci_dict[index] = nci_code\n",
    "        therapy_to_ncim_dict[index] = ncim_cui\n",
    "    else:\n",
    "        therapy_to_nci_dict[index] = \"\"\n",
    "        therapy_to_ncim_dict[index] = \"\"\n",
    "        \n",
    "therapy_table[\"NCI_CODE\"] = pd.Series(therapy_to_nci_dict)\n",
    "therapy_table[\"NCIM_CUI\"] = pd.Series(therapy_to_ncim_dict)\n",
    "therapy_table[\"UMLS_CUI\"] = pd.Series(therapy_to_umls_dict)\n",
    "print therapy_table.head(2)"
   ]
  },
  {
   "cell_type": "code",
   "execution_count": null,
   "metadata": {
    "collapsed": false
   },
   "outputs": [],
   "source": [
    "#print wga_drugdb_dev_table[wga_drugdb_dev_table['THERAPY_ID'] == '3203'][\"NCI_CODE\"]\n",
    "#print wga_drugdb_dev_table[wga_drugdb_dev_table['NCI_CUI'].str.contains(\"nib\", case=False)]\n",
    "print therapy_table[ therapy_table['Therapy'] == 'Danusertib' ]\n",
    "therapy_table.to_excel(os.path.join(base_dir, \"Drugs_to_query_for_trials_MODIFIED.xlsx\"))"
   ]
  },
  {
   "cell_type": "code",
   "execution_count": 2,
   "metadata": {
    "collapsed": false
   },
   "outputs": [],
   "source": [
    "result = Mrconso.select().where( (Mrconso.cui == \"C0732355\") & (Mrconso.sab.contains(\"NCI\")) &\n",
    "                               (Mrconso.tty == \"PT\") & (Mrconso.isPref == \"Y\"))\n",
    "if result:\n",
    "    print result.get().str"
   ]
  },
  {
   "cell_type": "code",
   "execution_count": null,
   "metadata": {
    "collapsed": false
   },
   "outputs": [],
   "source": [
    "#quest_drugs = pd.read_excel(os.path.join(base_dir, \"Drugs_for_Quest_Panel.tsv\"))\n",
    "#new_studies = db[\"CTGOV\"].find({\"NCT_ID\" : {\"$in\" : list(new_targeted_therapy_trials)}, \"COUNTRIES\" : \"United States\"})\n",
    "new_studies = db[\"CTGOV\"].find({\"metadata.STATUS\" : \"NEW\", \"STATUS\" : {\"$ne\" : \"Terminated\"}, \"COUNTRIES\" : \"United States\"})\n",
    "all_drug_to_trial_dicts = []\n",
    "studies_count_based_on_drug = dict()\n",
    "for study in new_studies:\n",
    "    temp = []\n",
    "    for intervention in study[\"interventions\"]:\n",
    "        nci_code = None\n",
    "        wga_drug_id = intervention.get(\"WGADB_ID\")\n",
    "        if \"ID\" in intervention:\n",
    "            result = Mrconso.select().where( (Mrconso.cui == intervention[\"ID\"]) & (Mrconso.sab.contains(\"NCI\")) )\n",
    "            if result:\n",
    "                nci_code = result.get().code\n",
    "        if (wga_drug_id is not None) or (nci_code is not None):\n",
    "            temp.append( (wga_drug_id, nci_code, study[\"NCT_ID\"]) )              \n",
    "    all_drug_to_trial_dicts.extend(temp)\n",
    "    \n",
    "print all_drug_to_trial_dicts[:10]"
   ]
  },
  {
   "cell_type": "code",
   "execution_count": null,
   "metadata": {
    "collapsed": false
   },
   "outputs": [],
   "source": [
    "for (wga_drug_id, nci_code, nct_id) in all_drug_to_trial_dicts:\n",
    "    if ( (therapy_table[\"NCI_CODE\"] == nci_code).any() ) or ( (therapy_table.index == wga_drug_id).any() ):\n",
    "        if wga_drug_id in studies_count_based_on_drug:\n",
    "            studies_count_based_on_drug[wga_drug_id].append(nct_id)\n",
    "        else:\n",
    "            studies_count_based_on_drug[wga_drug_id] = [nct_id]"
   ]
  },
  {
   "cell_type": "code",
   "execution_count": null,
   "metadata": {
    "collapsed": false
   },
   "outputs": [],
   "source": [
    "country_counts = dict()\n",
    "for study in db[\"CTGOV\"].find({\"NCT_ID\" : {\"$in\" : targeted_therapy_trials}}):\n",
    "    for country in set(study[\"COUNTRIES\"]):\n",
    "        if country in country_counts: \n",
    "            country_counts[country].append(study[\"NCT_ID\"])\n",
    "        else:\n",
    "            country_counts[country] = [study[\"NCT_ID\"]]\n",
    "            \n",
    "country_counts = OrderedDict(sorted(country_counts.items(), key=lambda x: len(x[1]), reverse=True))"
   ]
  },
  {
   "cell_type": "code",
   "execution_count": null,
   "metadata": {
    "collapsed": false
   },
   "outputs": [],
   "source": [
    "top10_countries = [ x[0] for x in country_counts[:10] ]\n",
    "top10_count = [ len(x[1]) for x in country_counts[:10] ]\n",
    "print top10_count"
   ]
  },
  {
   "cell_type": "code",
   "execution_count": null,
   "metadata": {
    "collapsed": false
   },
   "outputs": [],
   "source": [
    "ind = np.arange(len(country_counts))\n",
    "#print ind\n",
    "width = 0.35\n",
    "plt.figure(figsize=(20,10))\n",
    "rects = plt.bar(ind, [len(x) for x in country_counts.values()])\n",
    "plt.xticks(ind + width, country_counts.keys(), rotation='vertical')\n",
    "plt.show()"
   ]
  },
  {
   "cell_type": "code",
   "execution_count": null,
   "metadata": {
    "collapsed": false
   },
   "outputs": [],
   "source": [
    "temp = []\n",
    "[ temp.extend(value) for key, value in studies_count_based_on_drug.iteritems() if key is not None  ]\n",
    "print len(set(temp))\n",
    "#db[\"CTGOV\"].update_many({\"NCT_ID\" : {\"$in\" : temp}}, {\"$set\" : {\"metadata.REVIEWER\" : \"pmcneil\"}})\n",
    "#with open(os.path.join(base_dir, \"all_quest_trial_Nov17.txt\"), \"wb\") as f:\n",
    "#    [f.write(nct_id + \"\\n\") for nct_id in set(temp)]\n",
    "#print studies_count_based_on_drug[\"DB08916\"]\n",
    "with open(os.path.join(base_dir, \"all_inscope_drug_trials.tsv\"), \"wb\") as f:\n",
    "    for drug_id in studies_count_based_on_drug.keys():\n",
    "        #print drug_id\n",
    "        if drug_id is not None:\n",
    "            f.write(\"\\t\".join([drug_id] + list(set(studies_count_based_on_drug.get(drug_id, []))) + [\"\\n\"]))"
   ]
  },
  {
   "cell_type": "code",
   "execution_count": null,
   "metadata": {
    "collapsed": false
   },
   "outputs": [],
   "source": [
    "studies_count_based_on_drug = OrderedDict(sorted(studies_count_based_on_drug.items(), key=lambda t: len(t[1])))\n",
    "ind = np.arange(len(studies_count_based_on_drug))\n",
    "width = 0.35\n",
    "plt.figure(figsize=(20,10))\n",
    "rects = plt.bar(ind, [ len(x) for x in studies_count_based_on_drug.values() ])\n",
    "plt.xticks(ind + width, studies_count_based_on_drug.keys(), rotation='vertical')\n",
    "plt.xlabel('WGA Drug ID', fontsize=18)\n",
    "plt.ylabel('Number of Trials', fontsize=16)\n",
    "plt.show()"
   ]
  },
  {
   "cell_type": "code",
   "execution_count": null,
   "metadata": {
    "collapsed": false
   },
   "outputs": [],
   "source": [
    "df = pd.DataFrame({\"NCT_IDS\": [\", \".join(nct_ids) for nct_ids in studies_count_based_on_drug.values()]}, index=studies_count_based_on_drug.keys())\n",
    "print studies_count_based_on_drug.keys()"
   ]
  },
  {
   "cell_type": "code",
   "execution_count": null,
   "metadata": {
    "collapsed": false
   },
   "outputs": [],
   "source": [
    "df.to_csv(os.path.join(base_dir,\"quest_drug_trials_v2.tsv\"), sep=\"\\t\")"
   ]
  },
  {
   "cell_type": "code",
   "execution_count": null,
   "metadata": {
    "collapsed": false
   },
   "outputs": [],
   "source": [
    "lead_sponsors_dict = dict()\n",
    "collaborators_dict = dict()\n",
    "for study in db[\"CTGOV\"].find({\"NCT_ID\" : {\"$in\" : list(new_targeted_therapy_trials)}, \"COUNTRIES\" : \"United States\"}):\n",
    "    lead_sponsor = study[\"leadSponsor\"][\"AGENCY\"]\n",
    "    lead_sponsors_dict[lead_sponsor] = lead_sponsors_dict.get(lead_sponsor, 0) + 1\n",
    "    for collaborator in study[\"collaborators\"]:\n",
    "        collaborators_dict[collaborator[\"AGENCY\"]] = collaborators_dict.get(collaborator[\"AGENCY\"], 0) + 1\n",
    "        \n",
    "lead_sponsors_dict = OrderedDict(sorted(lead_sponsors_dict.items(), key=lambda t: t[1], reverse=True))\n",
    "ind = np.arange(50)\n",
    "width = 0.35\n",
    "plt.figure(figsize=(20,10))\n",
    "rects = plt.bar(ind, lead_sponsors_dict.values()[:50])\n",
    "plt.xticks(ind + width, lead_sponsors_dict.keys()[:50], rotation='vertical')\n",
    "plt.xlabel('Lead Sponsor', fontsize=18)\n",
    "plt.ylabel('Number of Trials', fontsize=16)\n",
    "plt.show()"
   ]
  },
  {
   "cell_type": "code",
   "execution_count": null,
   "metadata": {
    "collapsed": false
   },
   "outputs": [],
   "source": [
    "collaborators_dict = OrderedDict(sorted(collaborators_dict.items(), key=lambda t: t[1], reverse=True))\n",
    "ind = np.arange(50)\n",
    "width = 0.35\n",
    "plt.figure(figsize=(20,10))\n",
    "rects = plt.bar(ind, collaborators_dict.values()[:50])\n",
    "plt.xticks(ind + width, collaborators_dict.keys()[:50], rotation='vertical')\n",
    "plt.xlabel('Collaborator', fontsize=18)\n",
    "plt.ylabel('Number of Trials', fontsize=16)\n",
    "plt.show()"
   ]
  },
  {
   "cell_type": "code",
   "execution_count": null,
   "metadata": {
    "collapsed": true
   },
   "outputs": [],
   "source": []
  }
 ],
 "metadata": {
  "kernelspec": {
   "display_name": "Python 2",
   "language": "python",
   "name": "python2"
  },
  "language_info": {
   "codemirror_mode": {
    "name": "ipython",
    "version": 2
   },
   "file_extension": ".py",
   "mimetype": "text/x-python",
   "name": "python",
   "nbconvert_exporter": "python",
   "pygments_lexer": "ipython2",
   "version": "2.7.12"
  }
 },
 "nbformat": 4,
 "nbformat_minor": 1
}
