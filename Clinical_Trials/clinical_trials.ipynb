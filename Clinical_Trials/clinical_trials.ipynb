{
 "cells": [
  {
   "cell_type": "code",
   "execution_count": 1,
   "metadata": {
    "collapsed": true
   },
   "outputs": [],
   "source": [
    "import pymongo, os\n",
    "import pandas as pd\n",
    "import re"
   ]
  },
  {
   "cell_type": "code",
   "execution_count": 2,
   "metadata": {
    "collapsed": true
   },
   "outputs": [],
   "source": [
    "client = pymongo.MongoClient('localhost', 27017)"
   ]
  },
  {
   "cell_type": "code",
   "execution_count": 3,
   "metadata": {
    "collapsed": true
   },
   "outputs": [],
   "source": [
    "db = client[\"WATSON\"]"
   ]
  },
  {
   "cell_type": "code",
   "execution_count": 4,
   "metadata": {
    "collapsed": false
   },
   "outputs": [],
   "source": [
    "DESKTOP = os.path.join(os.environ[\"HOME\"], \"Desktop\")\n",
    "base_dir = os.path.join(DESKTOP, \"trial_stats\")\n",
    "targeted_therapy_trials = [ line.strip() for line in open(os.path.join(base_dir, \"targeted_therapy_ncts.txt\")) if line != \"\" ]\n",
    "existing_trials = [ line.strip() for line in open(os.path.join(base_dir, \"existing_trials_wfg.txt\")) if line != \"\" ]\n",
    "cancer_genes = pd.read_csv(os.path.join(base_dir, \"cancer_genes50.txt\"),header=None)[0]\n",
    "cancer_genes = list(cancer_genes)\n",
    "new_targeted_therapy_trials = set(targeted_therapy_trials).difference(set(existing_trials))"
   ]
  },
  {
   "cell_type": "code",
   "execution_count": 5,
   "metadata": {
    "collapsed": true
   },
   "outputs": [],
   "source": [
    "studies = db[\"CTGOV\"].find({\"NCT_ID\" : {\"$in\" : targeted_therapy_trials}})"
   ]
  },
  {
   "cell_type": "code",
   "execution_count": 6,
   "metadata": {
    "collapsed": false
   },
   "outputs": [],
   "source": [
    "df = pd.DataFrame(list(studies))"
   ]
  },
  {
   "cell_type": "code",
   "execution_count": 7,
   "metadata": {
    "collapsed": false
   },
   "outputs": [],
   "source": [
    "all_countries = []\n",
    "for countries in df[\"COUNTRIES\"]:\n",
    "    all_countries.extend(countries)\n",
    "    \n",
    "all_countries = set(all_countries)"
   ]
  },
  {
   "cell_type": "code",
   "execution_count": 11,
   "metadata": {
    "collapsed": false
   },
   "outputs": [
    {
     "data": {
      "text/plain": [
       "4681"
      ]
     },
     "execution_count": 11,
     "metadata": {},
     "output_type": "execute_result"
    }
   ],
   "source": [
    "len(df[\"NCT_ID\"])"
   ]
  },
  {
   "cell_type": "code",
   "execution_count": 17,
   "metadata": {
    "collapsed": false
   },
   "outputs": [
    {
     "data": {
      "text/html": [
       "<div>\n",
       "<table border=\"1\" class=\"dataframe\">\n",
       "  <thead>\n",
       "    <tr style=\"text-align: right;\">\n",
       "      <th>NCT_ID</th>\n",
       "      <th>NCT00001337</th>\n",
       "      <th>NCT00001379</th>\n",
       "      <th>NCT00003553</th>\n",
       "      <th>NCT00006436</th>\n",
       "      <th>NCT00026078</th>\n",
       "      <th>NCT00073957</th>\n",
       "      <th>NCT00074282</th>\n",
       "      <th>NCT00075387</th>\n",
       "      <th>NCT00091234</th>\n",
       "      <th>NCT00104676</th>\n",
       "      <th>...</th>\n",
       "      <th>NCT02882984</th>\n",
       "      <th>NCT02883556</th>\n",
       "      <th>NCT02884648</th>\n",
       "      <th>NCT02885324</th>\n",
       "      <th>NCT02885727</th>\n",
       "      <th>NCT02885753</th>\n",
       "      <th>NCT02885974</th>\n",
       "      <th>NCT02886000</th>\n",
       "      <th>NCT02886065</th>\n",
       "      <th>NCT02887040</th>\n",
       "    </tr>\n",
       "    <tr>\n",
       "      <th>STATUS</th>\n",
       "      <th></th>\n",
       "      <th></th>\n",
       "      <th></th>\n",
       "      <th></th>\n",
       "      <th></th>\n",
       "      <th></th>\n",
       "      <th></th>\n",
       "      <th></th>\n",
       "      <th></th>\n",
       "      <th></th>\n",
       "      <th></th>\n",
       "      <th></th>\n",
       "      <th></th>\n",
       "      <th></th>\n",
       "      <th></th>\n",
       "      <th></th>\n",
       "      <th></th>\n",
       "      <th></th>\n",
       "      <th></th>\n",
       "      <th></th>\n",
       "      <th></th>\n",
       "    </tr>\n",
       "  </thead>\n",
       "  <tbody>\n",
       "    <tr>\n",
       "      <th>Active, not recruiting</th>\n",
       "      <td>None</td>\n",
       "      <td>None</td>\n",
       "      <td>None</td>\n",
       "      <td>None</td>\n",
       "      <td>None</td>\n",
       "      <td>None</td>\n",
       "      <td>None</td>\n",
       "      <td>None</td>\n",
       "      <td>None</td>\n",
       "      <td>None</td>\n",
       "      <td>...</td>\n",
       "      <td>None</td>\n",
       "      <td>None</td>\n",
       "      <td>None</td>\n",
       "      <td>None</td>\n",
       "      <td>None</td>\n",
       "      <td>None</td>\n",
       "      <td>None</td>\n",
       "      <td>None</td>\n",
       "      <td>None</td>\n",
       "      <td>None</td>\n",
       "    </tr>\n",
       "    <tr>\n",
       "      <th>Completed</th>\n",
       "      <td>None</td>\n",
       "      <td>None</td>\n",
       "      <td>None</td>\n",
       "      <td>None</td>\n",
       "      <td>None</td>\n",
       "      <td>None</td>\n",
       "      <td>None</td>\n",
       "      <td>None</td>\n",
       "      <td>None</td>\n",
       "      <td>None</td>\n",
       "      <td>...</td>\n",
       "      <td>None</td>\n",
       "      <td>None</td>\n",
       "      <td>None</td>\n",
       "      <td>None</td>\n",
       "      <td>None</td>\n",
       "      <td>None</td>\n",
       "      <td>None</td>\n",
       "      <td>None</td>\n",
       "      <td>None</td>\n",
       "      <td>None</td>\n",
       "    </tr>\n",
       "    <tr>\n",
       "      <th>Enrolling by invitation</th>\n",
       "      <td>None</td>\n",
       "      <td>None</td>\n",
       "      <td>None</td>\n",
       "      <td>None</td>\n",
       "      <td>None</td>\n",
       "      <td>None</td>\n",
       "      <td>None</td>\n",
       "      <td>None</td>\n",
       "      <td>None</td>\n",
       "      <td>None</td>\n",
       "      <td>...</td>\n",
       "      <td>None</td>\n",
       "      <td>None</td>\n",
       "      <td>None</td>\n",
       "      <td>None</td>\n",
       "      <td>None</td>\n",
       "      <td>None</td>\n",
       "      <td>None</td>\n",
       "      <td>None</td>\n",
       "      <td>None</td>\n",
       "      <td>None</td>\n",
       "    </tr>\n",
       "    <tr>\n",
       "      <th>Not yet recruiting</th>\n",
       "      <td>None</td>\n",
       "      <td>None</td>\n",
       "      <td>None</td>\n",
       "      <td>None</td>\n",
       "      <td>None</td>\n",
       "      <td>None</td>\n",
       "      <td>None</td>\n",
       "      <td>None</td>\n",
       "      <td>None</td>\n",
       "      <td>None</td>\n",
       "      <td>...</td>\n",
       "      <td>None</td>\n",
       "      <td>[]</td>\n",
       "      <td>[United States]</td>\n",
       "      <td>[United States]</td>\n",
       "      <td>[]</td>\n",
       "      <td>[]</td>\n",
       "      <td>[United States]</td>\n",
       "      <td>None</td>\n",
       "      <td>[United States]</td>\n",
       "      <td>[]</td>\n",
       "    </tr>\n",
       "    <tr>\n",
       "      <th>Recruiting</th>\n",
       "      <td>[United States]</td>\n",
       "      <td>[United States]</td>\n",
       "      <td>[United States]</td>\n",
       "      <td>[United States]</td>\n",
       "      <td>[Argentina, Mexico]</td>\n",
       "      <td>[United States]</td>\n",
       "      <td>[United States]</td>\n",
       "      <td>[United States]</td>\n",
       "      <td>[Belgium, Italy, Netherlands]</td>\n",
       "      <td>[France, Slovakia, United States]</td>\n",
       "      <td>...</td>\n",
       "      <td>[China]</td>\n",
       "      <td>None</td>\n",
       "      <td>None</td>\n",
       "      <td>None</td>\n",
       "      <td>None</td>\n",
       "      <td>None</td>\n",
       "      <td>None</td>\n",
       "      <td>[Puerto Rico, United States]</td>\n",
       "      <td>None</td>\n",
       "      <td>None</td>\n",
       "    </tr>\n",
       "    <tr>\n",
       "      <th>Suspended</th>\n",
       "      <td>None</td>\n",
       "      <td>None</td>\n",
       "      <td>None</td>\n",
       "      <td>None</td>\n",
       "      <td>None</td>\n",
       "      <td>None</td>\n",
       "      <td>None</td>\n",
       "      <td>None</td>\n",
       "      <td>None</td>\n",
       "      <td>None</td>\n",
       "      <td>...</td>\n",
       "      <td>None</td>\n",
       "      <td>None</td>\n",
       "      <td>None</td>\n",
       "      <td>None</td>\n",
       "      <td>None</td>\n",
       "      <td>None</td>\n",
       "      <td>None</td>\n",
       "      <td>None</td>\n",
       "      <td>None</td>\n",
       "      <td>None</td>\n",
       "    </tr>\n",
       "    <tr>\n",
       "      <th>Terminated</th>\n",
       "      <td>None</td>\n",
       "      <td>None</td>\n",
       "      <td>None</td>\n",
       "      <td>None</td>\n",
       "      <td>None</td>\n",
       "      <td>None</td>\n",
       "      <td>None</td>\n",
       "      <td>None</td>\n",
       "      <td>None</td>\n",
       "      <td>None</td>\n",
       "      <td>...</td>\n",
       "      <td>None</td>\n",
       "      <td>None</td>\n",
       "      <td>None</td>\n",
       "      <td>None</td>\n",
       "      <td>None</td>\n",
       "      <td>None</td>\n",
       "      <td>None</td>\n",
       "      <td>None</td>\n",
       "      <td>None</td>\n",
       "      <td>None</td>\n",
       "    </tr>\n",
       "    <tr>\n",
       "      <th>Withdrawn</th>\n",
       "      <td>None</td>\n",
       "      <td>None</td>\n",
       "      <td>None</td>\n",
       "      <td>None</td>\n",
       "      <td>None</td>\n",
       "      <td>None</td>\n",
       "      <td>None</td>\n",
       "      <td>None</td>\n",
       "      <td>None</td>\n",
       "      <td>None</td>\n",
       "      <td>...</td>\n",
       "      <td>None</td>\n",
       "      <td>None</td>\n",
       "      <td>None</td>\n",
       "      <td>None</td>\n",
       "      <td>None</td>\n",
       "      <td>None</td>\n",
       "      <td>None</td>\n",
       "      <td>None</td>\n",
       "      <td>None</td>\n",
       "      <td>None</td>\n",
       "    </tr>\n",
       "  </tbody>\n",
       "</table>\n",
       "<p>8 rows × 4681 columns</p>\n",
       "</div>"
      ],
      "text/plain": [
       "NCT_ID                       NCT00001337      NCT00001379      NCT00003553  \\\n",
       "STATUS                                                                       \n",
       "Active, not recruiting              None             None             None   \n",
       "Completed                           None             None             None   \n",
       "Enrolling by invitation             None             None             None   \n",
       "Not yet recruiting                  None             None             None   \n",
       "Recruiting               [United States]  [United States]  [United States]   \n",
       "Suspended                           None             None             None   \n",
       "Terminated                          None             None             None   \n",
       "Withdrawn                           None             None             None   \n",
       "\n",
       "NCT_ID                       NCT00006436          NCT00026078  \\\n",
       "STATUS                                                          \n",
       "Active, not recruiting              None                 None   \n",
       "Completed                           None                 None   \n",
       "Enrolling by invitation             None                 None   \n",
       "Not yet recruiting                  None                 None   \n",
       "Recruiting               [United States]  [Argentina, Mexico]   \n",
       "Suspended                           None                 None   \n",
       "Terminated                          None                 None   \n",
       "Withdrawn                           None                 None   \n",
       "\n",
       "NCT_ID                       NCT00073957      NCT00074282      NCT00075387  \\\n",
       "STATUS                                                                       \n",
       "Active, not recruiting              None             None             None   \n",
       "Completed                           None             None             None   \n",
       "Enrolling by invitation             None             None             None   \n",
       "Not yet recruiting                  None             None             None   \n",
       "Recruiting               [United States]  [United States]  [United States]   \n",
       "Suspended                           None             None             None   \n",
       "Terminated                          None             None             None   \n",
       "Withdrawn                           None             None             None   \n",
       "\n",
       "NCT_ID                                     NCT00091234  \\\n",
       "STATUS                                                   \n",
       "Active, not recruiting                            None   \n",
       "Completed                                         None   \n",
       "Enrolling by invitation                           None   \n",
       "Not yet recruiting                                None   \n",
       "Recruiting               [Belgium, Italy, Netherlands]   \n",
       "Suspended                                         None   \n",
       "Terminated                                        None   \n",
       "Withdrawn                                         None   \n",
       "\n",
       "NCT_ID                                         NCT00104676     ...      \\\n",
       "STATUS                                                         ...       \n",
       "Active, not recruiting                                None     ...       \n",
       "Completed                                             None     ...       \n",
       "Enrolling by invitation                               None     ...       \n",
       "Not yet recruiting                                    None     ...       \n",
       "Recruiting               [France, Slovakia, United States]     ...       \n",
       "Suspended                                             None     ...       \n",
       "Terminated                                            None     ...       \n",
       "Withdrawn                                             None     ...       \n",
       "\n",
       "NCT_ID                  NCT02882984 NCT02883556      NCT02884648  \\\n",
       "STATUS                                                             \n",
       "Active, not recruiting         None        None             None   \n",
       "Completed                      None        None             None   \n",
       "Enrolling by invitation        None        None             None   \n",
       "Not yet recruiting             None          []  [United States]   \n",
       "Recruiting                  [China]        None             None   \n",
       "Suspended                      None        None             None   \n",
       "Terminated                     None        None             None   \n",
       "Withdrawn                      None        None             None   \n",
       "\n",
       "NCT_ID                       NCT02885324 NCT02885727 NCT02885753  \\\n",
       "STATUS                                                             \n",
       "Active, not recruiting              None        None        None   \n",
       "Completed                           None        None        None   \n",
       "Enrolling by invitation             None        None        None   \n",
       "Not yet recruiting       [United States]          []          []   \n",
       "Recruiting                          None        None        None   \n",
       "Suspended                           None        None        None   \n",
       "Terminated                          None        None        None   \n",
       "Withdrawn                           None        None        None   \n",
       "\n",
       "NCT_ID                       NCT02885974                   NCT02886000  \\\n",
       "STATUS                                                                   \n",
       "Active, not recruiting              None                          None   \n",
       "Completed                           None                          None   \n",
       "Enrolling by invitation             None                          None   \n",
       "Not yet recruiting       [United States]                          None   \n",
       "Recruiting                          None  [Puerto Rico, United States]   \n",
       "Suspended                           None                          None   \n",
       "Terminated                          None                          None   \n",
       "Withdrawn                           None                          None   \n",
       "\n",
       "NCT_ID                       NCT02886065 NCT02887040  \n",
       "STATUS                                                \n",
       "Active, not recruiting              None        None  \n",
       "Completed                           None        None  \n",
       "Enrolling by invitation             None        None  \n",
       "Not yet recruiting       [United States]          []  \n",
       "Recruiting                          None        None  \n",
       "Suspended                           None        None  \n",
       "Terminated                          None        None  \n",
       "Withdrawn                           None        None  \n",
       "\n",
       "[8 rows x 4681 columns]"
      ]
     },
     "execution_count": 17,
     "metadata": {},
     "output_type": "execute_result"
    }
   ],
   "source": [
    "df.pivot(index='STATUS', columns='NCT_ID', values='COUNTRIES')"
   ]
  },
  {
   "cell_type": "code",
   "execution_count": 36,
   "metadata": {
    "collapsed": false
   },
   "outputs": [],
   "source": [
    "grouped=df.groupby(['STATUS'])"
   ]
  },
  {
   "cell_type": "code",
   "execution_count": 37,
   "metadata": {
    "collapsed": false
   },
   "outputs": [
    {
     "name": "stdout",
     "output_type": "stream",
     "text": [
      "STATUS\n",
      "Active, not recruiting      312\n",
      "Completed                    33\n",
      "Enrolling by invitation       5\n",
      "Not yet recruiting          594\n",
      "Recruiting                 3643\n",
      "Suspended                    34\n",
      "Terminated                   41\n",
      "Withdrawn                    19\n",
      "dtype: int64\n"
     ]
    }
   ],
   "source": [
    "print grouped.size()"
   ]
  },
  {
   "cell_type": "code",
   "execution_count": 16,
   "metadata": {
    "collapsed": false
   },
   "outputs": [],
   "source": [
    "drug_db = pd.read_csv(os.path.join(base_dir, \"WGA_ALL_DRUG_GENERAL.tsv\"), delimiter=\"\\t\", header=None)"
   ]
  },
  {
   "cell_type": "code",
   "execution_count": 85,
   "metadata": {
    "collapsed": false
   },
   "outputs": [
    {
     "data": {
      "text/plain": [
       "True"
      ]
     },
     "execution_count": 85,
     "metadata": {},
     "output_type": "execute_result"
    }
   ],
   "source": [
    "#wga_db_ids = list(drug_db[0])\n",
    "((drug_db[0] == \"DB00888\") & (drug_db[9] == \"N\")).any()"
   ]
  },
  {
   "cell_type": "code",
   "execution_count": 9,
   "metadata": {
    "collapsed": true
   },
   "outputs": [],
   "source": [
    "new_targeted_therapy_trials = set(targeted_therapy_trials).difference(set(existing_trials))"
   ]
  },
  {
   "cell_type": "code",
   "execution_count": 10,
   "metadata": {
    "collapsed": false
   },
   "outputs": [],
   "source": [
    "db_genes = []\n",
    "for record in db.GENE.find({\"SYMBOL\": {\"$in\" : cancer_genes}}):\n",
    "    db_genes += [ alias.strip() for alias in record[\"ALIAS\"] if alias.strip() != \"\"]"
   ]
  },
  {
   "cell_type": "code",
   "execution_count": 11,
   "metadata": {
    "collapsed": false
   },
   "outputs": [
    {
     "name": "stdout",
     "output_type": "stream",
     "text": [
      "[]\n"
     ]
    }
   ],
   "source": [
    "GENE_REGEX = re.compile(\"|\".join([\"\\\\b\"+gene+\"\\\\b\" for gene in cancer_genes + db_genes]))\n",
    "text = \"PATIENT CHARACTERISTICS:\"\n",
    "print GENE_REGEX.findall(text)"
   ]
  },
  {
   "cell_type": "code",
   "execution_count": 17,
   "metadata": {
    "collapsed": false
   },
   "outputs": [
    {
     "name": "stdout",
     "output_type": "stream",
     "text": [
      "1398\n"
     ]
    }
   ],
   "source": [
    "new_studies = db[\"CTGOV\"].find({\"NCT_ID\" : {\"$in\" : list(new_targeted_therapy_trials)}, \"COUNTRIES\" : \"United States\"})\n",
    "print new_studies.count()\n",
    "\n",
    "trials_of_interest = pd.DataFrame()\n",
    "column_genes = []\n",
    "column_drugs = []\n",
    "column_trial = []\n",
    "for study in new_studies:\n",
    "    temp_drugs = [ intervention[\"NAME\"] for intervention in study[\"interventions\"] if ((drug_db[0] == intervention.get(\"WGADB_ID\", \"\")) & (drug_db[9] == \"Y\")).any() ]\n",
    "    temp_genes = set(GENE_REGEX.findall(study[\"inclusion\"][\"annotation\"].get(\"text\", \"\") + \"\\n\" + study[\"exclusion\"][\"annotation\"].get(\"text\", \"\")))\n",
    "    column_drugs.append(\", \".join(temp_drugs))\n",
    "    column_genes.append(\", \".join(temp_genes))\n",
    "    column_trial.append(study[\"NCT_ID\"])\n",
    "    \n",
    "trials_of_interest[\"NCT_ID\"] = column_trial\n",
    "trials_of_interest[\"GENES\"] = column_genes\n",
    "trials_of_interest['DRUGS'] = column_drugs"
   ]
  },
  {
   "cell_type": "code",
   "execution_count": 18,
   "metadata": {
    "collapsed": true
   },
   "outputs": [],
   "source": [
    "trials_of_interest.to_csv(os.path.join(base_dir,\"trials_of_interest.csv\"))"
   ]
  },
  {
   "cell_type": "code",
   "execution_count": 141,
   "metadata": {
    "collapsed": false
   },
   "outputs": [
    {
     "name": "stdout",
     "output_type": "stream",
     "text": [
      "0         5088\n",
      "1          570\n",
      "2         4019\n",
      "3         4029\n",
      "4         3303\n",
      "5         5102\n",
      "6         5060\n",
      "7         1059\n",
      "8         1037\n",
      "9         5199\n",
      "10     DB05773\n",
      "11     DB08875\n",
      "12        5045\n",
      "13     DB00002\n",
      "14        4128\n",
      "15         359\n",
      "16        5017\n",
      "17     DB08877\n",
      "18        5065\n",
      "19        5014\n",
      "20        4104\n",
      "21        5188\n",
      "22        5058\n",
      "23         648\n",
      "24         820\n",
      "25         263\n",
      "26        5165\n",
      "27        4083\n",
      "28         335\n",
      "29         129\n",
      "        ...   \n",
      "243       3058\n",
      "244       5193\n",
      "245    DB06589\n",
      "246       4080\n",
      "247       3026\n",
      "248       4115\n",
      "249       1000\n",
      "250        649\n",
      "251       4428\n",
      "252       5215\n",
      "253       5084\n",
      "254        726\n",
      "255       5220\n",
      "256    DB06626\n",
      "257    DB02546\n",
      "258       4097\n",
      "259       5194\n",
      "260       5238\n",
      "261       5159\n",
      "262       5206\n",
      "263       5039\n",
      "264        156\n",
      "265       5126\n",
      "266       1069\n",
      "267    DB01268\n",
      "268        549\n",
      "269       1281\n",
      "270       4017\n",
      "271       4058\n",
      "272       1197\n",
      "Name: Therapy ID, dtype: object\n"
     ]
    }
   ],
   "source": [
    "quest_drugs = pd.read_csv(os.path.join(base_dir, \"Drugs_for_Quest_Panel.tsv\"), delimiter=\"\\t\")\n",
    "print quest_drugs[\"Therapy ID\"]\n",
    "new_studies = db[\"CTGOV\"].find({\"NCT_ID\" : {\"$in\" : list(new_targeted_therapy_trials)}, \"COUNTRIES\" : \"United States\"})\n",
    "all_drug_to_trial_dicts = []\n",
    "for study in new_studies:\n",
    "    wga_drug_ids = [ intervention.get(\"WGADB_ID\") for intervention in study[\"interventions\"] if \"WGADB_ID\" in intervention ]\n",
    "    temp = [ (wga_drug_id, study[\"NCT_ID\"]) for wga_drug_id in wga_drug_ids ]\n",
    "    all_drug_to_trial_dicts.append(temp)\n",
    "    \n"
   ]
  },
  {
   "cell_type": "code",
   "execution_count": null,
   "metadata": {
    "collapsed": true
   },
   "outputs": [],
   "source": []
  }
 ],
 "metadata": {
  "kernelspec": {
   "display_name": "Python 2",
   "language": "python",
   "name": "python2"
  },
  "language_info": {
   "codemirror_mode": {
    "name": "ipython",
    "version": 2
   },
   "file_extension": ".py",
   "mimetype": "text/x-python",
   "name": "python",
   "nbconvert_exporter": "python",
   "pygments_lexer": "ipython2",
   "version": "2.7.12"
  }
 },
 "nbformat": 4,
 "nbformat_minor": 1
}
